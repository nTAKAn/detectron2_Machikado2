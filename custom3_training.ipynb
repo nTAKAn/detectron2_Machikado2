{
 "cells": [
  {
   "cell_type": "markdown",
   "metadata": {},
   "source": [
    "# 続・detectron2 for まちカドまぞく ～カスタム訓練編～\n",
    "\n",
    "<img src=\"https://user-images.githubusercontent.com/33882378/79110283-0f737980-7db5-11ea-89b0-3b6b19ae1716.jpg\">\n",
    "\n",
    "detectron2 の訓練をカスタマイズする方法\n",
    "\n",
    "ここでは、「カスタムトレーナー」を作りますが、今までの工程では一番楽でした。。\n",
    "\n",
    "---"
   ]
  },
  {
   "cell_type": "code",
   "execution_count": 1,
   "metadata": {},
   "outputs": [],
   "source": [
    "import os\n",
    "import numpy as np\n",
    "import json\n",
    "import matplotlib.pyplot as plt\n",
    "import cv2\n",
    "import random"
   ]
  },
  {
   "cell_type": "markdown",
   "metadata": {},
   "source": [
    "---\n",
    "##  VoTT Export からの読み込み"
   ]
  },
  {
   "cell_type": "code",
   "execution_count": 2,
   "metadata": {},
   "outputs": [],
   "source": [
    "# VoTT のエクスポートファイルや、画像が格納されているディレクトリ\n",
    "BASE_DIRECTORY = './vott-json-export/'\n",
    "# VoTT のエクスポートファイル名\n",
    "EXPORT_FILENAME = 'Machikado-export.json'\n",
    "# 訓練データに使用する割合\n",
    "TRAIN_RATIO = 0.8\n",
    "# 乱数シード\n",
    "RANDOM_STATE = 0"
   ]
  },
  {
   "cell_type": "code",
   "execution_count": 3,
   "metadata": {},
   "outputs": [
    {
     "name": "stdout",
     "output_type": "stream",
     "text": [
      "警告: name: 59.jpg - 画像サイズが不一致であるためスキップ image_size:(268, 201), ./vott-json-export/Machikado-export.json: (600, 600)\n"
     ]
    },
    {
     "data": {
      "text/plain": [
       "Metadata(name='test', thing_classes=['Shamiko', 'Gosenzo', 'Lilith', 'Momo', 'Mikan', 'Mob'])"
      ]
     },
     "execution_count": 3,
     "metadata": {},
     "output_type": "execute_result"
    }
   ],
   "source": [
    "from detectron2.data import DatasetCatalog, MetadataCatalog\n",
    "from machikado_util.Machikado_vott import get_cat_names, get_machikado_dicts\n",
    "\n",
    "# vott エクスポートファイルの読み込み\n",
    "CAT_NAME2ID, CAT_ID2NAME = get_cat_names(os.path.join(BASE_DIRECTORY, EXPORT_FILENAME))\n",
    "dataset_dicts = get_machikado_dicts(os.path.join(BASE_DIRECTORY, EXPORT_FILENAME), BASE_DIRECTORY, CAT_NAME2ID)\n",
    "\n",
    "# 訓練用、テスト用に分ける\n",
    "random.seed(RANDOM_STATE)\n",
    "random.shuffle(dataset_dicts)\n",
    "\n",
    "split_idx = int(len(dataset_dicts) * TRAIN_RATIO) + 1\n",
    "\n",
    "# 登録\n",
    "DatasetCatalog.clear()\n",
    "DatasetCatalog.register('train', lambda : dataset_dicts[:split_idx])\n",
    "DatasetCatalog.register('test', lambda : dataset_dicts[split_idx:])\n",
    "\n",
    "MetadataCatalog.get('train').set(thing_classes=list(CAT_NAME2ID.keys()))\n",
    "MetadataCatalog.get('test').set(thing_classes=list(CAT_NAME2ID.keys()))"
   ]
  },
  {
   "cell_type": "code",
   "execution_count": 4,
   "metadata": {},
   "outputs": [],
   "source": [
    "from detectron2.data import DatasetCatalog\n",
    "\n",
    "# 訓練用、テスト用に分ける\n",
    "random.seed(RANDOM_STATE)\n",
    "random.shuffle(dataset_dicts)\n",
    "split_idx = int(len(dataset_dicts) * TRAIN_RATIO) + 1\n",
    "\n",
    "# 登録\n",
    "DatasetCatalog.clear()\n",
    "DatasetCatalog.register('train', lambda : dataset_dicts[:split_idx])\n",
    "DatasetCatalog.register('test', lambda : dataset_dicts[split_idx:])"
   ]
  },
  {
   "cell_type": "markdown",
   "metadata": {},
   "source": [
    "---\n",
    "## 学習\n",
    "\n",
    "* 前回より訓練回数を盛っています。"
   ]
  },
  {
   "cell_type": "code",
   "execution_count": 5,
   "metadata": {},
   "outputs": [],
   "source": [
    "from detectron2.config import get_cfg\n",
    "from machikado_util.custom_config import append_custom_cfg\n",
    "\n",
    "cfg = get_cfg()\n",
    "append_custom_cfg(cfg)\n",
    "\n",
    "cfg.OUTPUT_DIR = './output'\n",
    "cfg.CUDA = 'cuda:0'\n",
    "\n",
    "# cfg.merge_from_file(\"../configs/COCO-InstanceSegmentation/mask_rcnn_R_50_FPN_3x.yaml\")\n",
    "# cfg.MODEL.WEIGHTS = './coco_models/model_final_f10217.pkl'\n",
    "# cfg.SOLVER.IMS_PER_BATCH = 2\n",
    "\n",
    "# 重いけど、これ精度良いです。\n",
    "cfg.merge_from_file('../configs/COCO-InstanceSegmentation/mask_rcnn_X_101_32x8d_FPN_3x.yaml')\n",
    "cfg.MODEL.WEIGHTS = './coco_models/model_final_2d9806.pkl'\n",
    "cfg.SOLVER.IMS_PER_BATCH = 1 # GTX2070 ではこれが限界\n",
    "\n",
    "cfg.DATASETS.TRAIN = ('train',)\n",
    "cfg.DATASETS.TEST = ()   # no metrics implemented for this dataset\n",
    "cfg.DATALOADER.NUM_WORKERS = 2\n",
    "cfg.SOLVER.BASE_LR = 0.00025\n",
    "cfg.SOLVER.MAX_ITER = 2500\n",
    "cfg.MODEL.ROI_HEADS.BATCH_SIZE_PER_IMAGE = 128   # faster, and good enough for this toy dataset\n",
    "cfg.MODEL.ROI_HEADS.NUM_CLASSES = len(CAT_ID2NAME) \n",
    "\n",
    "cfg.INPUT.CROP.ENABLED = True\n",
    "cfg.INPUT.CROP.SIZE = [0.8, 0.8]"
   ]
  },
  {
   "cell_type": "markdown",
   "metadata": {},
   "source": [
    "#### カスタムトレーナー\n",
    "\n",
    "* DefaultTrainer は detectron2/engine/defaults.py にあります。\n",
    "* DefaultTrainer を全部書き換える必要は無く、今回の場合であればデーターマッパーを渡す部分を変更するだけで良いです。（オーバーライドすれば良いです。）\n",
    "* あとは、同じです。"
   ]
  },
  {
   "cell_type": "code",
   "execution_count": 6,
   "metadata": {},
   "outputs": [],
   "source": [
    "from machikado_util.MachikadoDatasetMapper import MachikadoDatasetMapper\n",
    "from detectron2.engine import DefaultTrainer\n",
    "\n",
    "class MachikadoTrainer(DefaultTrainer):\n",
    "    def __init__(self, cfg):\n",
    "        super().__init__(cfg)\n",
    "    \n",
    "    # ここをオーバーライドして、作った自分のデータマッパーを返すように変更する。\n",
    "    @classmethod\n",
    "    def build_train_loader(cls, cfg):\n",
    "        return build_detection_train_loader(cfg, MachikadoDatasetMapper(cfg))"
   ]
  },
  {
   "cell_type": "code",
   "execution_count": 7,
   "metadata": {},
   "outputs": [
    {
     "name": "stdout",
     "output_type": "stream",
     "text": [
      "\u001b[32m[04/17 03:45:05 d2.data.detection_utils]: \u001b[0mTransformGens used in training: [ResizeShortestEdge(short_edge_length=(640, 672, 704, 736, 768, 800), max_size=1333, sample_style='choice'), RandomFlip()]\n",
      "\u001b[32m[04/17 03:45:05 d2.data.build]: \u001b[0mRemoved 0 images with no usable annotations. 92 images left.\n",
      "\u001b[32m[04/17 03:45:05 d2.data.build]: \u001b[0mDistribution of instances among all 6 categories:\n",
      "\u001b[36m|  category  | #instances   |  category  | #instances   |  category  | #instances   |\n",
      "|:----------:|:-------------|:----------:|:-------------|:----------:|:-------------|\n",
      "|  Shamiko   | 74           |  Gosenzo   | 28           |   Lilith   | 11           |\n",
      "|    Momo    | 42           |   Mikan    | 15           |    Mob     | 19           |\n",
      "|            |              |            |              |            |              |\n",
      "|   total    | 189          |            |              |            |              |\u001b[0m\n",
      "\u001b[32m[04/17 03:45:05 d2.data.common]: \u001b[0mSerializing 92 elements to byte tensors and concatenating them all ...\n",
      "\u001b[32m[04/17 03:45:05 d2.data.common]: \u001b[0mSerialized dataset takes 0.24 MiB\n",
      "\u001b[32m[04/17 03:45:05 d2.data.build]: \u001b[0mUsing training sampler TrainingSampler\n"
     ]
    },
    {
     "name": "stderr",
     "output_type": "stream",
     "text": [
      "'roi_heads.box_predictor.cls_score.weight' has shape (81, 1024) in the checkpoint but (7, 1024) in the model! Skipped.\n",
      "'roi_heads.box_predictor.cls_score.bias' has shape (81,) in the checkpoint but (7,) in the model! Skipped.\n",
      "'roi_heads.box_predictor.bbox_pred.weight' has shape (320, 1024) in the checkpoint but (24, 1024) in the model! Skipped.\n",
      "'roi_heads.box_predictor.bbox_pred.bias' has shape (320,) in the checkpoint but (24,) in the model! Skipped.\n",
      "'roi_heads.mask_head.predictor.weight' has shape (80, 256, 1, 1) in the checkpoint but (6, 256, 1, 1) in the model! Skipped.\n",
      "'roi_heads.mask_head.predictor.bias' has shape (80,) in the checkpoint but (6,) in the model! Skipped.\n"
     ]
    },
    {
     "name": "stdout",
     "output_type": "stream",
     "text": [
      "\u001b[32m[04/17 03:45:06 d2.engine.train_loop]: \u001b[0mStarting training from iteration 0\n",
      "\u001b[32m[04/17 03:45:15 d2.utils.events]: \u001b[0m eta: 0:18:57  iter: 19  total_loss: 3.368  loss_cls: 2.100  loss_box_reg: 0.510  loss_mask: 0.694  loss_rpn_cls: 0.002  loss_rpn_loc: 0.013  time: 0.4581  data_time: 0.0087  lr: 0.000005  max_mem: 3785M\n",
      "\u001b[32m[04/17 03:45:25 d2.utils.events]: \u001b[0m eta: 0:19:35  iter: 39  total_loss: 3.591  loss_cls: 1.960  loss_box_reg: 0.929  loss_mask: 0.692  loss_rpn_cls: 0.006  loss_rpn_loc: 0.016  time: 0.4711  data_time: 0.0016  lr: 0.000010  max_mem: 3785M\n",
      "\u001b[32m[04/17 03:45:35 d2.utils.events]: \u001b[0m eta: 0:19:40  iter: 59  total_loss: 3.213  loss_cls: 1.657  loss_box_reg: 0.810  loss_mask: 0.690  loss_rpn_cls: 0.005  loss_rpn_loc: 0.018  time: 0.4734  data_time: 0.0015  lr: 0.000015  max_mem: 3785M\n",
      "\u001b[32m[04/17 03:45:44 d2.utils.events]: \u001b[0m eta: 0:19:16  iter: 79  total_loss: 2.513  loss_cls: 1.319  loss_box_reg: 0.594  loss_mask: 0.684  loss_rpn_cls: 0.004  loss_rpn_loc: 0.015  time: 0.4686  data_time: 0.0017  lr: 0.000020  max_mem: 3785M\n",
      "\u001b[32m[04/17 03:45:53 d2.utils.events]: \u001b[0m eta: 0:19:06  iter: 99  total_loss: 1.931  loss_cls: 0.842  loss_box_reg: 0.414  loss_mask: 0.675  loss_rpn_cls: 0.012  loss_rpn_loc: 0.019  time: 0.4692  data_time: 0.0018  lr: 0.000025  max_mem: 3785M\n",
      "\u001b[32m[04/17 03:46:03 d2.utils.events]: \u001b[0m eta: 0:18:51  iter: 119  total_loss: 1.974  loss_cls: 0.633  loss_box_reg: 0.597  loss_mask: 0.676  loss_rpn_cls: 0.003  loss_rpn_loc: 0.028  time: 0.4671  data_time: 0.0019  lr: 0.000030  max_mem: 3785M\n",
      "\u001b[32m[04/17 03:46:13 d2.utils.events]: \u001b[0m eta: 0:18:54  iter: 139  total_loss: 2.476  loss_cls: 0.829  loss_box_reg: 0.918  loss_mask: 0.660  loss_rpn_cls: 0.003  loss_rpn_loc: 0.017  time: 0.4717  data_time: 0.0019  lr: 0.000035  max_mem: 3785M\n",
      "\u001b[32m[04/17 03:46:22 d2.utils.events]: \u001b[0m eta: 0:18:51  iter: 159  total_loss: 2.210  loss_cls: 0.670  loss_box_reg: 0.842  loss_mask: 0.640  loss_rpn_cls: 0.002  loss_rpn_loc: 0.016  time: 0.4739  data_time: 0.0019  lr: 0.000040  max_mem: 3785M\n",
      "\u001b[32m[04/17 03:46:32 d2.utils.events]: \u001b[0m eta: 0:18:34  iter: 179  total_loss: 2.329  loss_cls: 0.657  loss_box_reg: 0.906  loss_mask: 0.630  loss_rpn_cls: 0.006  loss_rpn_loc: 0.013  time: 0.4727  data_time: 0.0019  lr: 0.000045  max_mem: 3785M\n",
      "\u001b[32m[04/17 03:46:42 d2.utils.events]: \u001b[0m eta: 0:18:34  iter: 199  total_loss: 2.158  loss_cls: 0.635  loss_box_reg: 0.894  loss_mask: 0.574  loss_rpn_cls: 0.002  loss_rpn_loc: 0.012  time: 0.4742  data_time: 0.0018  lr: 0.000050  max_mem: 3785M\n",
      "\u001b[32m[04/17 03:46:51 d2.utils.events]: \u001b[0m eta: 0:18:24  iter: 219  total_loss: 2.112  loss_cls: 0.586  loss_box_reg: 0.898  loss_mask: 0.593  loss_rpn_cls: 0.007  loss_rpn_loc: 0.010  time: 0.4757  data_time: 0.0019  lr: 0.000055  max_mem: 3785M\n",
      "\u001b[32m[04/17 03:47:01 d2.utils.events]: \u001b[0m eta: 0:18:14  iter: 239  total_loss: 1.786  loss_cls: 0.450  loss_box_reg: 0.753  loss_mask: 0.598  loss_rpn_cls: 0.001  loss_rpn_loc: 0.014  time: 0.4763  data_time: 0.0019  lr: 0.000060  max_mem: 3785M\n",
      "\u001b[32m[04/17 03:47:11 d2.utils.events]: \u001b[0m eta: 0:18:05  iter: 259  total_loss: 1.975  loss_cls: 0.557  loss_box_reg: 0.755  loss_mask: 0.558  loss_rpn_cls: 0.002  loss_rpn_loc: 0.010  time: 0.4758  data_time: 0.0019  lr: 0.000065  max_mem: 3785M\n",
      "\u001b[32m[04/17 03:47:20 d2.utils.events]: \u001b[0m eta: 0:17:55  iter: 279  total_loss: 1.953  loss_cls: 0.511  loss_box_reg: 0.889  loss_mask: 0.492  loss_rpn_cls: 0.001  loss_rpn_loc: 0.020  time: 0.4769  data_time: 0.0020  lr: 0.000070  max_mem: 3785M\n",
      "\u001b[32m[04/17 03:47:31 d2.utils.events]: \u001b[0m eta: 0:17:52  iter: 299  total_loss: 1.245  loss_cls: 0.301  loss_box_reg: 0.484  loss_mask: 0.485  loss_rpn_cls: 0.001  loss_rpn_loc: 0.010  time: 0.4790  data_time: 0.0019  lr: 0.000075  max_mem: 3785M\n",
      "\u001b[32m[04/17 03:47:39 d2.utils.events]: \u001b[0m eta: 0:17:36  iter: 319  total_loss: 1.792  loss_cls: 0.462  loss_box_reg: 0.831  loss_mask: 0.536  loss_rpn_cls: 0.000  loss_rpn_loc: 0.017  time: 0.4761  data_time: 0.0019  lr: 0.000080  max_mem: 3785M\n",
      "\u001b[32m[04/17 03:47:50 d2.utils.events]: \u001b[0m eta: 0:17:32  iter: 339  total_loss: 1.795  loss_cls: 0.491  loss_box_reg: 0.850  loss_mask: 0.413  loss_rpn_cls: 0.001  loss_rpn_loc: 0.021  time: 0.4782  data_time: 0.0019  lr: 0.000085  max_mem: 3785M\n",
      "\u001b[32m[04/17 03:47:59 d2.utils.events]: \u001b[0m eta: 0:17:17  iter: 359  total_loss: 1.661  loss_cls: 0.449  loss_box_reg: 0.835  loss_mask: 0.405  loss_rpn_cls: 0.001  loss_rpn_loc: 0.019  time: 0.4781  data_time: 0.0020  lr: 0.000090  max_mem: 3785M\n",
      "\u001b[32m[04/17 03:48:09 d2.utils.events]: \u001b[0m eta: 0:17:08  iter: 379  total_loss: 1.805  loss_cls: 0.537  loss_box_reg: 0.846  loss_mask: 0.414  loss_rpn_cls: 0.001  loss_rpn_loc: 0.023  time: 0.4787  data_time: 0.0020  lr: 0.000095  max_mem: 3785M\n",
      "\u001b[32m[04/17 03:48:19 d2.utils.events]: \u001b[0m eta: 0:17:03  iter: 399  total_loss: 1.300  loss_cls: 0.387  loss_box_reg: 0.622  loss_mask: 0.297  loss_rpn_cls: 0.001  loss_rpn_loc: 0.014  time: 0.4801  data_time: 0.0019  lr: 0.000100  max_mem: 3785M\n",
      "\u001b[32m[04/17 03:48:29 d2.utils.events]: \u001b[0m eta: 0:16:48  iter: 419  total_loss: 1.539  loss_cls: 0.444  loss_box_reg: 0.727  loss_mask: 0.338  loss_rpn_cls: 0.001  loss_rpn_loc: 0.014  time: 0.4792  data_time: 0.0018  lr: 0.000105  max_mem: 3785M\n",
      "\u001b[32m[04/17 03:48:38 d2.utils.events]: \u001b[0m eta: 0:16:38  iter: 439  total_loss: 1.231  loss_cls: 0.344  loss_box_reg: 0.588  loss_mask: 0.283  loss_rpn_cls: 0.000  loss_rpn_loc: 0.015  time: 0.4786  data_time: 0.0019  lr: 0.000110  max_mem: 3785M\n",
      "\u001b[32m[04/17 03:48:47 d2.utils.events]: \u001b[0m eta: 0:16:28  iter: 459  total_loss: 1.371  loss_cls: 0.456  loss_box_reg: 0.596  loss_mask: 0.337  loss_rpn_cls: 0.000  loss_rpn_loc: 0.018  time: 0.4784  data_time: 0.0019  lr: 0.000115  max_mem: 3785M\n",
      "\u001b[32m[04/17 03:48:57 d2.utils.events]: \u001b[0m eta: 0:16:18  iter: 479  total_loss: 1.055  loss_cls: 0.370  loss_box_reg: 0.469  loss_mask: 0.273  loss_rpn_cls: 0.001  loss_rpn_loc: 0.021  time: 0.4781  data_time: 0.0019  lr: 0.000120  max_mem: 3785M\n",
      "\u001b[32m[04/17 03:49:07 d2.utils.events]: \u001b[0m eta: 0:16:09  iter: 499  total_loss: 1.066  loss_cls: 0.398  loss_box_reg: 0.412  loss_mask: 0.238  loss_rpn_cls: 0.000  loss_rpn_loc: 0.016  time: 0.4783  data_time: 0.0018  lr: 0.000125  max_mem: 3785M\n",
      "\u001b[32m[04/17 03:49:16 d2.utils.events]: \u001b[0m eta: 0:15:59  iter: 519  total_loss: 1.237  loss_cls: 0.370  loss_box_reg: 0.552  loss_mask: 0.259  loss_rpn_cls: 0.000  loss_rpn_loc: 0.025  time: 0.4783  data_time: 0.0019  lr: 0.000130  max_mem: 3785M\n",
      "\u001b[32m[04/17 03:49:26 d2.utils.events]: \u001b[0m eta: 0:15:49  iter: 539  total_loss: 1.336  loss_cls: 0.448  loss_box_reg: 0.545  loss_mask: 0.294  loss_rpn_cls: 0.000  loss_rpn_loc: 0.015  time: 0.4785  data_time: 0.0019  lr: 0.000135  max_mem: 3785M\n",
      "\u001b[32m[04/17 03:49:36 d2.utils.events]: \u001b[0m eta: 0:15:41  iter: 559  total_loss: 1.089  loss_cls: 0.376  loss_box_reg: 0.440  loss_mask: 0.322  loss_rpn_cls: 0.000  loss_rpn_loc: 0.016  time: 0.4793  data_time: 0.0020  lr: 0.000140  max_mem: 3785M\n",
      "\u001b[32m[04/17 03:49:45 d2.utils.events]: \u001b[0m eta: 0:15:30  iter: 579  total_loss: 0.989  loss_cls: 0.356  loss_box_reg: 0.441  loss_mask: 0.286  loss_rpn_cls: 0.000  loss_rpn_loc: 0.015  time: 0.4787  data_time: 0.0018  lr: 0.000145  max_mem: 3785M\n",
      "\u001b[32m[04/17 03:49:55 d2.utils.events]: \u001b[0m eta: 0:15:20  iter: 599  total_loss: 1.219  loss_cls: 0.380  loss_box_reg: 0.556  loss_mask: 0.232  loss_rpn_cls: 0.000  loss_rpn_loc: 0.022  time: 0.4785  data_time: 0.0019  lr: 0.000150  max_mem: 3785M\n",
      "\u001b[32m[04/17 03:50:04 d2.utils.events]: \u001b[0m eta: 0:15:09  iter: 619  total_loss: 0.980  loss_cls: 0.330  loss_box_reg: 0.372  loss_mask: 0.265  loss_rpn_cls: 0.000  loss_rpn_loc: 0.011  time: 0.4783  data_time: 0.0019  lr: 0.000155  max_mem: 3785M\n",
      "\u001b[32m[04/17 03:50:15 d2.utils.events]: \u001b[0m eta: 0:15:01  iter: 639  total_loss: 1.179  loss_cls: 0.363  loss_box_reg: 0.423  loss_mask: 0.222  loss_rpn_cls: 0.000  loss_rpn_loc: 0.016  time: 0.4794  data_time: 0.0019  lr: 0.000160  max_mem: 3785M\n",
      "\u001b[32m[04/17 03:50:24 d2.utils.events]: \u001b[0m eta: 0:14:50  iter: 659  total_loss: 1.016  loss_cls: 0.366  loss_box_reg: 0.429  loss_mask: 0.241  loss_rpn_cls: 0.000  loss_rpn_loc: 0.014  time: 0.4791  data_time: 0.0019  lr: 0.000165  max_mem: 3785M\n",
      "\u001b[32m[04/17 03:50:34 d2.utils.events]: \u001b[0m eta: 0:14:41  iter: 679  total_loss: 1.023  loss_cls: 0.312  loss_box_reg: 0.406  loss_mask: 0.216  loss_rpn_cls: 0.000  loss_rpn_loc: 0.014  time: 0.4795  data_time: 0.0019  lr: 0.000170  max_mem: 3785M\n",
      "\u001b[32m[04/17 03:50:44 d2.utils.events]: \u001b[0m eta: 0:14:32  iter: 699  total_loss: 0.926  loss_cls: 0.374  loss_box_reg: 0.299  loss_mask: 0.218  loss_rpn_cls: 0.000  loss_rpn_loc: 0.014  time: 0.4800  data_time: 0.0020  lr: 0.000175  max_mem: 3785M\n",
      "\u001b[32m[04/17 03:50:54 d2.utils.events]: \u001b[0m eta: 0:14:23  iter: 719  total_loss: 0.857  loss_cls: 0.326  loss_box_reg: 0.311  loss_mask: 0.204  loss_rpn_cls: 0.000  loss_rpn_loc: 0.017  time: 0.4801  data_time: 0.0018  lr: 0.000180  max_mem: 3785M\n",
      "\u001b[32m[04/17 03:51:03 d2.utils.events]: \u001b[0m eta: 0:14:14  iter: 739  total_loss: 0.780  loss_cls: 0.321  loss_box_reg: 0.297  loss_mask: 0.184  loss_rpn_cls: 0.000  loss_rpn_loc: 0.018  time: 0.4799  data_time: 0.0019  lr: 0.000185  max_mem: 3785M\n",
      "\u001b[32m[04/17 03:51:13 d2.utils.events]: \u001b[0m eta: 0:14:04  iter: 759  total_loss: 0.943  loss_cls: 0.290  loss_box_reg: 0.395  loss_mask: 0.221  loss_rpn_cls: 0.002  loss_rpn_loc: 0.016  time: 0.4799  data_time: 0.0019  lr: 0.000190  max_mem: 3785M\n",
      "\u001b[32m[04/17 03:51:23 d2.utils.events]: \u001b[0m eta: 0:13:55  iter: 779  total_loss: 1.000  loss_cls: 0.363  loss_box_reg: 0.376  loss_mask: 0.227  loss_rpn_cls: 0.000  loss_rpn_loc: 0.014  time: 0.4804  data_time: 0.0020  lr: 0.000195  max_mem: 3785M\n",
      "\u001b[32m[04/17 03:51:33 d2.utils.events]: \u001b[0m eta: 0:13:45  iter: 799  total_loss: 1.042  loss_cls: 0.288  loss_box_reg: 0.321  loss_mask: 0.278  loss_rpn_cls: 0.001  loss_rpn_loc: 0.012  time: 0.4802  data_time: 0.0018  lr: 0.000200  max_mem: 3785M\n",
      "\u001b[32m[04/17 03:51:42 d2.utils.events]: \u001b[0m eta: 0:13:34  iter: 819  total_loss: 0.799  loss_cls: 0.273  loss_box_reg: 0.354  loss_mask: 0.192  loss_rpn_cls: 0.000  loss_rpn_loc: 0.013  time: 0.4797  data_time: 0.0016  lr: 0.000205  max_mem: 3785M\n",
      "\u001b[32m[04/17 03:51:52 d2.utils.events]: \u001b[0m eta: 0:13:25  iter: 839  total_loss: 0.856  loss_cls: 0.218  loss_box_reg: 0.290  loss_mask: 0.203  loss_rpn_cls: 0.000  loss_rpn_loc: 0.016  time: 0.4800  data_time: 0.0017  lr: 0.000210  max_mem: 3785M\n",
      "\u001b[32m[04/17 03:52:02 d2.utils.events]: \u001b[0m eta: 0:13:15  iter: 859  total_loss: 0.703  loss_cls: 0.186  loss_box_reg: 0.293  loss_mask: 0.160  loss_rpn_cls: 0.001  loss_rpn_loc: 0.009  time: 0.4801  data_time: 0.0016  lr: 0.000215  max_mem: 3785M\n",
      "\u001b[32m[04/17 03:52:11 d2.utils.events]: \u001b[0m eta: 0:13:04  iter: 879  total_loss: 0.954  loss_cls: 0.416  loss_box_reg: 0.301  loss_mask: 0.218  loss_rpn_cls: 0.000  loss_rpn_loc: 0.012  time: 0.4797  data_time: 0.0017  lr: 0.000220  max_mem: 3785M\n",
      "\u001b[32m[04/17 03:52:20 d2.utils.events]: \u001b[0m eta: 0:12:55  iter: 899  total_loss: 1.079  loss_cls: 0.386  loss_box_reg: 0.425  loss_mask: 0.226  loss_rpn_cls: 0.000  loss_rpn_loc: 0.015  time: 0.4795  data_time: 0.0017  lr: 0.000225  max_mem: 3785M\n",
      "\u001b[32m[04/17 03:52:30 d2.utils.events]: \u001b[0m eta: 0:12:44  iter: 919  total_loss: 0.659  loss_cls: 0.170  loss_box_reg: 0.264  loss_mask: 0.179  loss_rpn_cls: 0.000  loss_rpn_loc: 0.015  time: 0.4791  data_time: 0.0017  lr: 0.000230  max_mem: 3785M\n",
      "\u001b[32m[04/17 03:52:40 d2.utils.events]: \u001b[0m eta: 0:12:36  iter: 939  total_loss: 0.760  loss_cls: 0.219  loss_box_reg: 0.302  loss_mask: 0.182  loss_rpn_cls: 0.000  loss_rpn_loc: 0.018  time: 0.4798  data_time: 0.0019  lr: 0.000235  max_mem: 3785M\n",
      "\u001b[32m[04/17 03:52:50 d2.utils.events]: \u001b[0m eta: 0:12:26  iter: 959  total_loss: 0.652  loss_cls: 0.205  loss_box_reg: 0.273  loss_mask: 0.157  loss_rpn_cls: 0.000  loss_rpn_loc: 0.008  time: 0.4799  data_time: 0.0017  lr: 0.000240  max_mem: 3785M\n",
      "\u001b[32m[04/17 03:52:59 d2.utils.events]: \u001b[0m eta: 0:12:16  iter: 979  total_loss: 0.707  loss_cls: 0.246  loss_box_reg: 0.255  loss_mask: 0.209  loss_rpn_cls: 0.000  loss_rpn_loc: 0.011  time: 0.4797  data_time: 0.0017  lr: 0.000245  max_mem: 3785M\n",
      "\u001b[32m[04/17 03:53:09 d2.utils.events]: \u001b[0m eta: 0:12:07  iter: 999  total_loss: 0.791  loss_cls: 0.250  loss_box_reg: 0.317  loss_mask: 0.218  loss_rpn_cls: 0.000  loss_rpn_loc: 0.016  time: 0.4799  data_time: 0.0019  lr: 0.000250  max_mem: 3785M\n",
      "\u001b[32m[04/17 03:53:19 d2.utils.events]: \u001b[0m eta: 0:11:58  iter: 1019  total_loss: 0.486  loss_cls: 0.123  loss_box_reg: 0.198  loss_mask: 0.171  loss_rpn_cls: 0.000  loss_rpn_loc: 0.014  time: 0.4798  data_time: 0.0019  lr: 0.000250  max_mem: 3785M\n",
      "\u001b[32m[04/17 03:53:28 d2.utils.events]: \u001b[0m eta: 0:11:48  iter: 1039  total_loss: 0.641  loss_cls: 0.181  loss_box_reg: 0.275  loss_mask: 0.166  loss_rpn_cls: 0.000  loss_rpn_loc: 0.010  time: 0.4798  data_time: 0.0020  lr: 0.000250  max_mem: 3785M\n",
      "\u001b[32m[04/17 03:53:38 d2.utils.events]: \u001b[0m eta: 0:11:37  iter: 1059  total_loss: 0.594  loss_cls: 0.112  loss_box_reg: 0.287  loss_mask: 0.168  loss_rpn_cls: 0.001  loss_rpn_loc: 0.010  time: 0.4798  data_time: 0.0020  lr: 0.000250  max_mem: 3785M\n",
      "\u001b[32m[04/17 03:53:48 d2.utils.events]: \u001b[0m eta: 0:11:28  iter: 1079  total_loss: 0.796  loss_cls: 0.198  loss_box_reg: 0.321  loss_mask: 0.270  loss_rpn_cls: 0.001  loss_rpn_loc: 0.012  time: 0.4799  data_time: 0.0019  lr: 0.000250  max_mem: 3785M\n",
      "\u001b[32m[04/17 03:53:57 d2.utils.events]: \u001b[0m eta: 0:11:18  iter: 1099  total_loss: 0.652  loss_cls: 0.207  loss_box_reg: 0.270  loss_mask: 0.172  loss_rpn_cls: 0.002  loss_rpn_loc: 0.009  time: 0.4796  data_time: 0.0019  lr: 0.000250  max_mem: 3785M\n",
      "\u001b[32m[04/17 03:54:06 d2.utils.events]: \u001b[0m eta: 0:11:09  iter: 1119  total_loss: 0.506  loss_cls: 0.136  loss_box_reg: 0.204  loss_mask: 0.132  loss_rpn_cls: 0.001  loss_rpn_loc: 0.017  time: 0.4794  data_time: 0.0020  lr: 0.000250  max_mem: 3785M\n",
      "\u001b[32m[04/17 03:54:16 d2.utils.events]: \u001b[0m eta: 0:10:58  iter: 1139  total_loss: 0.526  loss_cls: 0.136  loss_box_reg: 0.205  loss_mask: 0.147  loss_rpn_cls: 0.000  loss_rpn_loc: 0.015  time: 0.4794  data_time: 0.0020  lr: 0.000250  max_mem: 3785M\n",
      "\u001b[32m[04/17 03:54:26 d2.utils.events]: \u001b[0m eta: 0:10:49  iter: 1159  total_loss: 0.558  loss_cls: 0.211  loss_box_reg: 0.274  loss_mask: 0.121  loss_rpn_cls: 0.000  loss_rpn_loc: 0.010  time: 0.4796  data_time: 0.0019  lr: 0.000250  max_mem: 3785M\n",
      "\u001b[32m[04/17 03:54:35 d2.utils.events]: \u001b[0m eta: 0:10:40  iter: 1179  total_loss: 0.752  loss_cls: 0.179  loss_box_reg: 0.207  loss_mask: 0.197  loss_rpn_cls: 0.000  loss_rpn_loc: 0.017  time: 0.4795  data_time: 0.0019  lr: 0.000250  max_mem: 3785M\n",
      "\u001b[32m[04/17 03:54:45 d2.utils.events]: \u001b[0m eta: 0:10:29  iter: 1199  total_loss: 0.608  loss_cls: 0.112  loss_box_reg: 0.247  loss_mask: 0.191  loss_rpn_cls: 0.000  loss_rpn_loc: 0.009  time: 0.4793  data_time: 0.0019  lr: 0.000250  max_mem: 3785M\n",
      "\u001b[32m[04/17 03:54:55 d2.utils.events]: \u001b[0m eta: 0:10:19  iter: 1219  total_loss: 0.666  loss_cls: 0.201  loss_box_reg: 0.290  loss_mask: 0.183  loss_rpn_cls: 0.000  loss_rpn_loc: 0.013  time: 0.4794  data_time: 0.0019  lr: 0.000250  max_mem: 3785M\n",
      "\u001b[32m[04/17 03:55:05 d2.utils.events]: \u001b[0m eta: 0:10:10  iter: 1239  total_loss: 0.586  loss_cls: 0.159  loss_box_reg: 0.215  loss_mask: 0.142  loss_rpn_cls: 0.000  loss_rpn_loc: 0.016  time: 0.4797  data_time: 0.0015  lr: 0.000250  max_mem: 3785M\n",
      "\u001b[32m[04/17 03:55:14 d2.utils.events]: \u001b[0m eta: 0:10:00  iter: 1259  total_loss: 0.592  loss_cls: 0.118  loss_box_reg: 0.290  loss_mask: 0.158  loss_rpn_cls: 0.000  loss_rpn_loc: 0.009  time: 0.4793  data_time: 0.0016  lr: 0.000250  max_mem: 3785M\n",
      "\u001b[32m[04/17 03:55:23 d2.utils.events]: \u001b[0m eta: 0:09:49  iter: 1279  total_loss: 0.675  loss_cls: 0.189  loss_box_reg: 0.254  loss_mask: 0.174  loss_rpn_cls: 0.000  loss_rpn_loc: 0.013  time: 0.4793  data_time: 0.0016  lr: 0.000250  max_mem: 3785M\n",
      "\u001b[32m[04/17 03:55:33 d2.utils.events]: \u001b[0m eta: 0:09:39  iter: 1299  total_loss: 0.722  loss_cls: 0.166  loss_box_reg: 0.306  loss_mask: 0.209  loss_rpn_cls: 0.001  loss_rpn_loc: 0.012  time: 0.4794  data_time: 0.0016  lr: 0.000250  max_mem: 3785M\n",
      "\u001b[32m[04/17 03:55:43 d2.utils.events]: \u001b[0m eta: 0:09:31  iter: 1319  total_loss: 0.541  loss_cls: 0.133  loss_box_reg: 0.206  loss_mask: 0.167  loss_rpn_cls: 0.001  loss_rpn_loc: 0.016  time: 0.4796  data_time: 0.0015  lr: 0.000250  max_mem: 3785M\n",
      "\u001b[32m[04/17 03:55:53 d2.utils.events]: \u001b[0m eta: 0:09:20  iter: 1339  total_loss: 0.507  loss_cls: 0.084  loss_box_reg: 0.251  loss_mask: 0.159  loss_rpn_cls: 0.000  loss_rpn_loc: 0.008  time: 0.4796  data_time: 0.0020  lr: 0.000250  max_mem: 3785M\n",
      "\u001b[32m[04/17 03:56:02 d2.utils.events]: \u001b[0m eta: 0:09:10  iter: 1359  total_loss: 0.549  loss_cls: 0.109  loss_box_reg: 0.232  loss_mask: 0.138  loss_rpn_cls: 0.001  loss_rpn_loc: 0.015  time: 0.4795  data_time: 0.0019  lr: 0.000250  max_mem: 3785M\n",
      "\u001b[32m[04/17 03:56:12 d2.utils.events]: \u001b[0m eta: 0:09:01  iter: 1379  total_loss: 0.514  loss_cls: 0.095  loss_box_reg: 0.171  loss_mask: 0.116  loss_rpn_cls: 0.000  loss_rpn_loc: 0.018  time: 0.4798  data_time: 0.0018  lr: 0.000250  max_mem: 3785M\n",
      "\u001b[32m[04/17 03:56:22 d2.utils.events]: \u001b[0m eta: 0:08:51  iter: 1399  total_loss: 0.478  loss_cls: 0.113  loss_box_reg: 0.232  loss_mask: 0.134  loss_rpn_cls: 0.000  loss_rpn_loc: 0.007  time: 0.4796  data_time: 0.0017  lr: 0.000250  max_mem: 3785M\n",
      "\u001b[32m[04/17 03:56:31 d2.utils.events]: \u001b[0m eta: 0:08:41  iter: 1419  total_loss: 0.624  loss_cls: 0.090  loss_box_reg: 0.226  loss_mask: 0.183  loss_rpn_cls: 0.000  loss_rpn_loc: 0.008  time: 0.4793  data_time: 0.0016  lr: 0.000250  max_mem: 3785M\n",
      "\u001b[32m[04/17 03:56:40 d2.utils.events]: \u001b[0m eta: 0:08:32  iter: 1439  total_loss: 0.616  loss_cls: 0.121  loss_box_reg: 0.281  loss_mask: 0.176  loss_rpn_cls: 0.000  loss_rpn_loc: 0.009  time: 0.4791  data_time: 0.0016  lr: 0.000250  max_mem: 3785M\n",
      "\u001b[32m[04/17 03:56:50 d2.utils.events]: \u001b[0m eta: 0:08:22  iter: 1459  total_loss: 0.663  loss_cls: 0.201  loss_box_reg: 0.239  loss_mask: 0.149  loss_rpn_cls: 0.000  loss_rpn_loc: 0.019  time: 0.4793  data_time: 0.0016  lr: 0.000250  max_mem: 3785M\n",
      "\u001b[32m[04/17 03:57:00 d2.utils.events]: \u001b[0m eta: 0:08:13  iter: 1479  total_loss: 0.541  loss_cls: 0.123  loss_box_reg: 0.203  loss_mask: 0.153  loss_rpn_cls: 0.002  loss_rpn_loc: 0.012  time: 0.4792  data_time: 0.0016  lr: 0.000250  max_mem: 3785M\n",
      "\u001b[32m[04/17 03:57:09 d2.utils.events]: \u001b[0m eta: 0:08:03  iter: 1499  total_loss: 0.494  loss_cls: 0.110  loss_box_reg: 0.212  loss_mask: 0.175  loss_rpn_cls: 0.001  loss_rpn_loc: 0.009  time: 0.4791  data_time: 0.0017  lr: 0.000250  max_mem: 3785M\n",
      "\u001b[32m[04/17 03:57:19 d2.utils.events]: \u001b[0m eta: 0:07:53  iter: 1519  total_loss: 0.571  loss_cls: 0.105  loss_box_reg: 0.251  loss_mask: 0.186  loss_rpn_cls: 0.000  loss_rpn_loc: 0.008  time: 0.4791  data_time: 0.0017  lr: 0.000250  max_mem: 3785M\n",
      "\u001b[32m[04/17 03:57:28 d2.utils.events]: \u001b[0m eta: 0:07:44  iter: 1539  total_loss: 0.495  loss_cls: 0.122  loss_box_reg: 0.164  loss_mask: 0.150  loss_rpn_cls: 0.001  loss_rpn_loc: 0.016  time: 0.4792  data_time: 0.0018  lr: 0.000250  max_mem: 3785M\n",
      "\u001b[32m[04/17 03:57:38 d2.utils.events]: \u001b[0m eta: 0:07:34  iter: 1559  total_loss: 0.502  loss_cls: 0.112  loss_box_reg: 0.265  loss_mask: 0.135  loss_rpn_cls: 0.000  loss_rpn_loc: 0.011  time: 0.4793  data_time: 0.0019  lr: 0.000250  max_mem: 3785M\n",
      "\u001b[32m[04/17 03:57:48 d2.utils.events]: \u001b[0m eta: 0:07:25  iter: 1579  total_loss: 0.399  loss_cls: 0.053  loss_box_reg: 0.205  loss_mask: 0.103  loss_rpn_cls: 0.000  loss_rpn_loc: 0.021  time: 0.4796  data_time: 0.0019  lr: 0.000250  max_mem: 3785M\n",
      "\u001b[32m[04/17 03:57:58 d2.utils.events]: \u001b[0m eta: 0:07:15  iter: 1599  total_loss: 0.623  loss_cls: 0.176  loss_box_reg: 0.270  loss_mask: 0.177  loss_rpn_cls: 0.001  loss_rpn_loc: 0.016  time: 0.4795  data_time: 0.0020  lr: 0.000250  max_mem: 3785M\n",
      "\u001b[32m[04/17 03:58:08 d2.utils.events]: \u001b[0m eta: 0:07:06  iter: 1619  total_loss: 0.482  loss_cls: 0.101  loss_box_reg: 0.224  loss_mask: 0.120  loss_rpn_cls: 0.000  loss_rpn_loc: 0.009  time: 0.4796  data_time: 0.0020  lr: 0.000250  max_mem: 3785M\n",
      "\u001b[32m[04/17 03:58:17 d2.utils.events]: \u001b[0m eta: 0:06:55  iter: 1639  total_loss: 0.485  loss_cls: 0.122  loss_box_reg: 0.246  loss_mask: 0.148  loss_rpn_cls: 0.001  loss_rpn_loc: 0.013  time: 0.4794  data_time: 0.0019  lr: 0.000250  max_mem: 3785M\n",
      "\u001b[32m[04/17 03:58:27 d2.utils.events]: \u001b[0m eta: 0:06:46  iter: 1659  total_loss: 0.549  loss_cls: 0.107  loss_box_reg: 0.246  loss_mask: 0.171  loss_rpn_cls: 0.000  loss_rpn_loc: 0.012  time: 0.4795  data_time: 0.0018  lr: 0.000250  max_mem: 3785M\n",
      "\u001b[32m[04/17 03:58:36 d2.utils.events]: \u001b[0m eta: 0:06:36  iter: 1679  total_loss: 0.368  loss_cls: 0.068  loss_box_reg: 0.149  loss_mask: 0.110  loss_rpn_cls: 0.001  loss_rpn_loc: 0.011  time: 0.4793  data_time: 0.0019  lr: 0.000250  max_mem: 3785M\n",
      "\u001b[32m[04/17 03:58:46 d2.utils.events]: \u001b[0m eta: 0:06:26  iter: 1699  total_loss: 0.418  loss_cls: 0.079  loss_box_reg: 0.177  loss_mask: 0.146  loss_rpn_cls: 0.000  loss_rpn_loc: 0.012  time: 0.4795  data_time: 0.0019  lr: 0.000250  max_mem: 3785M\n",
      "\u001b[32m[04/17 03:58:56 d2.utils.events]: \u001b[0m eta: 0:06:17  iter: 1719  total_loss: 0.452  loss_cls: 0.087  loss_box_reg: 0.124  loss_mask: 0.140  loss_rpn_cls: 0.001  loss_rpn_loc: 0.023  time: 0.4795  data_time: 0.0019  lr: 0.000250  max_mem: 3785M\n",
      "\u001b[32m[04/17 03:59:05 d2.utils.events]: \u001b[0m eta: 0:06:07  iter: 1739  total_loss: 0.520  loss_cls: 0.099  loss_box_reg: 0.210  loss_mask: 0.170  loss_rpn_cls: 0.000  loss_rpn_loc: 0.011  time: 0.4795  data_time: 0.0019  lr: 0.000250  max_mem: 3785M\n",
      "\u001b[32m[04/17 03:59:15 d2.utils.events]: \u001b[0m eta: 0:05:57  iter: 1759  total_loss: 0.366  loss_cls: 0.045  loss_box_reg: 0.174  loss_mask: 0.123  loss_rpn_cls: 0.000  loss_rpn_loc: 0.009  time: 0.4795  data_time: 0.0018  lr: 0.000250  max_mem: 3785M\n",
      "\u001b[32m[04/17 03:59:25 d2.utils.events]: \u001b[0m eta: 0:05:48  iter: 1779  total_loss: 0.416  loss_cls: 0.088  loss_box_reg: 0.189  loss_mask: 0.108  loss_rpn_cls: 0.000  loss_rpn_loc: 0.009  time: 0.4797  data_time: 0.0019  lr: 0.000250  max_mem: 3785M\n",
      "\u001b[32m[04/17 03:59:34 d2.utils.events]: \u001b[0m eta: 0:05:38  iter: 1799  total_loss: 0.475  loss_cls: 0.072  loss_box_reg: 0.186  loss_mask: 0.144  loss_rpn_cls: 0.000  loss_rpn_loc: 0.009  time: 0.4794  data_time: 0.0019  lr: 0.000250  max_mem: 3785M\n",
      "\u001b[32m[04/17 03:59:43 d2.utils.events]: \u001b[0m eta: 0:05:28  iter: 1819  total_loss: 0.639  loss_cls: 0.121  loss_box_reg: 0.267  loss_mask: 0.163  loss_rpn_cls: 0.001  loss_rpn_loc: 0.015  time: 0.4792  data_time: 0.0019  lr: 0.000250  max_mem: 3785M\n",
      "\u001b[32m[04/17 03:59:53 d2.utils.events]: \u001b[0m eta: 0:05:19  iter: 1839  total_loss: 0.454  loss_cls: 0.068  loss_box_reg: 0.173  loss_mask: 0.154  loss_rpn_cls: 0.000  loss_rpn_loc: 0.009  time: 0.4794  data_time: 0.0019  lr: 0.000250  max_mem: 3785M\n",
      "\u001b[32m[04/17 04:00:03 d2.utils.events]: \u001b[0m eta: 0:05:09  iter: 1859  total_loss: 0.416  loss_cls: 0.068  loss_box_reg: 0.187  loss_mask: 0.127  loss_rpn_cls: 0.001  loss_rpn_loc: 0.007  time: 0.4791  data_time: 0.0019  lr: 0.000250  max_mem: 3785M\n",
      "\u001b[32m[04/17 04:00:12 d2.utils.events]: \u001b[0m eta: 0:04:59  iter: 1879  total_loss: 0.430  loss_cls: 0.063  loss_box_reg: 0.186  loss_mask: 0.176  loss_rpn_cls: 0.000  loss_rpn_loc: 0.006  time: 0.4790  data_time: 0.0018  lr: 0.000250  max_mem: 3785M\n",
      "\u001b[32m[04/17 04:00:22 d2.utils.events]: \u001b[0m eta: 0:04:50  iter: 1899  total_loss: 0.505  loss_cls: 0.102  loss_box_reg: 0.207  loss_mask: 0.147  loss_rpn_cls: 0.001  loss_rpn_loc: 0.012  time: 0.4793  data_time: 0.0018  lr: 0.000250  max_mem: 3785M\n",
      "\u001b[32m[04/17 04:00:32 d2.utils.events]: \u001b[0m eta: 0:04:40  iter: 1919  total_loss: 0.447  loss_cls: 0.081  loss_box_reg: 0.195  loss_mask: 0.137  loss_rpn_cls: 0.000  loss_rpn_loc: 0.011  time: 0.4792  data_time: 0.0018  lr: 0.000250  max_mem: 3785M\n",
      "\u001b[32m[04/17 04:00:41 d2.utils.events]: \u001b[0m eta: 0:04:30  iter: 1939  total_loss: 0.512  loss_cls: 0.066  loss_box_reg: 0.166  loss_mask: 0.131  loss_rpn_cls: 0.000  loss_rpn_loc: 0.010  time: 0.4793  data_time: 0.0018  lr: 0.000250  max_mem: 3785M\n",
      "\u001b[32m[04/17 04:00:51 d2.utils.events]: \u001b[0m eta: 0:04:21  iter: 1959  total_loss: 0.472  loss_cls: 0.075  loss_box_reg: 0.223  loss_mask: 0.139  loss_rpn_cls: 0.000  loss_rpn_loc: 0.010  time: 0.4793  data_time: 0.0019  lr: 0.000250  max_mem: 3785M\n",
      "\u001b[32m[04/17 04:01:01 d2.utils.events]: \u001b[0m eta: 0:04:11  iter: 1979  total_loss: 0.309  loss_cls: 0.045  loss_box_reg: 0.135  loss_mask: 0.116  loss_rpn_cls: 0.000  loss_rpn_loc: 0.011  time: 0.4793  data_time: 0.0020  lr: 0.000250  max_mem: 3785M\n",
      "\u001b[32m[04/17 04:01:10 d2.utils.events]: \u001b[0m eta: 0:04:02  iter: 1999  total_loss: 0.460  loss_cls: 0.092  loss_box_reg: 0.199  loss_mask: 0.134  loss_rpn_cls: 0.000  loss_rpn_loc: 0.010  time: 0.4794  data_time: 0.0019  lr: 0.000250  max_mem: 3785M\n",
      "\u001b[32m[04/17 04:01:20 d2.utils.events]: \u001b[0m eta: 0:03:52  iter: 2019  total_loss: 0.543  loss_cls: 0.080  loss_box_reg: 0.231  loss_mask: 0.157  loss_rpn_cls: 0.000  loss_rpn_loc: 0.011  time: 0.4794  data_time: 0.0017  lr: 0.000250  max_mem: 3785M\n",
      "\u001b[32m[04/17 04:01:30 d2.utils.events]: \u001b[0m eta: 0:03:43  iter: 2039  total_loss: 0.446  loss_cls: 0.065  loss_box_reg: 0.181  loss_mask: 0.129  loss_rpn_cls: 0.001  loss_rpn_loc: 0.012  time: 0.4795  data_time: 0.0017  lr: 0.000250  max_mem: 3785M\n",
      "\u001b[32m[04/17 04:01:40 d2.utils.events]: \u001b[0m eta: 0:03:33  iter: 2059  total_loss: 0.420  loss_cls: 0.061  loss_box_reg: 0.193  loss_mask: 0.141  loss_rpn_cls: 0.001  loss_rpn_loc: 0.009  time: 0.4797  data_time: 0.0017  lr: 0.000250  max_mem: 3785M\n",
      "\u001b[32m[04/17 04:01:50 d2.utils.events]: \u001b[0m eta: 0:03:23  iter: 2079  total_loss: 0.518  loss_cls: 0.073  loss_box_reg: 0.246  loss_mask: 0.163  loss_rpn_cls: 0.001  loss_rpn_loc: 0.012  time: 0.4796  data_time: 0.0016  lr: 0.000250  max_mem: 3785M\n",
      "\u001b[32m[04/17 04:01:59 d2.utils.events]: \u001b[0m eta: 0:03:14  iter: 2099  total_loss: 0.354  loss_cls: 0.061  loss_box_reg: 0.149  loss_mask: 0.105  loss_rpn_cls: 0.001  loss_rpn_loc: 0.011  time: 0.4795  data_time: 0.0019  lr: 0.000250  max_mem: 3785M\n",
      "\u001b[32m[04/17 04:02:08 d2.utils.events]: \u001b[0m eta: 0:03:04  iter: 2119  total_loss: 0.381  loss_cls: 0.055  loss_box_reg: 0.188  loss_mask: 0.127  loss_rpn_cls: 0.000  loss_rpn_loc: 0.011  time: 0.4794  data_time: 0.0020  lr: 0.000250  max_mem: 3785M\n",
      "\u001b[32m[04/17 04:02:17 d2.utils.events]: \u001b[0m eta: 0:02:54  iter: 2139  total_loss: 0.407  loss_cls: 0.086  loss_box_reg: 0.191  loss_mask: 0.132  loss_rpn_cls: 0.001  loss_rpn_loc: 0.007  time: 0.4791  data_time: 0.0019  lr: 0.000250  max_mem: 3785M\n",
      "\u001b[32m[04/17 04:02:27 d2.utils.events]: \u001b[0m eta: 0:02:44  iter: 2159  total_loss: 0.331  loss_cls: 0.051  loss_box_reg: 0.162  loss_mask: 0.110  loss_rpn_cls: 0.001  loss_rpn_loc: 0.009  time: 0.4791  data_time: 0.0019  lr: 0.000250  max_mem: 3785M\n",
      "\u001b[32m[04/17 04:02:37 d2.utils.events]: \u001b[0m eta: 0:02:35  iter: 2179  total_loss: 0.416  loss_cls: 0.069  loss_box_reg: 0.201  loss_mask: 0.160  loss_rpn_cls: 0.000  loss_rpn_loc: 0.013  time: 0.4792  data_time: 0.0019  lr: 0.000250  max_mem: 3785M\n",
      "\u001b[32m[04/17 04:02:46 d2.utils.events]: \u001b[0m eta: 0:02:25  iter: 2199  total_loss: 0.482  loss_cls: 0.090  loss_box_reg: 0.207  loss_mask: 0.149  loss_rpn_cls: 0.000  loss_rpn_loc: 0.009  time: 0.4792  data_time: 0.0020  lr: 0.000250  max_mem: 3785M\n",
      "\u001b[32m[04/17 04:02:56 d2.utils.events]: \u001b[0m eta: 0:02:16  iter: 2219  total_loss: 0.358  loss_cls: 0.046  loss_box_reg: 0.174  loss_mask: 0.125  loss_rpn_cls: 0.000  loss_rpn_loc: 0.009  time: 0.4791  data_time: 0.0019  lr: 0.000250  max_mem: 3785M\n",
      "\u001b[32m[04/17 04:03:05 d2.utils.events]: \u001b[0m eta: 0:02:06  iter: 2239  total_loss: 0.367  loss_cls: 0.065  loss_box_reg: 0.163  loss_mask: 0.123  loss_rpn_cls: 0.000  loss_rpn_loc: 0.010  time: 0.4791  data_time: 0.0018  lr: 0.000250  max_mem: 3785M\n",
      "\u001b[32m[04/17 04:03:15 d2.utils.events]: \u001b[0m eta: 0:01:56  iter: 2259  total_loss: 0.422  loss_cls: 0.082  loss_box_reg: 0.197  loss_mask: 0.147  loss_rpn_cls: 0.000  loss_rpn_loc: 0.009  time: 0.4792  data_time: 0.0018  lr: 0.000250  max_mem: 3785M\n",
      "\u001b[32m[04/17 04:03:25 d2.utils.events]: \u001b[0m eta: 0:01:47  iter: 2279  total_loss: 0.443  loss_cls: 0.068  loss_box_reg: 0.228  loss_mask: 0.125  loss_rpn_cls: 0.000  loss_rpn_loc: 0.009  time: 0.4792  data_time: 0.0018  lr: 0.000250  max_mem: 3785M\n",
      "\u001b[32m[04/17 04:03:35 d2.utils.events]: \u001b[0m eta: 0:01:37  iter: 2299  total_loss: 0.349  loss_cls: 0.034  loss_box_reg: 0.161  loss_mask: 0.132  loss_rpn_cls: 0.000  loss_rpn_loc: 0.009  time: 0.4791  data_time: 0.0017  lr: 0.000250  max_mem: 3785M\n",
      "\u001b[32m[04/17 04:03:45 d2.utils.events]: \u001b[0m eta: 0:01:27  iter: 2319  total_loss: 0.309  loss_cls: 0.050  loss_box_reg: 0.139  loss_mask: 0.104  loss_rpn_cls: 0.000  loss_rpn_loc: 0.007  time: 0.4793  data_time: 0.0018  lr: 0.000250  max_mem: 3785M\n",
      "\u001b[32m[04/17 04:03:54 d2.utils.events]: \u001b[0m eta: 0:01:18  iter: 2339  total_loss: 0.378  loss_cls: 0.066  loss_box_reg: 0.179  loss_mask: 0.150  loss_rpn_cls: 0.001  loss_rpn_loc: 0.007  time: 0.4794  data_time: 0.0016  lr: 0.000250  max_mem: 3785M\n",
      "警告: せん断変形の結果、有効な領域が残らなかった\n",
      "\u001b[32m[04/17 04:04:04 d2.utils.events]: \u001b[0m eta: 0:01:08  iter: 2359  total_loss: 0.403  loss_cls: 0.084  loss_box_reg: 0.190  loss_mask: 0.118  loss_rpn_cls: 0.000  loss_rpn_loc: 0.010  time: 0.4792  data_time: 0.0016  lr: 0.000250  max_mem: 3785M\n",
      "\u001b[32m[04/17 04:04:13 d2.utils.events]: \u001b[0m eta: 0:00:58  iter: 2379  total_loss: 0.311  loss_cls: 0.038  loss_box_reg: 0.172  loss_mask: 0.089  loss_rpn_cls: 0.000  loss_rpn_loc: 0.011  time: 0.4793  data_time: 0.0017  lr: 0.000250  max_mem: 3785M\n",
      "\u001b[32m[04/17 04:04:23 d2.utils.events]: \u001b[0m eta: 0:00:49  iter: 2399  total_loss: 0.342  loss_cls: 0.045  loss_box_reg: 0.141  loss_mask: 0.120  loss_rpn_cls: 0.000  loss_rpn_loc: 0.010  time: 0.4791  data_time: 0.0017  lr: 0.000250  max_mem: 3785M\n",
      "\u001b[32m[04/17 04:04:32 d2.utils.events]: \u001b[0m eta: 0:00:39  iter: 2419  total_loss: 0.392  loss_cls: 0.088  loss_box_reg: 0.172  loss_mask: 0.134  loss_rpn_cls: 0.003  loss_rpn_loc: 0.011  time: 0.4791  data_time: 0.0016  lr: 0.000250  max_mem: 3785M\n",
      "\u001b[32m[04/17 04:04:42 d2.utils.events]: \u001b[0m eta: 0:00:29  iter: 2439  total_loss: 0.329  loss_cls: 0.044  loss_box_reg: 0.137  loss_mask: 0.146  loss_rpn_cls: 0.000  loss_rpn_loc: 0.013  time: 0.4792  data_time: 0.0017  lr: 0.000250  max_mem: 3785M\n",
      "\u001b[32m[04/17 04:04:52 d2.utils.events]: \u001b[0m eta: 0:00:19  iter: 2459  total_loss: 0.395  loss_cls: 0.046  loss_box_reg: 0.203  loss_mask: 0.136  loss_rpn_cls: 0.000  loss_rpn_loc: 0.007  time: 0.4793  data_time: 0.0017  lr: 0.000250  max_mem: 3785M\n",
      "\u001b[32m[04/17 04:05:02 d2.utils.events]: \u001b[0m eta: 0:00:10  iter: 2479  total_loss: 0.420  loss_cls: 0.079  loss_box_reg: 0.212  loss_mask: 0.116  loss_rpn_cls: 0.001  loss_rpn_loc: 0.013  time: 0.4793  data_time: 0.0016  lr: 0.000250  max_mem: 3785M\n",
      "\u001b[32m[04/17 04:05:20 d2.utils.events]: \u001b[0m eta: 0:00:00  iter: 2499  total_loss: 0.278  loss_cls: 0.032  loss_box_reg: 0.109  loss_mask: 0.112  loss_rpn_cls: 0.000  loss_rpn_loc: 0.010  time: 0.4793  data_time: 0.0017  lr: 0.000250  max_mem: 3785M\n",
      "\u001b[32m[04/17 04:05:20 d2.engine.hooks]: \u001b[0mOverall training speed: 2497 iterations in 0:19:57 (0.4795 s / it)\n",
      "\u001b[32m[04/17 04:05:20 d2.engine.hooks]: \u001b[0mTotal training time: 0:20:13 (0:00:15 on hooks)\n"
     ]
    }
   ],
   "source": [
    "from detectron2.data import build_detection_test_loader, build_detection_train_loader\n",
    "\n",
    "# 出力先のディレクトリを作る\n",
    "os.makedirs(cfg.OUTPUT_DIR, exist_ok=True)\n",
    "\n",
    "trainer = MachikadoTrainer(cfg) \n",
    "trainer.resume_or_load(resume=False)\n",
    "trainer.train()"
   ]
  },
  {
   "cell_type": "code",
   "execution_count": null,
   "metadata": {},
   "outputs": [],
   "source": []
  }
 ],
 "metadata": {
  "kernelspec": {
   "display_name": "Python 3",
   "language": "python",
   "name": "python3"
  },
  "language_info": {
   "codemirror_mode": {
    "name": "ipython",
    "version": 3
   },
   "file_extension": ".py",
   "mimetype": "text/x-python",
   "name": "python",
   "nbconvert_exporter": "python",
   "pygments_lexer": "ipython3",
   "version": "3.7.4"
  }
 },
 "nbformat": 4,
 "nbformat_minor": 4
}
