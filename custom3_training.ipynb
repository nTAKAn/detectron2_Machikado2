{
 "cells": [
  {
   "cell_type": "markdown",
   "metadata": {},
   "source": [
    "# 続・detectron2 for まちカドまぞく ～カスタム訓練編～\n",
    "\n",
    "<img src=\"https://user-images.githubusercontent.com/33882378/79110283-0f737980-7db5-11ea-89b0-3b6b19ae1716.jpg\">\n",
    "\n",
    "detectron2 の訓練をカスタマイズする方法\n",
    "\n",
    "ここでは、「カスタムトレーナー」を作りますが、今までの工程では一番楽でした。。\n",
    "\n",
    "---"
   ]
  },
  {
   "cell_type": "code",
   "execution_count": 1,
   "metadata": {},
   "outputs": [],
   "source": [
    "import os\n",
    "import numpy as np\n",
    "import json\n",
    "import matplotlib.pyplot as plt\n",
    "import cv2\n",
    "import random"
   ]
  },
  {
   "cell_type": "markdown",
   "metadata": {},
   "source": [
    "---\n",
    "##  VoTT Export からの読み込み"
   ]
  },
  {
   "cell_type": "code",
   "execution_count": 2,
   "metadata": {},
   "outputs": [],
   "source": [
    "# VoTT のエクスポートファイルや、画像が格納されているディレクトリ\n",
    "BASE_DIRECTORY = './vott-json-export/'\n",
    "# VoTT のエクスポートファイル名\n",
    "EXPORT_FILENAME = 'Machikado-export.json'\n",
    "# 訓練データに使用する割合\n",
    "TRAIN_RATIO = 0.8\n",
    "# 乱数シード\n",
    "RANDOM_STATE = 0"
   ]
  },
  {
   "cell_type": "code",
   "execution_count": 3,
   "metadata": {},
   "outputs": [
    {
     "name": "stdout",
     "output_type": "stream",
     "text": [
      "警告: name: 59.jpg - 画像サイズが不一致であるためスキップ image_size:(268, 201), ./vott-json-export/Machikado-export.json: (600, 600)\n"
     ]
    },
    {
     "data": {
      "text/plain": [
       "Metadata(name='test', thing_classes=['Shamiko', 'Gosenzo', 'Lilith', 'Momo', 'Mikan', 'Mob'])"
      ]
     },
     "execution_count": 3,
     "metadata": {},
     "output_type": "execute_result"
    }
   ],
   "source": [
    "from detectron2.data import DatasetCatalog, MetadataCatalog\n",
    "from machikado_util.Machikado_vott import get_cat_names, get_machikado_dicts\n",
    "\n",
    "# vott エクスポートファイルの読み込み\n",
    "CAT_NAME2ID, CAT_ID2NAME = get_cat_names(os.path.join(BASE_DIRECTORY, EXPORT_FILENAME))\n",
    "dataset_dicts = get_machikado_dicts(os.path.join(BASE_DIRECTORY, EXPORT_FILENAME), BASE_DIRECTORY, CAT_NAME2ID)\n",
    "\n",
    "# 訓練用、テスト用に分ける\n",
    "random.seed(RANDOM_STATE)\n",
    "random.shuffle(dataset_dicts)\n",
    "\n",
    "split_idx = int(len(dataset_dicts) * TRAIN_RATIO) + 1\n",
    "\n",
    "# 登録\n",
    "DatasetCatalog.clear()\n",
    "DatasetCatalog.register('train', lambda : dataset_dicts[:split_idx])\n",
    "DatasetCatalog.register('test', lambda : dataset_dicts[split_idx:])\n",
    "\n",
    "MetadataCatalog.get('train').set(thing_classes=list(CAT_NAME2ID.keys()))\n",
    "MetadataCatalog.get('test').set(thing_classes=list(CAT_NAME2ID.keys()))"
   ]
  },
  {
   "cell_type": "code",
   "execution_count": 4,
   "metadata": {},
   "outputs": [],
   "source": [
    "from detectron2.data import DatasetCatalog\n",
    "\n",
    "# 訓練用、テスト用に分ける\n",
    "random.seed(RANDOM_STATE)\n",
    "random.shuffle(dataset_dicts)\n",
    "split_idx = int(len(dataset_dicts) * TRAIN_RATIO) + 1\n",
    "\n",
    "# 登録\n",
    "DatasetCatalog.clear()\n",
    "DatasetCatalog.register('train', lambda : dataset_dicts[:split_idx])\n",
    "DatasetCatalog.register('test', lambda : dataset_dicts[split_idx:])"
   ]
  },
  {
   "cell_type": "markdown",
   "metadata": {},
   "source": [
    "---\n",
    "## 学習\n",
    "\n",
    "* 前回より訓練回数を盛っています。\n",
    "* 入力サイズを小さくしたので、バッチ処理数を増やせます。 (1 -> 6 へ変更)"
   ]
  },
  {
   "cell_type": "code",
   "execution_count": 5,
   "metadata": {},
   "outputs": [],
   "source": [
    "from detectron2.config import get_cfg\n",
    "from machikado_util.custom_config import append_custom_cfg\n",
    "\n",
    "cfg = get_cfg()\n",
    "append_custom_cfg(cfg)\n",
    "\n",
    "cfg.OUTPUT_DIR = './output'\n",
    "cfg.CUDA = 'cuda:0'\n",
    "\n",
    "cfg.merge_from_file('../configs/COCO-InstanceSegmentation/mask_rcnn_X_101_32x8d_FPN_3x.yaml')\n",
    "cfg.MODEL.WEIGHTS = './coco_models/model_final_2d9806.pkl'\n",
    "cfg.SOLVER.IMS_PER_BATCH = 6 # GTX2070 ではこれが限界\n",
    "\n",
    "cfg.DATASETS.TRAIN = ('train',)\n",
    "cfg.DATASETS.TEST = ()   # no metrics implemented for this dataset\n",
    "cfg.DATALOADER.NUM_WORKERS = 4\n",
    "cfg.SOLVER.BASE_LR = 0.00025\n",
    "cfg.SOLVER.MAX_ITER = 2500\n",
    "cfg.MODEL.ROI_HEADS.BATCH_SIZE_PER_IMAGE = 128   # faster, and good enough for this toy dataset\n",
    "cfg.MODEL.ROI_HEADS.NUM_CLASSES = len(CAT_ID2NAME) \n",
    "\n",
    "cfg.INPUT.MIN_SIZE_TRAIN = 400\n",
    "cfg.INPUT.MAX_SIZE_TRAIN = 640\n",
    "cfg.INPUT.MIN_SIZE_TEST = 400\n",
    "cfg.INPUT.MAX_SIZE_TEST = 640\n",
    "\n",
    "cfg.INPUT.CROP.ENABLED = True\n",
    "cfg.INPUT.CROP.SIZE = [0.8, 0.8]"
   ]
  },
  {
   "cell_type": "markdown",
   "metadata": {},
   "source": [
    "#### カスタムトレーナー\n",
    "\n",
    "* DefaultTrainer は detectron2/engine/defaults.py にあります。\n",
    "* DefaultTrainer を全部書き換える必要は無く、今回の場合であればデーターマッパーを渡す部分を変更するだけで良いです。（オーバーライドすれば良いです。）\n",
    "* あとは、同じです。"
   ]
  },
  {
   "cell_type": "code",
   "execution_count": 6,
   "metadata": {},
   "outputs": [],
   "source": [
    "from machikado_util.MachikadoDatasetMapper import MachikadoDatasetMapper\n",
    "from detectron2.engine import DefaultTrainer\n",
    "\n",
    "class MachikadoTrainer(DefaultTrainer):\n",
    "    def __init__(self, cfg):\n",
    "        super().__init__(cfg)\n",
    "    \n",
    "    # ここをオーバーライドして、作った自分のデータマッパーを返すように変更する。\n",
    "    @classmethod\n",
    "    def build_train_loader(cls, cfg):\n",
    "        return build_detection_train_loader(cfg, MachikadoDatasetMapper(cfg))"
   ]
  },
  {
   "cell_type": "code",
   "execution_count": 7,
   "metadata": {},
   "outputs": [
    {
     "name": "stdout",
     "output_type": "stream",
     "text": [
      "\u001b[32m[04/18 22:48:57 d2.data.detection_utils]: \u001b[0mTransformGens used in training: [ResizeShortestEdge(short_edge_length=(400, 400), max_size=640, sample_style='choice'), RandomFlip()]\n",
      "\u001b[32m[04/18 22:48:57 d2.data.build]: \u001b[0mRemoved 0 images with no usable annotations. 92 images left.\n",
      "\u001b[32m[04/18 22:48:57 d2.data.build]: \u001b[0mDistribution of instances among all 6 categories:\n",
      "\u001b[36m|  category  | #instances   |  category  | #instances   |  category  | #instances   |\n",
      "|:----------:|:-------------|:----------:|:-------------|:----------:|:-------------|\n",
      "|  Shamiko   | 74           |  Gosenzo   | 28           |   Lilith   | 11           |\n",
      "|    Momo    | 42           |   Mikan    | 15           |    Mob     | 19           |\n",
      "|            |              |            |              |            |              |\n",
      "|   total    | 189          |            |              |            |              |\u001b[0m\n",
      "\u001b[32m[04/18 22:48:57 d2.data.common]: \u001b[0mSerializing 92 elements to byte tensors and concatenating them all ...\n",
      "\u001b[32m[04/18 22:48:57 d2.data.common]: \u001b[0mSerialized dataset takes 0.24 MiB\n",
      "\u001b[32m[04/18 22:48:57 d2.data.build]: \u001b[0mUsing training sampler TrainingSampler\n"
     ]
    },
    {
     "name": "stderr",
     "output_type": "stream",
     "text": [
      "'roi_heads.box_predictor.cls_score.weight' has shape (81, 1024) in the checkpoint but (7, 1024) in the model! Skipped.\n",
      "'roi_heads.box_predictor.cls_score.bias' has shape (81,) in the checkpoint but (7,) in the model! Skipped.\n",
      "'roi_heads.box_predictor.bbox_pred.weight' has shape (320, 1024) in the checkpoint but (24, 1024) in the model! Skipped.\n",
      "'roi_heads.box_predictor.bbox_pred.bias' has shape (320,) in the checkpoint but (24,) in the model! Skipped.\n",
      "'roi_heads.mask_head.predictor.weight' has shape (80, 256, 1, 1) in the checkpoint but (6, 256, 1, 1) in the model! Skipped.\n",
      "'roi_heads.mask_head.predictor.bias' has shape (80,) in the checkpoint but (6,) in the model! Skipped.\n"
     ]
    },
    {
     "name": "stdout",
     "output_type": "stream",
     "text": [
      "\u001b[32m[04/18 22:49:03 d2.engine.train_loop]: \u001b[0mStarting training from iteration 0\n",
      "\u001b[32m[04/18 22:49:21 d2.utils.events]: \u001b[0m eta: 0:38:04  iter: 19  total_loss: 3.507  loss_cls: 1.884  loss_box_reg: 0.879  loss_mask: 0.694  loss_rpn_cls: 0.031  loss_rpn_loc: 0.009  time: 0.9153  data_time: 0.0208  lr: 0.000005  max_mem: 5335M\n",
      "\u001b[32m[04/18 22:49:40 d2.utils.events]: \u001b[0m eta: 0:38:03  iter: 39  total_loss: 3.341  loss_cls: 1.750  loss_box_reg: 0.857  loss_mask: 0.692  loss_rpn_cls: 0.035  loss_rpn_loc: 0.009  time: 0.9256  data_time: 0.0100  lr: 0.000010  max_mem: 5416M\n",
      "\u001b[32m[04/18 22:49:59 d2.utils.events]: \u001b[0m eta: 0:37:46  iter: 59  total_loss: 3.054  loss_cls: 1.470  loss_box_reg: 0.856  loss_mask: 0.688  loss_rpn_cls: 0.045  loss_rpn_loc: 0.009  time: 0.9287  data_time: 0.0256  lr: 0.000015  max_mem: 5554M\n",
      "\u001b[32m[04/18 22:50:18 d2.utils.events]: \u001b[0m eta: 0:37:31  iter: 79  total_loss: 2.746  loss_cls: 1.171  loss_box_reg: 0.843  loss_mask: 0.679  loss_rpn_cls: 0.030  loss_rpn_loc: 0.009  time: 0.9307  data_time: 0.0099  lr: 0.000020  max_mem: 5680M\n",
      "\u001b[32m[04/18 22:50:37 d2.utils.events]: \u001b[0m eta: 0:37:22  iter: 99  total_loss: 2.520  loss_cls: 0.886  loss_box_reg: 0.883  loss_mask: 0.666  loss_rpn_cls: 0.038  loss_rpn_loc: 0.009  time: 0.9342  data_time: 0.0130  lr: 0.000025  max_mem: 5738M\n",
      "\u001b[32m[04/18 22:50:55 d2.utils.events]: \u001b[0m eta: 0:37:01  iter: 119  total_loss: 2.323  loss_cls: 0.725  loss_box_reg: 0.867  loss_mask: 0.654  loss_rpn_cls: 0.029  loss_rpn_loc: 0.009  time: 0.9335  data_time: 0.0108  lr: 0.000030  max_mem: 5738M\n",
      "\u001b[32m[04/18 22:51:14 d2.utils.events]: \u001b[0m eta: 0:36:47  iter: 139  total_loss: 2.269  loss_cls: 0.688  loss_box_reg: 0.875  loss_mask: 0.635  loss_rpn_cls: 0.034  loss_rpn_loc: 0.010  time: 0.9339  data_time: 0.0128  lr: 0.000035  max_mem: 5738M\n",
      "\u001b[32m[04/18 22:51:33 d2.utils.events]: \u001b[0m eta: 0:36:27  iter: 159  total_loss: 2.114  loss_cls: 0.601  loss_box_reg: 0.874  loss_mask: 0.623  loss_rpn_cls: 0.017  loss_rpn_loc: 0.009  time: 0.9333  data_time: 0.0111  lr: 0.000040  max_mem: 5738M\n",
      "\u001b[32m[04/18 22:51:52 d2.utils.events]: \u001b[0m eta: 0:36:08  iter: 179  total_loss: 2.158  loss_cls: 0.611  loss_box_reg: 0.880  loss_mask: 0.596  loss_rpn_cls: 0.020  loss_rpn_loc: 0.009  time: 0.9340  data_time: 0.0090  lr: 0.000045  max_mem: 5741M\n",
      "\u001b[32m[04/18 22:52:11 d2.utils.events]: \u001b[0m eta: 0:35:51  iter: 199  total_loss: 2.104  loss_cls: 0.581  loss_box_reg: 0.867  loss_mask: 0.586  loss_rpn_cls: 0.028  loss_rpn_loc: 0.011  time: 0.9353  data_time: 0.0093  lr: 0.000050  max_mem: 5741M\n",
      "\u001b[32m[04/18 22:52:29 d2.utils.events]: \u001b[0m eta: 0:35:32  iter: 219  total_loss: 2.005  loss_cls: 0.542  loss_box_reg: 0.842  loss_mask: 0.548  loss_rpn_cls: 0.008  loss_rpn_loc: 0.008  time: 0.9352  data_time: 0.0089  lr: 0.000055  max_mem: 5741M\n",
      "\u001b[32m[04/18 22:52:48 d2.utils.events]: \u001b[0m eta: 0:35:15  iter: 239  total_loss: 1.998  loss_cls: 0.574  loss_box_reg: 0.839  loss_mask: 0.539  loss_rpn_cls: 0.016  loss_rpn_loc: 0.008  time: 0.9356  data_time: 0.0090  lr: 0.000060  max_mem: 5741M\n",
      "\u001b[32m[04/18 22:53:07 d2.utils.events]: \u001b[0m eta: 0:34:58  iter: 259  total_loss: 1.833  loss_cls: 0.505  loss_box_reg: 0.812  loss_mask: 0.496  loss_rpn_cls: 0.017  loss_rpn_loc: 0.009  time: 0.9359  data_time: 0.0091  lr: 0.000065  max_mem: 5741M\n",
      "\u001b[32m[04/18 22:53:26 d2.utils.events]: \u001b[0m eta: 0:34:39  iter: 279  total_loss: 1.830  loss_cls: 0.507  loss_box_reg: 0.801  loss_mask: 0.472  loss_rpn_cls: 0.009  loss_rpn_loc: 0.009  time: 0.9359  data_time: 0.0091  lr: 0.000070  max_mem: 5741M\n",
      "\u001b[32m[04/18 22:53:45 d2.utils.events]: \u001b[0m eta: 0:34:20  iter: 299  total_loss: 1.725  loss_cls: 0.479  loss_box_reg: 0.769  loss_mask: 0.445  loss_rpn_cls: 0.016  loss_rpn_loc: 0.009  time: 0.9355  data_time: 0.0141  lr: 0.000075  max_mem: 5741M\n",
      "\u001b[32m[04/18 22:54:03 d2.utils.events]: \u001b[0m eta: 0:34:02  iter: 319  total_loss: 1.684  loss_cls: 0.487  loss_box_reg: 0.745  loss_mask: 0.437  loss_rpn_cls: 0.016  loss_rpn_loc: 0.009  time: 0.9360  data_time: 0.0119  lr: 0.000080  max_mem: 5741M\n",
      "\u001b[32m[04/18 22:54:22 d2.utils.events]: \u001b[0m eta: 0:33:43  iter: 339  total_loss: 1.647  loss_cls: 0.478  loss_box_reg: 0.756  loss_mask: 0.395  loss_rpn_cls: 0.013  loss_rpn_loc: 0.010  time: 0.9364  data_time: 0.0089  lr: 0.000085  max_mem: 5741M\n",
      "\u001b[32m[04/18 22:54:41 d2.utils.events]: \u001b[0m eta: 0:33:25  iter: 359  total_loss: 1.534  loss_cls: 0.454  loss_box_reg: 0.690  loss_mask: 0.363  loss_rpn_cls: 0.013  loss_rpn_loc: 0.009  time: 0.9364  data_time: 0.0171  lr: 0.000090  max_mem: 5741M\n",
      "\u001b[32m[04/18 22:55:00 d2.utils.events]: \u001b[0m eta: 0:33:06  iter: 379  total_loss: 1.563  loss_cls: 0.483  loss_box_reg: 0.695  loss_mask: 0.375  loss_rpn_cls: 0.014  loss_rpn_loc: 0.010  time: 0.9368  data_time: 0.0100  lr: 0.000095  max_mem: 5741M\n",
      "\u001b[32m[04/18 22:55:19 d2.utils.events]: \u001b[0m eta: 0:32:47  iter: 399  total_loss: 1.496  loss_cls: 0.454  loss_box_reg: 0.617  loss_mask: 0.342  loss_rpn_cls: 0.014  loss_rpn_loc: 0.011  time: 0.9367  data_time: 0.0134  lr: 0.000100  max_mem: 5741M\n",
      "\u001b[32m[04/18 22:55:38 d2.utils.events]: \u001b[0m eta: 0:32:30  iter: 419  total_loss: 1.345  loss_cls: 0.443  loss_box_reg: 0.588  loss_mask: 0.317  loss_rpn_cls: 0.008  loss_rpn_loc: 0.011  time: 0.9365  data_time: 0.0095  lr: 0.000105  max_mem: 5741M\n",
      "\u001b[32m[04/18 22:55:57 d2.utils.events]: \u001b[0m eta: 0:32:11  iter: 439  total_loss: 1.401  loss_cls: 0.427  loss_box_reg: 0.570  loss_mask: 0.358  loss_rpn_cls: 0.013  loss_rpn_loc: 0.011  time: 0.9367  data_time: 0.0108  lr: 0.000110  max_mem: 5741M\n",
      "\u001b[32m[04/18 22:56:16 d2.utils.events]: \u001b[0m eta: 0:31:53  iter: 459  total_loss: 1.267  loss_cls: 0.413  loss_box_reg: 0.534  loss_mask: 0.280  loss_rpn_cls: 0.007  loss_rpn_loc: 0.011  time: 0.9372  data_time: 0.0090  lr: 0.000115  max_mem: 6001M\n",
      "\u001b[32m[04/18 22:56:35 d2.utils.events]: \u001b[0m eta: 0:31:34  iter: 479  total_loss: 1.249  loss_cls: 0.420  loss_box_reg: 0.526  loss_mask: 0.265  loss_rpn_cls: 0.008  loss_rpn_loc: 0.010  time: 0.9374  data_time: 0.0096  lr: 0.000120  max_mem: 6001M\n",
      "\u001b[32m[04/18 22:56:54 d2.utils.events]: \u001b[0m eta: 0:31:16  iter: 499  total_loss: 1.165  loss_cls: 0.375  loss_box_reg: 0.498  loss_mask: 0.282  loss_rpn_cls: 0.007  loss_rpn_loc: 0.010  time: 0.9372  data_time: 0.0094  lr: 0.000125  max_mem: 6001M\n",
      "\u001b[32m[04/18 22:57:13 d2.utils.events]: \u001b[0m eta: 0:30:57  iter: 519  total_loss: 1.160  loss_cls: 0.385  loss_box_reg: 0.463  loss_mask: 0.289  loss_rpn_cls: 0.004  loss_rpn_loc: 0.009  time: 0.9377  data_time: 0.0090  lr: 0.000130  max_mem: 6001M\n",
      "\u001b[32m[04/18 22:57:31 d2.utils.events]: \u001b[0m eta: 0:30:38  iter: 539  total_loss: 1.078  loss_cls: 0.356  loss_box_reg: 0.451  loss_mask: 0.249  loss_rpn_cls: 0.009  loss_rpn_loc: 0.008  time: 0.9377  data_time: 0.0100  lr: 0.000135  max_mem: 6001M\n",
      "\u001b[32m[04/18 22:57:50 d2.utils.events]: \u001b[0m eta: 0:30:20  iter: 559  total_loss: 1.119  loss_cls: 0.361  loss_box_reg: 0.435  loss_mask: 0.266  loss_rpn_cls: 0.015  loss_rpn_loc: 0.009  time: 0.9378  data_time: 0.0094  lr: 0.000140  max_mem: 6001M\n",
      "\u001b[32m[04/18 22:58:09 d2.utils.events]: \u001b[0m eta: 0:30:02  iter: 579  total_loss: 1.041  loss_cls: 0.313  loss_box_reg: 0.434  loss_mask: 0.260  loss_rpn_cls: 0.008  loss_rpn_loc: 0.010  time: 0.9378  data_time: 0.0094  lr: 0.000145  max_mem: 6001M\n",
      "\u001b[32m[04/18 22:58:28 d2.utils.events]: \u001b[0m eta: 0:29:43  iter: 599  total_loss: 1.032  loss_cls: 0.323  loss_box_reg: 0.408  loss_mask: 0.275  loss_rpn_cls: 0.009  loss_rpn_loc: 0.010  time: 0.9377  data_time: 0.0094  lr: 0.000150  max_mem: 6001M\n",
      "\u001b[32m[04/18 22:58:47 d2.utils.events]: \u001b[0m eta: 0:29:24  iter: 619  total_loss: 0.981  loss_cls: 0.296  loss_box_reg: 0.398  loss_mask: 0.242  loss_rpn_cls: 0.004  loss_rpn_loc: 0.009  time: 0.9377  data_time: 0.0085  lr: 0.000155  max_mem: 6001M\n",
      "\u001b[32m[04/18 22:59:05 d2.utils.events]: \u001b[0m eta: 0:29:05  iter: 639  total_loss: 0.961  loss_cls: 0.276  loss_box_reg: 0.369  loss_mask: 0.251  loss_rpn_cls: 0.006  loss_rpn_loc: 0.009  time: 0.9378  data_time: 0.0116  lr: 0.000160  max_mem: 6001M\n",
      "\u001b[32m[04/18 22:59:24 d2.utils.events]: \u001b[0m eta: 0:28:47  iter: 659  total_loss: 0.968  loss_cls: 0.299  loss_box_reg: 0.381  loss_mask: 0.228  loss_rpn_cls: 0.012  loss_rpn_loc: 0.009  time: 0.9380  data_time: 0.0087  lr: 0.000165  max_mem: 6001M\n",
      "\u001b[32m[04/18 22:59:43 d2.utils.events]: \u001b[0m eta: 0:28:28  iter: 679  total_loss: 0.865  loss_cls: 0.252  loss_box_reg: 0.364  loss_mask: 0.254  loss_rpn_cls: 0.007  loss_rpn_loc: 0.008  time: 0.9381  data_time: 0.0115  lr: 0.000170  max_mem: 6001M\n",
      "\u001b[32m[04/18 23:00:02 d2.utils.events]: \u001b[0m eta: 0:28:09  iter: 699  total_loss: 0.724  loss_cls: 0.211  loss_box_reg: 0.304  loss_mask: 0.219  loss_rpn_cls: 0.009  loss_rpn_loc: 0.008  time: 0.9379  data_time: 0.0115  lr: 0.000175  max_mem: 6001M\n",
      "\u001b[32m[04/18 23:00:21 d2.utils.events]: \u001b[0m eta: 0:27:50  iter: 719  total_loss: 0.780  loss_cls: 0.213  loss_box_reg: 0.300  loss_mask: 0.245  loss_rpn_cls: 0.006  loss_rpn_loc: 0.008  time: 0.9377  data_time: 0.0093  lr: 0.000180  max_mem: 6001M\n",
      "\u001b[32m[04/18 23:00:40 d2.utils.events]: \u001b[0m eta: 0:27:32  iter: 739  total_loss: 0.814  loss_cls: 0.215  loss_box_reg: 0.306  loss_mask: 0.235  loss_rpn_cls: 0.004  loss_rpn_loc: 0.008  time: 0.9378  data_time: 0.0094  lr: 0.000185  max_mem: 6001M\n",
      "\u001b[32m[04/18 23:00:58 d2.utils.events]: \u001b[0m eta: 0:27:13  iter: 759  total_loss: 0.728  loss_cls: 0.188  loss_box_reg: 0.304  loss_mask: 0.223  loss_rpn_cls: 0.003  loss_rpn_loc: 0.008  time: 0.9377  data_time: 0.0088  lr: 0.000190  max_mem: 6001M\n",
      "\u001b[32m[04/18 23:01:17 d2.utils.events]: \u001b[0m eta: 0:26:54  iter: 779  total_loss: 0.741  loss_cls: 0.172  loss_box_reg: 0.282  loss_mask: 0.215  loss_rpn_cls: 0.006  loss_rpn_loc: 0.008  time: 0.9377  data_time: 0.0092  lr: 0.000195  max_mem: 6001M\n",
      "\u001b[32m[04/18 23:01:36 d2.utils.events]: \u001b[0m eta: 0:26:35  iter: 799  total_loss: 0.735  loss_cls: 0.174  loss_box_reg: 0.302  loss_mask: 0.218  loss_rpn_cls: 0.006  loss_rpn_loc: 0.008  time: 0.9377  data_time: 0.0092  lr: 0.000200  max_mem: 6001M\n",
      "\u001b[32m[04/18 23:01:55 d2.utils.events]: \u001b[0m eta: 0:26:17  iter: 819  total_loss: 0.715  loss_cls: 0.207  loss_box_reg: 0.276  loss_mask: 0.223  loss_rpn_cls: 0.006  loss_rpn_loc: 0.008  time: 0.9376  data_time: 0.0096  lr: 0.000205  max_mem: 6001M\n",
      "警告: せん断変形の結果、有効な領域が残らなかった\n",
      "\u001b[32m[04/18 23:02:14 d2.utils.events]: \u001b[0m eta: 0:25:58  iter: 839  total_loss: 0.662  loss_cls: 0.174  loss_box_reg: 0.257  loss_mask: 0.203  loss_rpn_cls: 0.003  loss_rpn_loc: 0.006  time: 0.9378  data_time: 0.0100  lr: 0.000210  max_mem: 6001M\n",
      "\u001b[32m[04/18 23:02:33 d2.utils.events]: \u001b[0m eta: 0:25:39  iter: 859  total_loss: 0.689  loss_cls: 0.184  loss_box_reg: 0.288  loss_mask: 0.201  loss_rpn_cls: 0.002  loss_rpn_loc: 0.008  time: 0.9379  data_time: 0.0094  lr: 0.000215  max_mem: 6001M\n",
      "\u001b[32m[04/18 23:02:51 d2.utils.events]: \u001b[0m eta: 0:25:20  iter: 879  total_loss: 0.662  loss_cls: 0.154  loss_box_reg: 0.260  loss_mask: 0.223  loss_rpn_cls: 0.006  loss_rpn_loc: 0.006  time: 0.9378  data_time: 0.0095  lr: 0.000220  max_mem: 6001M\n",
      "\u001b[32m[04/18 23:03:10 d2.utils.events]: \u001b[0m eta: 0:25:01  iter: 899  total_loss: 0.698  loss_cls: 0.163  loss_box_reg: 0.286  loss_mask: 0.199  loss_rpn_cls: 0.007  loss_rpn_loc: 0.008  time: 0.9378  data_time: 0.0095  lr: 0.000225  max_mem: 6001M\n",
      "\u001b[32m[04/18 23:03:29 d2.utils.events]: \u001b[0m eta: 0:24:43  iter: 919  total_loss: 0.694  loss_cls: 0.149  loss_box_reg: 0.256  loss_mask: 0.201  loss_rpn_cls: 0.003  loss_rpn_loc: 0.007  time: 0.9378  data_time: 0.0100  lr: 0.000230  max_mem: 6001M\n",
      "\u001b[32m[04/18 23:03:47 d2.utils.events]: \u001b[0m eta: 0:24:24  iter: 939  total_loss: 0.573  loss_cls: 0.134  loss_box_reg: 0.255  loss_mask: 0.184  loss_rpn_cls: 0.003  loss_rpn_loc: 0.006  time: 0.9376  data_time: 0.0096  lr: 0.000235  max_mem: 6001M\n",
      "\u001b[32m[04/18 23:04:06 d2.utils.events]: \u001b[0m eta: 0:24:05  iter: 959  total_loss: 0.579  loss_cls: 0.114  loss_box_reg: 0.225  loss_mask: 0.204  loss_rpn_cls: 0.003  loss_rpn_loc: 0.006  time: 0.9376  data_time: 0.0095  lr: 0.000240  max_mem: 6001M\n",
      "\u001b[32m[04/18 23:04:25 d2.utils.events]: \u001b[0m eta: 0:23:46  iter: 979  total_loss: 0.590  loss_cls: 0.136  loss_box_reg: 0.241  loss_mask: 0.198  loss_rpn_cls: 0.003  loss_rpn_loc: 0.006  time: 0.9377  data_time: 0.0094  lr: 0.000245  max_mem: 6001M\n",
      "\u001b[32m[04/18 23:04:44 d2.utils.events]: \u001b[0m eta: 0:23:27  iter: 999  total_loss: 0.602  loss_cls: 0.140  loss_box_reg: 0.259  loss_mask: 0.192  loss_rpn_cls: 0.002  loss_rpn_loc: 0.007  time: 0.9376  data_time: 0.0093  lr: 0.000250  max_mem: 6001M\n",
      "\u001b[32m[04/18 23:05:03 d2.utils.events]: \u001b[0m eta: 0:23:09  iter: 1019  total_loss: 0.578  loss_cls: 0.120  loss_box_reg: 0.238  loss_mask: 0.188  loss_rpn_cls: 0.006  loss_rpn_loc: 0.008  time: 0.9376  data_time: 0.0089  lr: 0.000250  max_mem: 6001M\n",
      "\u001b[32m[04/18 23:05:22 d2.utils.events]: \u001b[0m eta: 0:22:50  iter: 1039  total_loss: 0.552  loss_cls: 0.102  loss_box_reg: 0.226  loss_mask: 0.176  loss_rpn_cls: 0.001  loss_rpn_loc: 0.006  time: 0.9377  data_time: 0.0123  lr: 0.000250  max_mem: 6001M\n",
      "\u001b[32m[04/18 23:05:40 d2.utils.events]: \u001b[0m eta: 0:22:31  iter: 1059  total_loss: 0.541  loss_cls: 0.105  loss_box_reg: 0.218  loss_mask: 0.173  loss_rpn_cls: 0.007  loss_rpn_loc: 0.007  time: 0.9376  data_time: 0.0098  lr: 0.000250  max_mem: 6001M\n",
      "\u001b[32m[04/18 23:05:59 d2.utils.events]: \u001b[0m eta: 0:22:13  iter: 1079  total_loss: 0.520  loss_cls: 0.107  loss_box_reg: 0.223  loss_mask: 0.184  loss_rpn_cls: 0.004  loss_rpn_loc: 0.007  time: 0.9376  data_time: 0.0093  lr: 0.000250  max_mem: 6001M\n",
      "警告: せん断変形の結果、有効な領域が残らなかった\n",
      "\u001b[32m[04/18 23:06:18 d2.utils.events]: \u001b[0m eta: 0:21:54  iter: 1099  total_loss: 0.503  loss_cls: 0.106  loss_box_reg: 0.225  loss_mask: 0.167  loss_rpn_cls: 0.003  loss_rpn_loc: 0.007  time: 0.9374  data_time: 0.0097  lr: 0.000250  max_mem: 6001M\n",
      "\u001b[32m[04/18 23:06:36 d2.utils.events]: \u001b[0m eta: 0:21:35  iter: 1119  total_loss: 0.503  loss_cls: 0.101  loss_box_reg: 0.219  loss_mask: 0.164  loss_rpn_cls: 0.003  loss_rpn_loc: 0.006  time: 0.9373  data_time: 0.0097  lr: 0.000250  max_mem: 6001M\n",
      "\u001b[32m[04/18 23:06:55 d2.utils.events]: \u001b[0m eta: 0:21:16  iter: 1139  total_loss: 0.534  loss_cls: 0.106  loss_box_reg: 0.222  loss_mask: 0.179  loss_rpn_cls: 0.002  loss_rpn_loc: 0.006  time: 0.9373  data_time: 0.0096  lr: 0.000250  max_mem: 6001M\n",
      "\u001b[32m[04/18 23:07:14 d2.utils.events]: \u001b[0m eta: 0:20:57  iter: 1159  total_loss: 0.483  loss_cls: 0.084  loss_box_reg: 0.204  loss_mask: 0.175  loss_rpn_cls: 0.003  loss_rpn_loc: 0.007  time: 0.9373  data_time: 0.0098  lr: 0.000250  max_mem: 6001M\n",
      "\u001b[32m[04/18 23:07:33 d2.utils.events]: \u001b[0m eta: 0:20:39  iter: 1179  total_loss: 0.503  loss_cls: 0.077  loss_box_reg: 0.204  loss_mask: 0.165  loss_rpn_cls: 0.003  loss_rpn_loc: 0.006  time: 0.9372  data_time: 0.0097  lr: 0.000250  max_mem: 6001M\n",
      "\u001b[32m[04/18 23:07:51 d2.utils.events]: \u001b[0m eta: 0:20:20  iter: 1199  total_loss: 0.486  loss_cls: 0.082  loss_box_reg: 0.207  loss_mask: 0.174  loss_rpn_cls: 0.002  loss_rpn_loc: 0.006  time: 0.9370  data_time: 0.0094  lr: 0.000250  max_mem: 6001M\n",
      "警告: せん断変形の結果、有効な領域が残らなかった\n",
      "\u001b[32m[04/18 23:08:10 d2.utils.events]: \u001b[0m eta: 0:20:01  iter: 1219  total_loss: 0.533  loss_cls: 0.098  loss_box_reg: 0.203  loss_mask: 0.168  loss_rpn_cls: 0.002  loss_rpn_loc: 0.007  time: 0.9368  data_time: 0.0097  lr: 0.000250  max_mem: 6001M\n",
      "\u001b[32m[04/18 23:08:29 d2.utils.events]: \u001b[0m eta: 0:19:42  iter: 1239  total_loss: 0.499  loss_cls: 0.090  loss_box_reg: 0.232  loss_mask: 0.169  loss_rpn_cls: 0.003  loss_rpn_loc: 0.006  time: 0.9368  data_time: 0.0091  lr: 0.000250  max_mem: 6001M\n",
      "\u001b[32m[04/18 23:08:47 d2.utils.events]: \u001b[0m eta: 0:19:23  iter: 1259  total_loss: 0.454  loss_cls: 0.077  loss_box_reg: 0.206  loss_mask: 0.157  loss_rpn_cls: 0.003  loss_rpn_loc: 0.006  time: 0.9368  data_time: 0.0098  lr: 0.000250  max_mem: 6001M\n",
      "\u001b[32m[04/18 23:09:06 d2.utils.events]: \u001b[0m eta: 0:19:04  iter: 1279  total_loss: 0.476  loss_cls: 0.100  loss_box_reg: 0.207  loss_mask: 0.171  loss_rpn_cls: 0.002  loss_rpn_loc: 0.007  time: 0.9369  data_time: 0.0118  lr: 0.000250  max_mem: 6001M\n",
      "\u001b[32m[04/18 23:09:25 d2.utils.events]: \u001b[0m eta: 0:18:46  iter: 1299  total_loss: 0.453  loss_cls: 0.064  loss_box_reg: 0.203  loss_mask: 0.162  loss_rpn_cls: 0.003  loss_rpn_loc: 0.007  time: 0.9369  data_time: 0.0097  lr: 0.000250  max_mem: 6001M\n",
      "\u001b[32m[04/18 23:09:44 d2.utils.events]: \u001b[0m eta: 0:18:27  iter: 1319  total_loss: 0.428  loss_cls: 0.076  loss_box_reg: 0.192  loss_mask: 0.152  loss_rpn_cls: 0.002  loss_rpn_loc: 0.005  time: 0.9368  data_time: 0.0094  lr: 0.000250  max_mem: 6001M\n",
      "\u001b[32m[04/18 23:10:03 d2.utils.events]: \u001b[0m eta: 0:18:08  iter: 1339  total_loss: 0.453  loss_cls: 0.062  loss_box_reg: 0.202  loss_mask: 0.162  loss_rpn_cls: 0.001  loss_rpn_loc: 0.006  time: 0.9369  data_time: 0.0255  lr: 0.000250  max_mem: 6001M\n",
      "\u001b[32m[04/18 23:10:21 d2.utils.events]: \u001b[0m eta: 0:17:49  iter: 1359  total_loss: 0.447  loss_cls: 0.076  loss_box_reg: 0.186  loss_mask: 0.173  loss_rpn_cls: 0.002  loss_rpn_loc: 0.006  time: 0.9369  data_time: 0.0089  lr: 0.000250  max_mem: 6001M\n",
      "\u001b[32m[04/18 23:10:40 d2.utils.events]: \u001b[0m eta: 0:17:30  iter: 1379  total_loss: 0.409  loss_cls: 0.069  loss_box_reg: 0.181  loss_mask: 0.158  loss_rpn_cls: 0.002  loss_rpn_loc: 0.006  time: 0.9370  data_time: 0.0089  lr: 0.000250  max_mem: 6001M\n",
      "警告: せん断変形の結果、有効な領域が残らなかった\n",
      "\u001b[32m[04/18 23:10:59 d2.utils.events]: \u001b[0m eta: 0:17:12  iter: 1399  total_loss: 0.454  loss_cls: 0.062  loss_box_reg: 0.190  loss_mask: 0.164  loss_rpn_cls: 0.002  loss_rpn_loc: 0.007  time: 0.9372  data_time: 0.0093  lr: 0.000250  max_mem: 6001M\n",
      "\u001b[32m[04/18 23:11:18 d2.utils.events]: \u001b[0m eta: 0:16:53  iter: 1419  total_loss: 0.448  loss_cls: 0.079  loss_box_reg: 0.190  loss_mask: 0.165  loss_rpn_cls: 0.001  loss_rpn_loc: 0.006  time: 0.9372  data_time: 0.0095  lr: 0.000250  max_mem: 6001M\n",
      "\u001b[32m[04/18 23:11:37 d2.utils.events]: \u001b[0m eta: 0:16:34  iter: 1439  total_loss: 0.443  loss_cls: 0.068  loss_box_reg: 0.197  loss_mask: 0.171  loss_rpn_cls: 0.002  loss_rpn_loc: 0.007  time: 0.9372  data_time: 0.0308  lr: 0.000250  max_mem: 6001M\n",
      "\u001b[32m[04/18 23:11:56 d2.utils.events]: \u001b[0m eta: 0:16:15  iter: 1459  total_loss: 0.395  loss_cls: 0.073  loss_box_reg: 0.171  loss_mask: 0.152  loss_rpn_cls: 0.001  loss_rpn_loc: 0.006  time: 0.9371  data_time: 0.0092  lr: 0.000250  max_mem: 6001M\n",
      "\u001b[32m[04/18 23:12:14 d2.utils.events]: \u001b[0m eta: 0:15:56  iter: 1479  total_loss: 0.402  loss_cls: 0.060  loss_box_reg: 0.177  loss_mask: 0.157  loss_rpn_cls: 0.002  loss_rpn_loc: 0.005  time: 0.9371  data_time: 0.0088  lr: 0.000250  max_mem: 6001M\n",
      "\u001b[32m[04/18 23:12:33 d2.utils.events]: \u001b[0m eta: 0:15:37  iter: 1499  total_loss: 0.432  loss_cls: 0.056  loss_box_reg: 0.208  loss_mask: 0.156  loss_rpn_cls: 0.001  loss_rpn_loc: 0.007  time: 0.9371  data_time: 0.0094  lr: 0.000250  max_mem: 6001M\n",
      "\u001b[32m[04/18 23:12:52 d2.utils.events]: \u001b[0m eta: 0:15:18  iter: 1519  total_loss: 0.382  loss_cls: 0.054  loss_box_reg: 0.169  loss_mask: 0.153  loss_rpn_cls: 0.001  loss_rpn_loc: 0.004  time: 0.9370  data_time: 0.0093  lr: 0.000250  max_mem: 6001M\n",
      "\u001b[32m[04/18 23:13:11 d2.utils.events]: \u001b[0m eta: 0:15:00  iter: 1539  total_loss: 0.404  loss_cls: 0.068  loss_box_reg: 0.156  loss_mask: 0.151  loss_rpn_cls: 0.002  loss_rpn_loc: 0.006  time: 0.9370  data_time: 0.0116  lr: 0.000250  max_mem: 6001M\n",
      "\u001b[32m[04/18 23:13:29 d2.utils.events]: \u001b[0m eta: 0:14:41  iter: 1559  total_loss: 0.383  loss_cls: 0.061  loss_box_reg: 0.158  loss_mask: 0.154  loss_rpn_cls: 0.001  loss_rpn_loc: 0.006  time: 0.9368  data_time: 0.0102  lr: 0.000250  max_mem: 6001M\n",
      "警告: せん断変形の結果、有効な領域が残らなかった\n",
      "\u001b[32m[04/18 23:13:48 d2.utils.events]: \u001b[0m eta: 0:14:22  iter: 1579  total_loss: 0.397  loss_cls: 0.051  loss_box_reg: 0.166  loss_mask: 0.151  loss_rpn_cls: 0.001  loss_rpn_loc: 0.005  time: 0.9367  data_time: 0.0104  lr: 0.000250  max_mem: 6001M\n",
      "\u001b[32m[04/18 23:14:07 d2.utils.events]: \u001b[0m eta: 0:14:03  iter: 1599  total_loss: 0.389  loss_cls: 0.054  loss_box_reg: 0.165  loss_mask: 0.143  loss_rpn_cls: 0.001  loss_rpn_loc: 0.005  time: 0.9367  data_time: 0.0096  lr: 0.000250  max_mem: 6001M\n",
      "\u001b[32m[04/18 23:14:25 d2.utils.events]: \u001b[0m eta: 0:13:44  iter: 1619  total_loss: 0.378  loss_cls: 0.054  loss_box_reg: 0.163  loss_mask: 0.144  loss_rpn_cls: 0.001  loss_rpn_loc: 0.005  time: 0.9367  data_time: 0.0095  lr: 0.000250  max_mem: 6001M\n",
      "\u001b[32m[04/18 23:14:44 d2.utils.events]: \u001b[0m eta: 0:13:25  iter: 1639  total_loss: 0.435  loss_cls: 0.067  loss_box_reg: 0.173  loss_mask: 0.151  loss_rpn_cls: 0.002  loss_rpn_loc: 0.005  time: 0.9366  data_time: 0.0115  lr: 0.000250  max_mem: 6001M\n",
      "\u001b[32m[04/18 23:15:03 d2.utils.events]: \u001b[0m eta: 0:13:06  iter: 1659  total_loss: 0.395  loss_cls: 0.054  loss_box_reg: 0.182  loss_mask: 0.149  loss_rpn_cls: 0.001  loss_rpn_loc: 0.005  time: 0.9366  data_time: 0.0095  lr: 0.000250  max_mem: 6001M\n",
      "\u001b[32m[04/18 23:15:22 d2.utils.events]: \u001b[0m eta: 0:12:48  iter: 1679  total_loss: 0.387  loss_cls: 0.054  loss_box_reg: 0.169  loss_mask: 0.151  loss_rpn_cls: 0.002  loss_rpn_loc: 0.006  time: 0.9366  data_time: 0.0095  lr: 0.000250  max_mem: 6001M\n",
      "\u001b[32m[04/18 23:15:41 d2.utils.events]: \u001b[0m eta: 0:12:29  iter: 1699  total_loss: 0.401  loss_cls: 0.058  loss_box_reg: 0.182  loss_mask: 0.159  loss_rpn_cls: 0.001  loss_rpn_loc: 0.006  time: 0.9367  data_time: 0.0094  lr: 0.000250  max_mem: 6001M\n",
      "\u001b[32m[04/18 23:15:59 d2.utils.events]: \u001b[0m eta: 0:12:10  iter: 1719  total_loss: 0.424  loss_cls: 0.063  loss_box_reg: 0.175  loss_mask: 0.155  loss_rpn_cls: 0.002  loss_rpn_loc: 0.006  time: 0.9367  data_time: 0.0097  lr: 0.000250  max_mem: 6001M\n",
      "\u001b[32m[04/18 23:16:18 d2.utils.events]: \u001b[0m eta: 0:11:51  iter: 1739  total_loss: 0.370  loss_cls: 0.048  loss_box_reg: 0.166  loss_mask: 0.143  loss_rpn_cls: 0.001  loss_rpn_loc: 0.006  time: 0.9365  data_time: 0.0087  lr: 0.000250  max_mem: 6001M\n",
      "\u001b[32m[04/18 23:16:37 d2.utils.events]: \u001b[0m eta: 0:11:33  iter: 1759  total_loss: 0.431  loss_cls: 0.058  loss_box_reg: 0.175  loss_mask: 0.151  loss_rpn_cls: 0.001  loss_rpn_loc: 0.005  time: 0.9365  data_time: 0.0092  lr: 0.000250  max_mem: 6001M\n",
      "\u001b[32m[04/18 23:16:55 d2.utils.events]: \u001b[0m eta: 0:11:14  iter: 1779  total_loss: 0.423  loss_cls: 0.056  loss_box_reg: 0.180  loss_mask: 0.163  loss_rpn_cls: 0.001  loss_rpn_loc: 0.006  time: 0.9365  data_time: 0.0097  lr: 0.000250  max_mem: 6001M\n",
      "\u001b[32m[04/18 23:17:14 d2.utils.events]: \u001b[0m eta: 0:10:55  iter: 1799  total_loss: 0.389  loss_cls: 0.057  loss_box_reg: 0.162  loss_mask: 0.149  loss_rpn_cls: 0.001  loss_rpn_loc: 0.005  time: 0.9365  data_time: 0.0124  lr: 0.000250  max_mem: 6001M\n",
      "\u001b[32m[04/18 23:17:33 d2.utils.events]: \u001b[0m eta: 0:10:37  iter: 1819  total_loss: 0.370  loss_cls: 0.053  loss_box_reg: 0.158  loss_mask: 0.153  loss_rpn_cls: 0.001  loss_rpn_loc: 0.006  time: 0.9365  data_time: 0.0095  lr: 0.000250  max_mem: 6001M\n",
      "警告: せん断変形の結果、有効な領域が残らなかった\n",
      "\u001b[32m[04/18 23:17:52 d2.utils.events]: \u001b[0m eta: 0:10:18  iter: 1839  total_loss: 0.360  loss_cls: 0.048  loss_box_reg: 0.152  loss_mask: 0.148  loss_rpn_cls: 0.002  loss_rpn_loc: 0.006  time: 0.9365  data_time: 0.0092  lr: 0.000250  max_mem: 6001M\n",
      "\u001b[32m[04/18 23:18:10 d2.utils.events]: \u001b[0m eta: 0:09:59  iter: 1859  total_loss: 0.327  loss_cls: 0.041  loss_box_reg: 0.144  loss_mask: 0.146  loss_rpn_cls: 0.002  loss_rpn_loc: 0.004  time: 0.9365  data_time: 0.0097  lr: 0.000250  max_mem: 6001M\n",
      "\u001b[32m[04/18 23:18:29 d2.utils.events]: \u001b[0m eta: 0:09:40  iter: 1879  total_loss: 0.371  loss_cls: 0.048  loss_box_reg: 0.160  loss_mask: 0.145  loss_rpn_cls: 0.002  loss_rpn_loc: 0.005  time: 0.9364  data_time: 0.0095  lr: 0.000250  max_mem: 6001M\n",
      "警告: せん断変形の結果、有効な領域が残らなかった\n",
      "\u001b[32m[04/18 23:18:48 d2.utils.events]: \u001b[0m eta: 0:09:22  iter: 1899  total_loss: 0.373  loss_cls: 0.057  loss_box_reg: 0.156  loss_mask: 0.144  loss_rpn_cls: 0.002  loss_rpn_loc: 0.005  time: 0.9364  data_time: 0.0093  lr: 0.000250  max_mem: 6001M\n",
      "\u001b[32m[04/18 23:19:07 d2.utils.events]: \u001b[0m eta: 0:09:03  iter: 1919  total_loss: 0.375  loss_cls: 0.045  loss_box_reg: 0.169  loss_mask: 0.147  loss_rpn_cls: 0.001  loss_rpn_loc: 0.005  time: 0.9363  data_time: 0.0101  lr: 0.000250  max_mem: 6001M\n",
      "\u001b[32m[04/18 23:19:25 d2.utils.events]: \u001b[0m eta: 0:08:44  iter: 1939  total_loss: 0.313  loss_cls: 0.038  loss_box_reg: 0.141  loss_mask: 0.131  loss_rpn_cls: 0.001  loss_rpn_loc: 0.005  time: 0.9363  data_time: 0.0099  lr: 0.000250  max_mem: 6001M\n",
      "\u001b[32m[04/18 23:19:44 d2.utils.events]: \u001b[0m eta: 0:08:25  iter: 1959  total_loss: 0.316  loss_cls: 0.034  loss_box_reg: 0.147  loss_mask: 0.136  loss_rpn_cls: 0.001  loss_rpn_loc: 0.004  time: 0.9364  data_time: 0.0103  lr: 0.000250  max_mem: 6001M\n",
      "\u001b[32m[04/18 23:20:03 d2.utils.events]: \u001b[0m eta: 0:08:07  iter: 1979  total_loss: 0.386  loss_cls: 0.048  loss_box_reg: 0.163  loss_mask: 0.143  loss_rpn_cls: 0.002  loss_rpn_loc: 0.006  time: 0.9363  data_time: 0.0113  lr: 0.000250  max_mem: 6001M\n",
      "\u001b[32m[04/18 23:20:22 d2.utils.events]: \u001b[0m eta: 0:07:48  iter: 1999  total_loss: 0.396  loss_cls: 0.055  loss_box_reg: 0.175  loss_mask: 0.146  loss_rpn_cls: 0.001  loss_rpn_loc: 0.006  time: 0.9363  data_time: 0.0099  lr: 0.000250  max_mem: 6001M\n",
      "\u001b[32m[04/18 23:20:40 d2.utils.events]: \u001b[0m eta: 0:07:29  iter: 2019  total_loss: 0.339  loss_cls: 0.042  loss_box_reg: 0.145  loss_mask: 0.143  loss_rpn_cls: 0.001  loss_rpn_loc: 0.004  time: 0.9363  data_time: 0.0099  lr: 0.000250  max_mem: 6001M\n",
      "\u001b[32m[04/18 23:20:59 d2.utils.events]: \u001b[0m eta: 0:07:10  iter: 2039  total_loss: 0.292  loss_cls: 0.033  loss_box_reg: 0.128  loss_mask: 0.127  loss_rpn_cls: 0.001  loss_rpn_loc: 0.004  time: 0.9362  data_time: 0.0097  lr: 0.000250  max_mem: 6001M\n",
      "\u001b[32m[04/18 23:21:18 d2.utils.events]: \u001b[0m eta: 0:06:52  iter: 2059  total_loss: 0.358  loss_cls: 0.036  loss_box_reg: 0.154  loss_mask: 0.136  loss_rpn_cls: 0.001  loss_rpn_loc: 0.004  time: 0.9361  data_time: 0.0172  lr: 0.000250  max_mem: 6001M\n",
      "\u001b[32m[04/18 23:21:36 d2.utils.events]: \u001b[0m eta: 0:06:33  iter: 2079  total_loss: 0.407  loss_cls: 0.054  loss_box_reg: 0.173  loss_mask: 0.148  loss_rpn_cls: 0.001  loss_rpn_loc: 0.005  time: 0.9361  data_time: 0.0101  lr: 0.000250  max_mem: 6001M\n",
      "\u001b[32m[04/18 23:21:55 d2.utils.events]: \u001b[0m eta: 0:06:14  iter: 2099  total_loss: 0.329  loss_cls: 0.040  loss_box_reg: 0.144  loss_mask: 0.138  loss_rpn_cls: 0.002  loss_rpn_loc: 0.006  time: 0.9361  data_time: 0.0096  lr: 0.000250  max_mem: 6001M\n",
      "\u001b[32m[04/18 23:22:14 d2.utils.events]: \u001b[0m eta: 0:05:56  iter: 2119  total_loss: 0.323  loss_cls: 0.038  loss_box_reg: 0.148  loss_mask: 0.135  loss_rpn_cls: 0.001  loss_rpn_loc: 0.005  time: 0.9360  data_time: 0.0094  lr: 0.000250  max_mem: 6001M\n",
      "\u001b[32m[04/18 23:22:32 d2.utils.events]: \u001b[0m eta: 0:05:37  iter: 2139  total_loss: 0.345  loss_cls: 0.045  loss_box_reg: 0.155  loss_mask: 0.143  loss_rpn_cls: 0.001  loss_rpn_loc: 0.004  time: 0.9360  data_time: 0.0100  lr: 0.000250  max_mem: 6001M\n",
      "\u001b[32m[04/18 23:22:51 d2.utils.events]: \u001b[0m eta: 0:05:18  iter: 2159  total_loss: 0.337  loss_cls: 0.051  loss_box_reg: 0.138  loss_mask: 0.130  loss_rpn_cls: 0.002  loss_rpn_loc: 0.005  time: 0.9361  data_time: 0.0096  lr: 0.000250  max_mem: 6001M\n",
      "\u001b[32m[04/18 23:23:10 d2.utils.events]: \u001b[0m eta: 0:04:59  iter: 2179  total_loss: 0.339  loss_cls: 0.039  loss_box_reg: 0.159  loss_mask: 0.142  loss_rpn_cls: 0.001  loss_rpn_loc: 0.005  time: 0.9360  data_time: 0.0093  lr: 0.000250  max_mem: 6001M\n",
      "\u001b[32m[04/18 23:23:29 d2.utils.events]: \u001b[0m eta: 0:04:41  iter: 2199  total_loss: 0.346  loss_cls: 0.041  loss_box_reg: 0.143  loss_mask: 0.146  loss_rpn_cls: 0.002  loss_rpn_loc: 0.005  time: 0.9360  data_time: 0.0093  lr: 0.000250  max_mem: 6001M\n",
      "\u001b[32m[04/18 23:23:47 d2.utils.events]: \u001b[0m eta: 0:04:22  iter: 2219  total_loss: 0.322  loss_cls: 0.040  loss_box_reg: 0.129  loss_mask: 0.134  loss_rpn_cls: 0.000  loss_rpn_loc: 0.004  time: 0.9359  data_time: 0.0095  lr: 0.000250  max_mem: 6001M\n",
      "警告: せん断変形の結果、有効な領域が残らなかった\n",
      "\u001b[32m[04/18 23:24:06 d2.utils.events]: \u001b[0m eta: 0:04:03  iter: 2239  total_loss: 0.320  loss_cls: 0.041  loss_box_reg: 0.132  loss_mask: 0.139  loss_rpn_cls: 0.001  loss_rpn_loc: 0.005  time: 0.9359  data_time: 0.0097  lr: 0.000250  max_mem: 6001M\n",
      "\u001b[32m[04/18 23:24:25 d2.utils.events]: \u001b[0m eta: 0:03:45  iter: 2259  total_loss: 0.317  loss_cls: 0.039  loss_box_reg: 0.138  loss_mask: 0.126  loss_rpn_cls: 0.001  loss_rpn_loc: 0.005  time: 0.9359  data_time: 0.0099  lr: 0.000250  max_mem: 6001M\n",
      "\u001b[32m[04/18 23:24:43 d2.utils.events]: \u001b[0m eta: 0:03:26  iter: 2279  total_loss: 0.363  loss_cls: 0.044  loss_box_reg: 0.155  loss_mask: 0.155  loss_rpn_cls: 0.001  loss_rpn_loc: 0.004  time: 0.9358  data_time: 0.0098  lr: 0.000250  max_mem: 6001M\n",
      "\u001b[32m[04/18 23:25:02 d2.utils.events]: \u001b[0m eta: 0:03:07  iter: 2299  total_loss: 0.337  loss_cls: 0.043  loss_box_reg: 0.152  loss_mask: 0.131  loss_rpn_cls: 0.001  loss_rpn_loc: 0.005  time: 0.9358  data_time: 0.0088  lr: 0.000250  max_mem: 6001M\n",
      "\u001b[32m[04/18 23:25:21 d2.utils.events]: \u001b[0m eta: 0:02:49  iter: 2319  total_loss: 0.355  loss_cls: 0.041  loss_box_reg: 0.151  loss_mask: 0.143  loss_rpn_cls: 0.001  loss_rpn_loc: 0.005  time: 0.9358  data_time: 0.0145  lr: 0.000250  max_mem: 6001M\n",
      "\u001b[32m[04/18 23:25:40 d2.utils.events]: \u001b[0m eta: 0:02:30  iter: 2339  total_loss: 0.358  loss_cls: 0.043  loss_box_reg: 0.145  loss_mask: 0.139  loss_rpn_cls: 0.002  loss_rpn_loc: 0.006  time: 0.9357  data_time: 0.0102  lr: 0.000250  max_mem: 6001M\n",
      "\u001b[32m[04/18 23:25:58 d2.utils.events]: \u001b[0m eta: 0:02:11  iter: 2359  total_loss: 0.332  loss_cls: 0.028  loss_box_reg: 0.150  loss_mask: 0.143  loss_rpn_cls: 0.003  loss_rpn_loc: 0.004  time: 0.9356  data_time: 0.0103  lr: 0.000250  max_mem: 6001M\n",
      "\u001b[32m[04/18 23:26:17 d2.utils.events]: \u001b[0m eta: 0:01:52  iter: 2379  total_loss: 0.299  loss_cls: 0.026  loss_box_reg: 0.136  loss_mask: 0.126  loss_rpn_cls: 0.001  loss_rpn_loc: 0.004  time: 0.9355  data_time: 0.0089  lr: 0.000250  max_mem: 6001M\n",
      "\u001b[32m[04/18 23:26:35 d2.utils.events]: \u001b[0m eta: 0:01:34  iter: 2399  total_loss: 0.307  loss_cls: 0.038  loss_box_reg: 0.144  loss_mask: 0.130  loss_rpn_cls: 0.001  loss_rpn_loc: 0.005  time: 0.9355  data_time: 0.0095  lr: 0.000250  max_mem: 6001M\n",
      "\u001b[32m[04/18 23:26:54 d2.utils.events]: \u001b[0m eta: 0:01:15  iter: 2419  total_loss: 0.333  loss_cls: 0.043  loss_box_reg: 0.145  loss_mask: 0.137  loss_rpn_cls: 0.002  loss_rpn_loc: 0.005  time: 0.9355  data_time: 0.0090  lr: 0.000250  max_mem: 6001M\n",
      "\u001b[32m[04/18 23:27:13 d2.utils.events]: \u001b[0m eta: 0:00:56  iter: 2439  total_loss: 0.342  loss_cls: 0.037  loss_box_reg: 0.145  loss_mask: 0.139  loss_rpn_cls: 0.001  loss_rpn_loc: 0.005  time: 0.9355  data_time: 0.0095  lr: 0.000250  max_mem: 6001M\n",
      "\u001b[32m[04/18 23:27:31 d2.utils.events]: \u001b[0m eta: 0:00:38  iter: 2459  total_loss: 0.373  loss_cls: 0.037  loss_box_reg: 0.148  loss_mask: 0.140  loss_rpn_cls: 0.001  loss_rpn_loc: 0.005  time: 0.9354  data_time: 0.0091  lr: 0.000250  max_mem: 6001M\n",
      "\u001b[32m[04/18 23:27:50 d2.utils.events]: \u001b[0m eta: 0:00:19  iter: 2479  total_loss: 0.330  loss_cls: 0.035  loss_box_reg: 0.135  loss_mask: 0.143  loss_rpn_cls: 0.001  loss_rpn_loc: 0.005  time: 0.9353  data_time: 0.0095  lr: 0.000250  max_mem: 6001M\n",
      "\u001b[32m[04/18 23:28:18 d2.utils.events]: \u001b[0m eta: 0:00:00  iter: 2499  total_loss: 0.322  loss_cls: 0.036  loss_box_reg: 0.145  loss_mask: 0.133  loss_rpn_cls: 0.001  loss_rpn_loc: 0.005  time: 0.9353  data_time: 0.0169  lr: 0.000250  max_mem: 6001M\n",
      "\u001b[32m[04/18 23:28:18 d2.engine.hooks]: \u001b[0mOverall training speed: 2497 iterations in 0:38:56 (0.9356 s / it)\n",
      "\u001b[32m[04/18 23:28:18 d2.engine.hooks]: \u001b[0mTotal training time: 0:39:13 (0:00:16 on hooks)\n"
     ]
    }
   ],
   "source": [
    "from detectron2.data import build_detection_test_loader, build_detection_train_loader\n",
    "\n",
    "# 出力先のディレクトリを作る\n",
    "os.makedirs(cfg.OUTPUT_DIR, exist_ok=True)\n",
    "\n",
    "trainer = MachikadoTrainer(cfg) \n",
    "trainer.resume_or_load(resume=False)\n",
    "trainer.train()"
   ]
  },
  {
   "cell_type": "code",
   "execution_count": null,
   "metadata": {},
   "outputs": [],
   "source": []
  }
 ],
 "metadata": {
  "kernelspec": {
   "display_name": "Python 3",
   "language": "python",
   "name": "python3"
  },
  "language_info": {
   "codemirror_mode": {
    "name": "ipython",
    "version": 3
   },
   "file_extension": ".py",
   "mimetype": "text/x-python",
   "name": "python",
   "nbconvert_exporter": "python",
   "pygments_lexer": "ipython3",
   "version": "3.7.4"
  }
 },
 "nbformat": 4,
 "nbformat_minor": 4
}
