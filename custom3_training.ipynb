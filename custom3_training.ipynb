{
 "cells": [
  {
   "cell_type": "markdown",
   "metadata": {},
   "source": [
    "# 続・detectron2 for まちカドまぞく ～カスタム訓練編～\n",
    "\n",
    "<img src=\"https://user-images.githubusercontent.com/33882378/79110283-0f737980-7db5-11ea-89b0-3b6b19ae1716.jpg\">\n",
    "\n",
    "detectron2 の訓練をカスタマイズする方法\n",
    "\n",
    "ここでは、「カスタムトレーナー」を作りますが、今までの工程では一番楽でした。。\n",
    "\n",
    "---"
   ]
  },
  {
   "cell_type": "code",
   "execution_count": 1,
   "metadata": {},
   "outputs": [],
   "source": [
    "import os\n",
    "import numpy as np\n",
    "import json\n",
    "import matplotlib.pyplot as plt\n",
    "import cv2\n",
    "import random"
   ]
  },
  {
   "cell_type": "markdown",
   "metadata": {},
   "source": [
    "---\n",
    "##  VoTT Export からの読み込み"
   ]
  },
  {
   "cell_type": "code",
   "execution_count": 2,
   "metadata": {},
   "outputs": [],
   "source": [
    "# VoTT のエクスポートファイルや、画像が格納されているディレクトリ\n",
    "BASE_DIRECTORY = './vott-json-export/'\n",
    "# VoTT のエクスポートファイル名\n",
    "EXPORT_FILENAME = 'Machikado-export.json'\n",
    "# 訓練データに使用する割合\n",
    "TRAIN_RATIO = 0.8\n",
    "# 乱数シード\n",
    "RANDOM_STATE = 0"
   ]
  },
  {
   "cell_type": "code",
   "execution_count": 3,
   "metadata": {},
   "outputs": [
    {
     "name": "stdout",
     "output_type": "stream",
     "text": [
      "警告: name: 59.jpg - 画像サイズが不一致であるためスキップ image_size:(268, 201), ./vott-json-export/Machikado-export.json: (600, 600)\n"
     ]
    },
    {
     "data": {
      "text/plain": [
       "Metadata(name='test', thing_classes=['Shamiko', 'Gosenzo', 'Lilith', 'Momo', 'Mikan', 'Mob'])"
      ]
     },
     "execution_count": 3,
     "metadata": {},
     "output_type": "execute_result"
    }
   ],
   "source": [
    "from detectron2.data import DatasetCatalog, MetadataCatalog\n",
    "from machikado_util.Machikado_vott import get_cat_names, get_machikado_dicts\n",
    "\n",
    "# vott エクスポートファイルの読み込み\n",
    "CAT_NAME2ID, CAT_ID2NAME = get_cat_names(os.path.join(BASE_DIRECTORY, EXPORT_FILENAME))\n",
    "dataset_dicts = get_machikado_dicts(os.path.join(BASE_DIRECTORY, EXPORT_FILENAME), BASE_DIRECTORY, CAT_NAME2ID)\n",
    "\n",
    "# 訓練用、テスト用に分ける\n",
    "random.seed(RANDOM_STATE)\n",
    "random.shuffle(dataset_dicts)\n",
    "\n",
    "split_idx = int(len(dataset_dicts) * TRAIN_RATIO) + 1\n",
    "\n",
    "# 登録\n",
    "DatasetCatalog.clear()\n",
    "DatasetCatalog.register('train', lambda : dataset_dicts[:split_idx])\n",
    "DatasetCatalog.register('test', lambda : dataset_dicts[split_idx:])\n",
    "\n",
    "MetadataCatalog.get('train').set(thing_classes=list(CAT_NAME2ID.keys()))\n",
    "MetadataCatalog.get('test').set(thing_classes=list(CAT_NAME2ID.keys()))"
   ]
  },
  {
   "cell_type": "code",
   "execution_count": 4,
   "metadata": {},
   "outputs": [],
   "source": [
    "from detectron2.data import DatasetCatalog\n",
    "\n",
    "# 訓練用、テスト用に分ける\n",
    "random.seed(RANDOM_STATE)\n",
    "random.shuffle(dataset_dicts)\n",
    "split_idx = int(len(dataset_dicts) * TRAIN_RATIO) + 1\n",
    "\n",
    "# 登録\n",
    "DatasetCatalog.clear()\n",
    "DatasetCatalog.register('train', lambda : dataset_dicts[:split_idx])\n",
    "DatasetCatalog.register('test', lambda : dataset_dicts[split_idx:])"
   ]
  },
  {
   "cell_type": "markdown",
   "metadata": {},
   "source": [
    "---\n",
    "## 学習\n",
    "\n",
    "* 前回より訓練回数を持っています。"
   ]
  },
  {
   "cell_type": "code",
   "execution_count": 5,
   "metadata": {},
   "outputs": [],
   "source": [
    "from detectron2.config import get_cfg\n",
    "from machikado_util.custom_config import append_custom_cfg\n",
    "\n",
    "cfg = get_cfg()\n",
    "append_custom_cfg(cfg)\n",
    "\n",
    "cfg.OUTPUT_DIR = './output'\n",
    "cfg.CUDA = 'cuda:0'\n",
    "\n",
    "# cfg.merge_from_file(\"../configs/COCO-InstanceSegmentation/mask_rcnn_R_50_FPN_3x.yaml\")\n",
    "# cfg.MODEL.WEIGHTS = './coco_models/model_final_f10217.pkl'\n",
    "# cfg.SOLVER.IMS_PER_BATCH = 2\n",
    "\n",
    "# 重いけど、これ精度良いです。\n",
    "cfg.merge_from_file('../configs/COCO-InstanceSegmentation/mask_rcnn_X_101_32x8d_FPN_3x.yaml')\n",
    "cfg.MODEL.WEIGHTS = './coco_models/model_final_2d9806.pkl'\n",
    "cfg.SOLVER.IMS_PER_BATCH = 1 # GTX2070 ではこれが限界\n",
    "\n",
    "cfg.DATASETS.TRAIN = ('train',)\n",
    "cfg.DATASETS.TEST = ()   # no metrics implemented for this dataset\n",
    "cfg.DATALOADER.NUM_WORKERS = 2\n",
    "cfg.SOLVER.BASE_LR = 0.00025\n",
    "cfg.SOLVER.MAX_ITER = 2500\n",
    "cfg.MODEL.ROI_HEADS.BATCH_SIZE_PER_IMAGE = 128   # faster, and good enough for this toy dataset\n",
    "cfg.MODEL.ROI_HEADS.NUM_CLASSES = len(CAT_ID2NAME) \n",
    "\n",
    "cfg.INPUT.CROP.ENABLED = True\n",
    "cfg.INPUT.CROP.SIZE = [0.8, 0.8]"
   ]
  },
  {
   "cell_type": "markdown",
   "metadata": {},
   "source": [
    "#### カスタムトレーナー\n",
    "\n",
    "* DefaultTrainer は detectron2/engine/defaults.py にあります。\n",
    "* DefaultTrainer を全部書き換える必要は無く、今回の場合であればデーターマッパーを渡す部分を変更するだけで良いです。（オーバーライドすれば良いです。）\n",
    "* あとは、同じです。"
   ]
  },
  {
   "cell_type": "code",
   "execution_count": 6,
   "metadata": {},
   "outputs": [],
   "source": [
    "from machikado_util.MachikadoDatasetMapper import MachikadoDatasetMapper\n",
    "from detectron2.engine import DefaultTrainer\n",
    "\n",
    "class MachikadoTrainer(DefaultTrainer):\n",
    "    def __init__(self, cfg):\n",
    "        super().__init__(cfg)\n",
    "    \n",
    "    # ここをオーバーライドして、作った自分のデータマッパーを返すように変更する。\n",
    "    @classmethod\n",
    "    def build_train_loader(cls, cfg):\n",
    "        return build_detection_train_loader(cfg, MachikadoDatasetMapper(cfg))"
   ]
  },
  {
   "cell_type": "code",
   "execution_count": 7,
   "metadata": {},
   "outputs": [
    {
     "name": "stdout",
     "output_type": "stream",
     "text": [
      "\u001b[32m[04/14 07:37:43 d2.data.detection_utils]: \u001b[0mTransformGens used in training: [ResizeShortestEdge(short_edge_length=(640, 672, 704, 736, 768, 800), max_size=1333, sample_style='choice'), RandomFlip()]\n",
      "\u001b[32m[04/14 07:37:43 d2.data.build]: \u001b[0mRemoved 0 images with no usable annotations. 92 images left.\n",
      "\u001b[32m[04/14 07:37:43 d2.data.build]: \u001b[0mDistribution of instances among all 6 categories:\n",
      "\u001b[36m|  category  | #instances   |  category  | #instances   |  category  | #instances   |\n",
      "|:----------:|:-------------|:----------:|:-------------|:----------:|:-------------|\n",
      "|  Shamiko   | 74           |  Gosenzo   | 28           |   Lilith   | 11           |\n",
      "|    Momo    | 42           |   Mikan    | 15           |    Mob     | 19           |\n",
      "|            |              |            |              |            |              |\n",
      "|   total    | 189          |            |              |            |              |\u001b[0m\n",
      "\u001b[32m[04/14 07:37:43 d2.data.common]: \u001b[0mSerializing 92 elements to byte tensors and concatenating them all ...\n",
      "\u001b[32m[04/14 07:37:43 d2.data.common]: \u001b[0mSerialized dataset takes 0.24 MiB\n",
      "\u001b[32m[04/14 07:37:43 d2.data.build]: \u001b[0mUsing training sampler TrainingSampler\n"
     ]
    },
    {
     "name": "stderr",
     "output_type": "stream",
     "text": [
      "'roi_heads.box_predictor.cls_score.weight' has shape (81, 1024) in the checkpoint but (7, 1024) in the model! Skipped.\n",
      "'roi_heads.box_predictor.cls_score.bias' has shape (81,) in the checkpoint but (7,) in the model! Skipped.\n",
      "'roi_heads.box_predictor.bbox_pred.weight' has shape (320, 1024) in the checkpoint but (24, 1024) in the model! Skipped.\n",
      "'roi_heads.box_predictor.bbox_pred.bias' has shape (320,) in the checkpoint but (24,) in the model! Skipped.\n",
      "'roi_heads.mask_head.predictor.weight' has shape (80, 256, 1, 1) in the checkpoint but (6, 256, 1, 1) in the model! Skipped.\n",
      "'roi_heads.mask_head.predictor.bias' has shape (80,) in the checkpoint but (6,) in the model! Skipped.\n"
     ]
    },
    {
     "name": "stdout",
     "output_type": "stream",
     "text": [
      "\u001b[32m[04/14 07:37:45 d2.engine.train_loop]: \u001b[0mStarting training from iteration 0\n",
      "\u001b[32m[04/14 07:37:55 d2.utils.events]: \u001b[0m eta: 0:19:54  iter: 19  total_loss: 3.546  loss_cls: 2.001  loss_box_reg: 0.814  loss_mask: 0.690  loss_rpn_cls: 0.002  loss_rpn_loc: 0.017  time: 0.4902  data_time: 0.0101  lr: 0.000005  max_mem: 3782M\n",
      "\u001b[32m[04/14 07:38:04 d2.utils.events]: \u001b[0m eta: 0:20:09  iter: 39  total_loss: 3.506  loss_cls: 1.854  loss_box_reg: 0.878  loss_mask: 0.688  loss_rpn_cls: 0.002  loss_rpn_loc: 0.018  time: 0.4871  data_time: 0.0018  lr: 0.000010  max_mem: 3782M\n",
      "\u001b[32m[04/14 07:38:15 d2.utils.events]: \u001b[0m eta: 0:20:23  iter: 59  total_loss: 2.860  loss_cls: 1.579  loss_box_reg: 0.577  loss_mask: 0.682  loss_rpn_cls: 0.006  loss_rpn_loc: 0.016  time: 0.4916  data_time: 0.0020  lr: 0.000015  max_mem: 3782M\n",
      "\u001b[32m[04/14 07:38:25 d2.utils.events]: \u001b[0m eta: 0:20:13  iter: 79  total_loss: 2.711  loss_cls: 1.152  loss_box_reg: 0.809  loss_mask: 0.666  loss_rpn_cls: 0.003  loss_rpn_loc: 0.015  time: 0.4925  data_time: 0.0020  lr: 0.000020  max_mem: 3782M\n",
      "\u001b[32m[04/14 07:38:34 d2.utils.events]: \u001b[0m eta: 0:19:42  iter: 99  total_loss: 2.538  loss_cls: 0.896  loss_box_reg: 0.873  loss_mask: 0.679  loss_rpn_cls: 0.011  loss_rpn_loc: 0.019  time: 0.4874  data_time: 0.0019  lr: 0.000025  max_mem: 3782M\n",
      "\u001b[32m[04/14 07:38:44 d2.utils.events]: \u001b[0m eta: 0:19:56  iter: 119  total_loss: 2.078  loss_cls: 0.659  loss_box_reg: 0.671  loss_mask: 0.648  loss_rpn_cls: 0.009  loss_rpn_loc: 0.020  time: 0.4927  data_time: 0.0020  lr: 0.000030  max_mem: 3782M\n",
      "\u001b[32m[04/14 07:38:54 d2.utils.events]: \u001b[0m eta: 0:19:45  iter: 139  total_loss: 2.326  loss_cls: 0.743  loss_box_reg: 0.925  loss_mask: 0.631  loss_rpn_cls: 0.011  loss_rpn_loc: 0.016  time: 0.4926  data_time: 0.0019  lr: 0.000035  max_mem: 3782M\n",
      "\u001b[32m[04/14 07:39:04 d2.utils.events]: \u001b[0m eta: 0:19:29  iter: 159  total_loss: 1.778  loss_cls: 0.545  loss_box_reg: 0.560  loss_mask: 0.618  loss_rpn_cls: 0.002  loss_rpn_loc: 0.015  time: 0.4925  data_time: 0.0019  lr: 0.000040  max_mem: 3782M\n",
      "\u001b[32m[04/14 07:39:14 d2.utils.events]: \u001b[0m eta: 0:19:15  iter: 179  total_loss: 2.169  loss_cls: 0.653  loss_box_reg: 0.930  loss_mask: 0.590  loss_rpn_cls: 0.006  loss_rpn_loc: 0.014  time: 0.4900  data_time: 0.0019  lr: 0.000045  max_mem: 3782M\n",
      "\u001b[32m[04/14 07:39:23 d2.utils.events]: \u001b[0m eta: 0:18:59  iter: 199  total_loss: 2.164  loss_cls: 0.599  loss_box_reg: 0.941  loss_mask: 0.566  loss_rpn_cls: 0.001  loss_rpn_loc: 0.008  time: 0.4878  data_time: 0.0020  lr: 0.000050  max_mem: 3782M\n",
      "\u001b[32m[04/14 07:39:33 d2.utils.events]: \u001b[0m eta: 0:18:48  iter: 219  total_loss: 1.772  loss_cls: 0.551  loss_box_reg: 0.748  loss_mask: 0.529  loss_rpn_cls: 0.003  loss_rpn_loc: 0.015  time: 0.4867  data_time: 0.0020  lr: 0.000055  max_mem: 3782M\n",
      "\u001b[32m[04/14 07:39:42 d2.utils.events]: \u001b[0m eta: 0:18:37  iter: 239  total_loss: 1.745  loss_cls: 0.444  loss_box_reg: 0.717  loss_mask: 0.505  loss_rpn_cls: 0.001  loss_rpn_loc: 0.016  time: 0.4862  data_time: 0.0019  lr: 0.000060  max_mem: 3782M\n",
      "\u001b[32m[04/14 07:39:52 d2.utils.events]: \u001b[0m eta: 0:18:23  iter: 259  total_loss: 1.812  loss_cls: 0.486  loss_box_reg: 0.690  loss_mask: 0.491  loss_rpn_cls: 0.001  loss_rpn_loc: 0.013  time: 0.4842  data_time: 0.0019  lr: 0.000065  max_mem: 3782M\n",
      "\u001b[32m[04/14 07:40:01 d2.utils.events]: \u001b[0m eta: 0:18:13  iter: 279  total_loss: 1.805  loss_cls: 0.484  loss_box_reg: 0.885  loss_mask: 0.440  loss_rpn_cls: 0.001  loss_rpn_loc: 0.010  time: 0.4849  data_time: 0.0020  lr: 0.000070  max_mem: 3782M\n",
      "\u001b[32m[04/14 07:40:11 d2.utils.events]: \u001b[0m eta: 0:18:07  iter: 299  total_loss: 1.568  loss_cls: 0.401  loss_box_reg: 0.821  loss_mask: 0.410  loss_rpn_cls: 0.001  loss_rpn_loc: 0.014  time: 0.4858  data_time: 0.0020  lr: 0.000075  max_mem: 3782M\n",
      "\u001b[32m[04/14 07:40:21 d2.utils.events]: \u001b[0m eta: 0:17:55  iter: 319  total_loss: 1.538  loss_cls: 0.363  loss_box_reg: 0.730  loss_mask: 0.298  loss_rpn_cls: 0.001  loss_rpn_loc: 0.018  time: 0.4858  data_time: 0.0017  lr: 0.000080  max_mem: 3782M\n",
      "\u001b[32m[04/14 07:40:31 d2.utils.events]: \u001b[0m eta: 0:17:45  iter: 339  total_loss: 1.627  loss_cls: 0.482  loss_box_reg: 0.778  loss_mask: 0.360  loss_rpn_cls: 0.005  loss_rpn_loc: 0.018  time: 0.4856  data_time: 0.0016  lr: 0.000085  max_mem: 3782M\n",
      "\u001b[32m[04/14 07:40:40 d2.utils.events]: \u001b[0m eta: 0:17:35  iter: 359  total_loss: 1.471  loss_cls: 0.401  loss_box_reg: 0.697  loss_mask: 0.333  loss_rpn_cls: 0.000  loss_rpn_loc: 0.014  time: 0.4851  data_time: 0.0017  lr: 0.000090  max_mem: 3782M\n",
      "\u001b[32m[04/14 07:40:50 d2.utils.events]: \u001b[0m eta: 0:17:23  iter: 379  total_loss: 1.576  loss_cls: 0.454  loss_box_reg: 0.710  loss_mask: 0.345  loss_rpn_cls: 0.000  loss_rpn_loc: 0.014  time: 0.4841  data_time: 0.0019  lr: 0.000095  max_mem: 3782M\n",
      "\u001b[32m[04/14 07:41:00 d2.utils.events]: \u001b[0m eta: 0:17:14  iter: 399  total_loss: 1.295  loss_cls: 0.380  loss_box_reg: 0.589  loss_mask: 0.256  loss_rpn_cls: 0.000  loss_rpn_loc: 0.015  time: 0.4844  data_time: 0.0020  lr: 0.000100  max_mem: 3782M\n",
      "\u001b[32m[04/14 07:41:10 d2.utils.events]: \u001b[0m eta: 0:17:06  iter: 419  total_loss: 1.348  loss_cls: 0.439  loss_box_reg: 0.643  loss_mask: 0.287  loss_rpn_cls: 0.000  loss_rpn_loc: 0.023  time: 0.4849  data_time: 0.0019  lr: 0.000105  max_mem: 3782M\n",
      "\u001b[32m[04/14 07:41:20 d2.utils.events]: \u001b[0m eta: 0:16:56  iter: 439  total_loss: 1.265  loss_cls: 0.399  loss_box_reg: 0.616  loss_mask: 0.262  loss_rpn_cls: 0.000  loss_rpn_loc: 0.014  time: 0.4853  data_time: 0.0019  lr: 0.000110  max_mem: 3782M\n",
      "\u001b[32m[04/14 07:41:30 d2.utils.events]: \u001b[0m eta: 0:16:48  iter: 459  total_loss: 1.010  loss_cls: 0.347  loss_box_reg: 0.484  loss_mask: 0.215  loss_rpn_cls: 0.000  loss_rpn_loc: 0.010  time: 0.4868  data_time: 0.0019  lr: 0.000115  max_mem: 3782M\n",
      "\u001b[32m[04/14 07:41:40 d2.utils.events]: \u001b[0m eta: 0:16:40  iter: 479  total_loss: 0.996  loss_cls: 0.290  loss_box_reg: 0.355  loss_mask: 0.236  loss_rpn_cls: 0.000  loss_rpn_loc: 0.014  time: 0.4873  data_time: 0.0019  lr: 0.000120  max_mem: 3782M\n",
      "\u001b[32m[04/14 07:41:50 d2.utils.events]: \u001b[0m eta: 0:16:29  iter: 499  total_loss: 1.298  loss_cls: 0.422  loss_box_reg: 0.506  loss_mask: 0.252  loss_rpn_cls: 0.000  loss_rpn_loc: 0.019  time: 0.4871  data_time: 0.0019  lr: 0.000125  max_mem: 3782M\n",
      "\u001b[32m[04/14 07:42:00 d2.utils.events]: \u001b[0m eta: 0:16:20  iter: 519  total_loss: 0.990  loss_cls: 0.365  loss_box_reg: 0.378  loss_mask: 0.215  loss_rpn_cls: 0.000  loss_rpn_loc: 0.015  time: 0.4874  data_time: 0.0018  lr: 0.000130  max_mem: 3782M\n",
      "\u001b[32m[04/14 07:42:09 d2.utils.events]: \u001b[0m eta: 0:16:10  iter: 539  total_loss: 1.292  loss_cls: 0.367  loss_box_reg: 0.594  loss_mask: 0.254  loss_rpn_cls: 0.000  loss_rpn_loc: 0.022  time: 0.4873  data_time: 0.0019  lr: 0.000135  max_mem: 3782M\n",
      "\u001b[32m[04/14 07:42:19 d2.utils.events]: \u001b[0m eta: 0:15:59  iter: 559  total_loss: 1.037  loss_cls: 0.336  loss_box_reg: 0.438  loss_mask: 0.208  loss_rpn_cls: 0.000  loss_rpn_loc: 0.013  time: 0.4868  data_time: 0.0019  lr: 0.000140  max_mem: 3782M\n",
      "\u001b[32m[04/14 07:42:28 d2.utils.events]: \u001b[0m eta: 0:15:48  iter: 579  total_loss: 0.937  loss_cls: 0.324  loss_box_reg: 0.402  loss_mask: 0.193  loss_rpn_cls: 0.000  loss_rpn_loc: 0.014  time: 0.4862  data_time: 0.0018  lr: 0.000145  max_mem: 3782M\n",
      "\u001b[32m[04/14 07:42:39 d2.utils.events]: \u001b[0m eta: 0:15:40  iter: 599  total_loss: 0.794  loss_cls: 0.234  loss_box_reg: 0.311  loss_mask: 0.175  loss_rpn_cls: 0.000  loss_rpn_loc: 0.012  time: 0.4869  data_time: 0.0019  lr: 0.000150  max_mem: 3782M\n",
      "\u001b[32m[04/14 07:42:48 d2.utils.events]: \u001b[0m eta: 0:15:30  iter: 619  total_loss: 0.962  loss_cls: 0.349  loss_box_reg: 0.312  loss_mask: 0.250  loss_rpn_cls: 0.000  loss_rpn_loc: 0.015  time: 0.4868  data_time: 0.0019  lr: 0.000155  max_mem: 3782M\n",
      "\u001b[32m[04/14 07:42:58 d2.utils.events]: \u001b[0m eta: 0:15:20  iter: 639  total_loss: 0.887  loss_cls: 0.322  loss_box_reg: 0.377  loss_mask: 0.189  loss_rpn_cls: 0.000  loss_rpn_loc: 0.019  time: 0.4867  data_time: 0.0020  lr: 0.000160  max_mem: 3782M\n",
      "\u001b[32m[04/14 07:43:08 d2.utils.events]: \u001b[0m eta: 0:15:11  iter: 659  total_loss: 0.793  loss_cls: 0.316  loss_box_reg: 0.240  loss_mask: 0.151  loss_rpn_cls: 0.000  loss_rpn_loc: 0.011  time: 0.4867  data_time: 0.0020  lr: 0.000165  max_mem: 3782M\n",
      "\u001b[32m[04/14 07:43:17 d2.utils.events]: \u001b[0m eta: 0:15:01  iter: 679  total_loss: 0.829  loss_cls: 0.270  loss_box_reg: 0.356  loss_mask: 0.187  loss_rpn_cls: 0.000  loss_rpn_loc: 0.010  time: 0.4863  data_time: 0.0020  lr: 0.000170  max_mem: 3782M\n",
      "\u001b[32m[04/14 07:43:27 d2.utils.events]: \u001b[0m eta: 0:14:51  iter: 699  total_loss: 1.102  loss_cls: 0.320  loss_box_reg: 0.373  loss_mask: 0.228  loss_rpn_cls: 0.000  loss_rpn_loc: 0.013  time: 0.4864  data_time: 0.0019  lr: 0.000175  max_mem: 3782M\n",
      "\u001b[32m[04/14 07:43:37 d2.utils.events]: \u001b[0m eta: 0:14:42  iter: 719  total_loss: 0.762  loss_cls: 0.287  loss_box_reg: 0.293  loss_mask: 0.153  loss_rpn_cls: 0.000  loss_rpn_loc: 0.012  time: 0.4867  data_time: 0.0020  lr: 0.000180  max_mem: 3782M\n",
      "\u001b[32m[04/14 07:43:47 d2.utils.events]: \u001b[0m eta: 0:14:32  iter: 739  total_loss: 0.570  loss_cls: 0.163  loss_box_reg: 0.217  loss_mask: 0.138  loss_rpn_cls: 0.001  loss_rpn_loc: 0.015  time: 0.4869  data_time: 0.0020  lr: 0.000185  max_mem: 3782M\n",
      "\u001b[32m[04/14 07:43:57 d2.utils.events]: \u001b[0m eta: 0:14:20  iter: 759  total_loss: 0.719  loss_cls: 0.216  loss_box_reg: 0.284  loss_mask: 0.150  loss_rpn_cls: 0.000  loss_rpn_loc: 0.019  time: 0.4866  data_time: 0.0020  lr: 0.000190  max_mem: 3782M\n",
      "\u001b[32m[04/14 07:44:07 d2.utils.events]: \u001b[0m eta: 0:14:11  iter: 779  total_loss: 0.674  loss_cls: 0.212  loss_box_reg: 0.266  loss_mask: 0.161  loss_rpn_cls: 0.000  loss_rpn_loc: 0.010  time: 0.4868  data_time: 0.0016  lr: 0.000195  max_mem: 3782M\n",
      "\u001b[32m[04/14 07:44:16 d2.utils.events]: \u001b[0m eta: 0:14:01  iter: 799  total_loss: 0.843  loss_cls: 0.317  loss_box_reg: 0.301  loss_mask: 0.171  loss_rpn_cls: 0.000  loss_rpn_loc: 0.011  time: 0.4866  data_time: 0.0016  lr: 0.000200  max_mem: 3782M\n",
      "\u001b[32m[04/14 07:44:27 d2.utils.events]: \u001b[0m eta: 0:13:52  iter: 819  total_loss: 0.687  loss_cls: 0.267  loss_box_reg: 0.282  loss_mask: 0.147  loss_rpn_cls: 0.000  loss_rpn_loc: 0.016  time: 0.4875  data_time: 0.0017  lr: 0.000205  max_mem: 3782M\n",
      "\u001b[32m[04/14 07:44:37 d2.utils.events]: \u001b[0m eta: 0:13:42  iter: 839  total_loss: 0.574  loss_cls: 0.194  loss_box_reg: 0.299  loss_mask: 0.137  loss_rpn_cls: 0.000  loss_rpn_loc: 0.009  time: 0.4875  data_time: 0.0017  lr: 0.000210  max_mem: 3782M\n",
      "\u001b[32m[04/14 07:44:46 d2.utils.events]: \u001b[0m eta: 0:13:32  iter: 859  total_loss: 0.491  loss_cls: 0.123  loss_box_reg: 0.205  loss_mask: 0.123  loss_rpn_cls: 0.000  loss_rpn_loc: 0.011  time: 0.4870  data_time: 0.0017  lr: 0.000215  max_mem: 3782M\n",
      "\u001b[32m[04/14 07:44:56 d2.utils.events]: \u001b[0m eta: 0:13:22  iter: 879  total_loss: 0.645  loss_cls: 0.212  loss_box_reg: 0.227  loss_mask: 0.156  loss_rpn_cls: 0.000  loss_rpn_loc: 0.010  time: 0.4869  data_time: 0.0017  lr: 0.000220  max_mem: 3782M\n",
      "\u001b[32m[04/14 07:45:05 d2.utils.events]: \u001b[0m eta: 0:13:11  iter: 899  total_loss: 0.769  loss_cls: 0.193  loss_box_reg: 0.322  loss_mask: 0.185  loss_rpn_cls: 0.000  loss_rpn_loc: 0.011  time: 0.4865  data_time: 0.0017  lr: 0.000225  max_mem: 3782M\n",
      "\u001b[32m[04/14 07:45:15 d2.utils.events]: \u001b[0m eta: 0:13:01  iter: 919  total_loss: 0.609  loss_cls: 0.173  loss_box_reg: 0.229  loss_mask: 0.171  loss_rpn_cls: 0.000  loss_rpn_loc: 0.013  time: 0.4862  data_time: 0.0017  lr: 0.000230  max_mem: 3782M\n",
      "\u001b[32m[04/14 07:45:25 d2.utils.events]: \u001b[0m eta: 0:12:52  iter: 939  total_loss: 0.619  loss_cls: 0.198  loss_box_reg: 0.229  loss_mask: 0.156  loss_rpn_cls: 0.000  loss_rpn_loc: 0.011  time: 0.4865  data_time: 0.0017  lr: 0.000235  max_mem: 3782M\n",
      "\u001b[32m[04/14 07:45:35 d2.utils.events]: \u001b[0m eta: 0:12:42  iter: 959  total_loss: 0.547  loss_cls: 0.127  loss_box_reg: 0.210  loss_mask: 0.112  loss_rpn_cls: 0.000  loss_rpn_loc: 0.008  time: 0.4870  data_time: 0.0017  lr: 0.000240  max_mem: 3782M\n",
      "\u001b[32m[04/14 07:45:45 d2.utils.events]: \u001b[0m eta: 0:12:33  iter: 979  total_loss: 0.628  loss_cls: 0.194  loss_box_reg: 0.316  loss_mask: 0.162  loss_rpn_cls: 0.000  loss_rpn_loc: 0.020  time: 0.4872  data_time: 0.0016  lr: 0.000245  max_mem: 3782M\n",
      "\u001b[32m[04/14 07:45:54 d2.utils.events]: \u001b[0m eta: 0:12:22  iter: 999  total_loss: 0.501  loss_cls: 0.124  loss_box_reg: 0.202  loss_mask: 0.139  loss_rpn_cls: 0.000  loss_rpn_loc: 0.010  time: 0.4867  data_time: 0.0017  lr: 0.000250  max_mem: 3782M\n",
      "\u001b[32m[04/14 07:46:05 d2.utils.events]: \u001b[0m eta: 0:12:14  iter: 1019  total_loss: 0.618  loss_cls: 0.161  loss_box_reg: 0.264  loss_mask: 0.150  loss_rpn_cls: 0.000  loss_rpn_loc: 0.014  time: 0.4871  data_time: 0.0017  lr: 0.000250  max_mem: 3782M\n",
      "\u001b[32m[04/14 07:46:14 d2.utils.events]: \u001b[0m eta: 0:12:02  iter: 1039  total_loss: 0.608  loss_cls: 0.201  loss_box_reg: 0.244  loss_mask: 0.152  loss_rpn_cls: 0.000  loss_rpn_loc: 0.015  time: 0.4867  data_time: 0.0017  lr: 0.000250  max_mem: 3782M\n",
      "\u001b[32m[04/14 07:46:24 d2.utils.events]: \u001b[0m eta: 0:11:52  iter: 1059  total_loss: 0.495  loss_cls: 0.125  loss_box_reg: 0.212  loss_mask: 0.114  loss_rpn_cls: 0.000  loss_rpn_loc: 0.011  time: 0.4865  data_time: 0.0016  lr: 0.000250  max_mem: 3782M\n",
      "\u001b[32m[04/14 07:46:33 d2.utils.events]: \u001b[0m eta: 0:11:42  iter: 1079  total_loss: 0.464  loss_cls: 0.098  loss_box_reg: 0.224  loss_mask: 0.098  loss_rpn_cls: 0.000  loss_rpn_loc: 0.011  time: 0.4866  data_time: 0.0016  lr: 0.000250  max_mem: 3782M\n",
      "\u001b[32m[04/14 07:46:43 d2.utils.events]: \u001b[0m eta: 0:11:33  iter: 1099  total_loss: 0.538  loss_cls: 0.113  loss_box_reg: 0.206  loss_mask: 0.146  loss_rpn_cls: 0.000  loss_rpn_loc: 0.010  time: 0.4865  data_time: 0.0016  lr: 0.000250  max_mem: 3782M\n",
      "\u001b[32m[04/14 07:46:53 d2.utils.events]: \u001b[0m eta: 0:11:22  iter: 1119  total_loss: 0.413  loss_cls: 0.100  loss_box_reg: 0.177  loss_mask: 0.101  loss_rpn_cls: 0.000  loss_rpn_loc: 0.009  time: 0.4866  data_time: 0.0018  lr: 0.000250  max_mem: 3782M\n",
      "\u001b[32m[04/14 07:47:02 d2.utils.events]: \u001b[0m eta: 0:11:11  iter: 1139  total_loss: 0.535  loss_cls: 0.137  loss_box_reg: 0.217  loss_mask: 0.151  loss_rpn_cls: 0.000  loss_rpn_loc: 0.010  time: 0.4862  data_time: 0.0019  lr: 0.000250  max_mem: 3782M\n",
      "\u001b[32m[04/14 07:47:12 d2.utils.events]: \u001b[0m eta: 0:11:01  iter: 1159  total_loss: 0.447  loss_cls: 0.095  loss_box_reg: 0.193  loss_mask: 0.118  loss_rpn_cls: 0.000  loss_rpn_loc: 0.012  time: 0.4859  data_time: 0.0020  lr: 0.000250  max_mem: 3782M\n",
      "\u001b[32m[04/14 07:47:21 d2.utils.events]: \u001b[0m eta: 0:10:51  iter: 1179  total_loss: 0.452  loss_cls: 0.105  loss_box_reg: 0.197  loss_mask: 0.093  loss_rpn_cls: 0.000  loss_rpn_loc: 0.008  time: 0.4857  data_time: 0.0019  lr: 0.000250  max_mem: 3782M\n",
      "\u001b[32m[04/14 07:47:31 d2.utils.events]: \u001b[0m eta: 0:10:41  iter: 1199  total_loss: 0.521  loss_cls: 0.107  loss_box_reg: 0.249  loss_mask: 0.135  loss_rpn_cls: 0.000  loss_rpn_loc: 0.011  time: 0.4857  data_time: 0.0019  lr: 0.000250  max_mem: 3782M\n",
      "\u001b[32m[04/14 07:47:41 d2.utils.events]: \u001b[0m eta: 0:10:31  iter: 1219  total_loss: 0.458  loss_cls: 0.135  loss_box_reg: 0.175  loss_mask: 0.108  loss_rpn_cls: 0.000  loss_rpn_loc: 0.011  time: 0.4855  data_time: 0.0019  lr: 0.000250  max_mem: 3782M\n",
      "\u001b[32m[04/14 07:47:50 d2.utils.events]: \u001b[0m eta: 0:10:21  iter: 1239  total_loss: 0.402  loss_cls: 0.099  loss_box_reg: 0.188  loss_mask: 0.110  loss_rpn_cls: 0.000  loss_rpn_loc: 0.011  time: 0.4854  data_time: 0.0019  lr: 0.000250  max_mem: 3782M\n",
      "\u001b[32m[04/14 07:48:00 d2.utils.events]: \u001b[0m eta: 0:10:12  iter: 1259  total_loss: 0.375  loss_cls: 0.089  loss_box_reg: 0.177  loss_mask: 0.112  loss_rpn_cls: 0.000  loss_rpn_loc: 0.009  time: 0.4857  data_time: 0.0016  lr: 0.000250  max_mem: 3782M\n",
      "\u001b[32m[04/14 07:48:10 d2.utils.events]: \u001b[0m eta: 0:10:02  iter: 1279  total_loss: 0.447  loss_cls: 0.070  loss_box_reg: 0.211  loss_mask: 0.104  loss_rpn_cls: 0.000  loss_rpn_loc: 0.007  time: 0.4858  data_time: 0.0016  lr: 0.000250  max_mem: 3782M\n",
      "\u001b[32m[04/14 07:48:20 d2.utils.events]: \u001b[0m eta: 0:09:52  iter: 1299  total_loss: 0.526  loss_cls: 0.102  loss_box_reg: 0.243  loss_mask: 0.125  loss_rpn_cls: 0.000  loss_rpn_loc: 0.008  time: 0.4855  data_time: 0.0016  lr: 0.000250  max_mem: 3782M\n",
      "\u001b[32m[04/14 07:48:30 d2.utils.events]: \u001b[0m eta: 0:09:42  iter: 1319  total_loss: 0.381  loss_cls: 0.093  loss_box_reg: 0.167  loss_mask: 0.102  loss_rpn_cls: 0.000  loss_rpn_loc: 0.012  time: 0.4857  data_time: 0.0017  lr: 0.000250  max_mem: 3782M\n",
      "\u001b[32m[04/14 07:48:40 d2.utils.events]: \u001b[0m eta: 0:09:32  iter: 1339  total_loss: 0.388  loss_cls: 0.068  loss_box_reg: 0.189  loss_mask: 0.105  loss_rpn_cls: 0.000  loss_rpn_loc: 0.015  time: 0.4857  data_time: 0.0018  lr: 0.000250  max_mem: 3782M\n",
      "\u001b[32m[04/14 07:48:49 d2.utils.events]: \u001b[0m eta: 0:09:22  iter: 1359  total_loss: 0.313  loss_cls: 0.055  loss_box_reg: 0.147  loss_mask: 0.101  loss_rpn_cls: 0.000  loss_rpn_loc: 0.009  time: 0.4857  data_time: 0.0019  lr: 0.000250  max_mem: 3782M\n",
      "\u001b[32m[04/14 07:48:59 d2.utils.events]: \u001b[0m eta: 0:09:12  iter: 1379  total_loss: 0.419  loss_cls: 0.062  loss_box_reg: 0.203  loss_mask: 0.111  loss_rpn_cls: 0.000  loss_rpn_loc: 0.008  time: 0.4857  data_time: 0.0021  lr: 0.000250  max_mem: 3782M\n",
      "\u001b[32m[04/14 07:49:09 d2.utils.events]: \u001b[0m eta: 0:09:02  iter: 1399  total_loss: 0.360  loss_cls: 0.063  loss_box_reg: 0.200  loss_mask: 0.096  loss_rpn_cls: 0.000  loss_rpn_loc: 0.007  time: 0.4855  data_time: 0.0019  lr: 0.000250  max_mem: 3782M\n",
      "\u001b[32m[04/14 07:49:19 d2.utils.events]: \u001b[0m eta: 0:08:53  iter: 1419  total_loss: 0.341  loss_cls: 0.050  loss_box_reg: 0.169  loss_mask: 0.076  loss_rpn_cls: 0.000  loss_rpn_loc: 0.015  time: 0.4857  data_time: 0.0019  lr: 0.000250  max_mem: 3782M\n",
      "\u001b[32m[04/14 07:49:28 d2.utils.events]: \u001b[0m eta: 0:08:42  iter: 1439  total_loss: 0.415  loss_cls: 0.071  loss_box_reg: 0.220  loss_mask: 0.113  loss_rpn_cls: 0.000  loss_rpn_loc: 0.007  time: 0.4853  data_time: 0.0019  lr: 0.000250  max_mem: 3782M\n",
      "\u001b[32m[04/14 07:49:37 d2.utils.events]: \u001b[0m eta: 0:08:31  iter: 1459  total_loss: 0.406  loss_cls: 0.076  loss_box_reg: 0.155  loss_mask: 0.101  loss_rpn_cls: 0.000  loss_rpn_loc: 0.010  time: 0.4851  data_time: 0.0019  lr: 0.000250  max_mem: 3782M\n",
      "\u001b[32m[04/14 07:49:47 d2.utils.events]: \u001b[0m eta: 0:08:21  iter: 1479  total_loss: 0.362  loss_cls: 0.063  loss_box_reg: 0.190  loss_mask: 0.090  loss_rpn_cls: 0.000  loss_rpn_loc: 0.012  time: 0.4850  data_time: 0.0017  lr: 0.000250  max_mem: 3782M\n",
      "\u001b[32m[04/14 07:49:57 d2.utils.events]: \u001b[0m eta: 0:08:12  iter: 1499  total_loss: 0.336  loss_cls: 0.054  loss_box_reg: 0.153  loss_mask: 0.087  loss_rpn_cls: 0.000  loss_rpn_loc: 0.011  time: 0.4851  data_time: 0.0018  lr: 0.000250  max_mem: 3782M\n",
      "\u001b[32m[04/14 07:50:06 d2.utils.events]: \u001b[0m eta: 0:08:01  iter: 1519  total_loss: 0.362  loss_cls: 0.052  loss_box_reg: 0.158  loss_mask: 0.096  loss_rpn_cls: 0.000  loss_rpn_loc: 0.006  time: 0.4849  data_time: 0.0018  lr: 0.000250  max_mem: 3782M\n",
      "\u001b[32m[04/14 07:50:16 d2.utils.events]: \u001b[0m eta: 0:07:52  iter: 1539  total_loss: 0.369  loss_cls: 0.068  loss_box_reg: 0.175  loss_mask: 0.094  loss_rpn_cls: 0.000  loss_rpn_loc: 0.008  time: 0.4851  data_time: 0.0018  lr: 0.000250  max_mem: 3782M\n",
      "\u001b[32m[04/14 07:50:26 d2.utils.events]: \u001b[0m eta: 0:07:42  iter: 1559  total_loss: 0.463  loss_cls: 0.076  loss_box_reg: 0.209  loss_mask: 0.128  loss_rpn_cls: 0.000  loss_rpn_loc: 0.009  time: 0.4852  data_time: 0.0018  lr: 0.000250  max_mem: 3782M\n",
      "\u001b[32m[04/14 07:50:36 d2.utils.events]: \u001b[0m eta: 0:07:32  iter: 1579  total_loss: 0.331  loss_cls: 0.056  loss_box_reg: 0.161  loss_mask: 0.091  loss_rpn_cls: 0.000  loss_rpn_loc: 0.005  time: 0.4851  data_time: 0.0021  lr: 0.000250  max_mem: 3782M\n",
      "\u001b[32m[04/14 07:50:45 d2.utils.events]: \u001b[0m eta: 0:07:22  iter: 1599  total_loss: 0.278  loss_cls: 0.046  loss_box_reg: 0.135  loss_mask: 0.083  loss_rpn_cls: 0.000  loss_rpn_loc: 0.007  time: 0.4848  data_time: 0.0020  lr: 0.000250  max_mem: 3782M\n",
      "\u001b[32m[04/14 07:50:55 d2.utils.events]: \u001b[0m eta: 0:07:12  iter: 1619  total_loss: 0.381  loss_cls: 0.087  loss_box_reg: 0.158  loss_mask: 0.114  loss_rpn_cls: 0.000  loss_rpn_loc: 0.007  time: 0.4850  data_time: 0.0020  lr: 0.000250  max_mem: 3782M\n",
      "\u001b[32m[04/14 07:51:05 d2.utils.events]: \u001b[0m eta: 0:07:02  iter: 1639  total_loss: 0.316  loss_cls: 0.085  loss_box_reg: 0.156  loss_mask: 0.098  loss_rpn_cls: 0.000  loss_rpn_loc: 0.009  time: 0.4849  data_time: 0.0019  lr: 0.000250  max_mem: 3782M\n",
      "\u001b[32m[04/14 07:51:15 d2.utils.events]: \u001b[0m eta: 0:06:52  iter: 1659  total_loss: 0.435  loss_cls: 0.104  loss_box_reg: 0.187  loss_mask: 0.112  loss_rpn_cls: 0.000  loss_rpn_loc: 0.009  time: 0.4849  data_time: 0.0020  lr: 0.000250  max_mem: 3782M\n",
      "\u001b[32m[04/14 07:51:24 d2.utils.events]: \u001b[0m eta: 0:06:42  iter: 1679  total_loss: 0.365  loss_cls: 0.067  loss_box_reg: 0.182  loss_mask: 0.111  loss_rpn_cls: 0.000  loss_rpn_loc: 0.011  time: 0.4849  data_time: 0.0019  lr: 0.000250  max_mem: 3782M\n",
      "\u001b[32m[04/14 07:51:34 d2.utils.events]: \u001b[0m eta: 0:06:33  iter: 1699  total_loss: 0.303  loss_cls: 0.057  loss_box_reg: 0.151  loss_mask: 0.088  loss_rpn_cls: 0.000  loss_rpn_loc: 0.008  time: 0.4850  data_time: 0.0020  lr: 0.000250  max_mem: 3782M\n",
      "\u001b[32m[04/14 07:51:44 d2.utils.events]: \u001b[0m eta: 0:06:22  iter: 1719  total_loss: 0.324  loss_cls: 0.055  loss_box_reg: 0.174  loss_mask: 0.098  loss_rpn_cls: 0.001  loss_rpn_loc: 0.008  time: 0.4848  data_time: 0.0019  lr: 0.000250  max_mem: 3782M\n",
      "\u001b[32m[04/14 07:51:54 d2.utils.events]: \u001b[0m eta: 0:06:12  iter: 1739  total_loss: 0.314  loss_cls: 0.042  loss_box_reg: 0.171  loss_mask: 0.082  loss_rpn_cls: 0.000  loss_rpn_loc: 0.011  time: 0.4849  data_time: 0.0020  lr: 0.000250  max_mem: 3782M\n",
      "\u001b[32m[04/14 07:52:03 d2.utils.events]: \u001b[0m eta: 0:06:02  iter: 1759  total_loss: 0.379  loss_cls: 0.051  loss_box_reg: 0.171  loss_mask: 0.097  loss_rpn_cls: 0.000  loss_rpn_loc: 0.009  time: 0.4846  data_time: 0.0020  lr: 0.000250  max_mem: 3782M\n",
      "\u001b[32m[04/14 07:52:13 d2.utils.events]: \u001b[0m eta: 0:05:53  iter: 1779  total_loss: 0.359  loss_cls: 0.061  loss_box_reg: 0.178  loss_mask: 0.110  loss_rpn_cls: 0.000  loss_rpn_loc: 0.009  time: 0.4848  data_time: 0.0020  lr: 0.000250  max_mem: 3782M\n",
      "\u001b[32m[04/14 07:52:22 d2.utils.events]: \u001b[0m eta: 0:05:43  iter: 1799  total_loss: 0.383  loss_cls: 0.059  loss_box_reg: 0.154  loss_mask: 0.108  loss_rpn_cls: 0.000  loss_rpn_loc: 0.010  time: 0.4847  data_time: 0.0018  lr: 0.000250  max_mem: 3782M\n",
      "\u001b[32m[04/14 07:52:32 d2.utils.events]: \u001b[0m eta: 0:05:32  iter: 1819  total_loss: 0.319  loss_cls: 0.049  loss_box_reg: 0.149  loss_mask: 0.078  loss_rpn_cls: 0.000  loss_rpn_loc: 0.017  time: 0.4847  data_time: 0.0020  lr: 0.000250  max_mem: 3782M\n",
      "\u001b[32m[04/14 07:52:42 d2.utils.events]: \u001b[0m eta: 0:05:22  iter: 1839  total_loss: 0.295  loss_cls: 0.039  loss_box_reg: 0.154  loss_mask: 0.093  loss_rpn_cls: 0.000  loss_rpn_loc: 0.010  time: 0.4846  data_time: 0.0020  lr: 0.000250  max_mem: 3782M\n",
      "\u001b[32m[04/14 07:52:51 d2.utils.events]: \u001b[0m eta: 0:05:12  iter: 1859  total_loss: 0.268  loss_cls: 0.038  loss_box_reg: 0.151  loss_mask: 0.087  loss_rpn_cls: 0.000  loss_rpn_loc: 0.009  time: 0.4843  data_time: 0.0019  lr: 0.000250  max_mem: 3782M\n",
      "\u001b[32m[04/14 07:53:01 d2.utils.events]: \u001b[0m eta: 0:05:02  iter: 1879  total_loss: 0.303  loss_cls: 0.048  loss_box_reg: 0.174  loss_mask: 0.094  loss_rpn_cls: 0.000  loss_rpn_loc: 0.006  time: 0.4843  data_time: 0.0019  lr: 0.000250  max_mem: 3782M\n",
      "\u001b[32m[04/14 07:53:10 d2.utils.events]: \u001b[0m eta: 0:04:52  iter: 1899  total_loss: 0.359  loss_cls: 0.050  loss_box_reg: 0.176  loss_mask: 0.114  loss_rpn_cls: 0.000  loss_rpn_loc: 0.009  time: 0.4841  data_time: 0.0018  lr: 0.000250  max_mem: 3782M\n",
      "\u001b[32m[04/14 07:53:20 d2.utils.events]: \u001b[0m eta: 0:04:43  iter: 1919  total_loss: 0.262  loss_cls: 0.036  loss_box_reg: 0.108  loss_mask: 0.081  loss_rpn_cls: 0.000  loss_rpn_loc: 0.016  time: 0.4841  data_time: 0.0020  lr: 0.000250  max_mem: 3782M\n",
      "\u001b[32m[04/14 07:53:29 d2.utils.events]: \u001b[0m eta: 0:04:33  iter: 1939  total_loss: 0.385  loss_cls: 0.074  loss_box_reg: 0.176  loss_mask: 0.109  loss_rpn_cls: 0.000  loss_rpn_loc: 0.007  time: 0.4841  data_time: 0.0020  lr: 0.000250  max_mem: 3782M\n",
      "\u001b[32m[04/14 07:53:39 d2.utils.events]: \u001b[0m eta: 0:04:23  iter: 1959  total_loss: 0.370  loss_cls: 0.056  loss_box_reg: 0.181  loss_mask: 0.103  loss_rpn_cls: 0.000  loss_rpn_loc: 0.010  time: 0.4841  data_time: 0.0021  lr: 0.000250  max_mem: 3782M\n",
      "\u001b[32m[04/14 07:53:49 d2.utils.events]: \u001b[0m eta: 0:04:13  iter: 1979  total_loss: 0.287  loss_cls: 0.044  loss_box_reg: 0.166  loss_mask: 0.095  loss_rpn_cls: 0.000  loss_rpn_loc: 0.016  time: 0.4841  data_time: 0.0019  lr: 0.000250  max_mem: 3782M\n",
      "\u001b[32m[04/14 07:53:59 d2.utils.events]: \u001b[0m eta: 0:04:04  iter: 1999  total_loss: 0.315  loss_cls: 0.052  loss_box_reg: 0.143  loss_mask: 0.090  loss_rpn_cls: 0.000  loss_rpn_loc: 0.014  time: 0.4843  data_time: 0.0019  lr: 0.000250  max_mem: 3782M\n",
      "\u001b[32m[04/14 07:54:09 d2.utils.events]: \u001b[0m eta: 0:03:54  iter: 2019  total_loss: 0.270  loss_cls: 0.035  loss_box_reg: 0.119  loss_mask: 0.080  loss_rpn_cls: 0.000  loss_rpn_loc: 0.010  time: 0.4843  data_time: 0.0019  lr: 0.000250  max_mem: 3782M\n",
      "\u001b[32m[04/14 07:54:19 d2.utils.events]: \u001b[0m eta: 0:03:45  iter: 2039  total_loss: 0.293  loss_cls: 0.038  loss_box_reg: 0.164  loss_mask: 0.095  loss_rpn_cls: 0.000  loss_rpn_loc: 0.010  time: 0.4844  data_time: 0.0020  lr: 0.000250  max_mem: 3782M\n",
      "\u001b[32m[04/14 07:54:28 d2.utils.events]: \u001b[0m eta: 0:03:35  iter: 2059  total_loss: 0.316  loss_cls: 0.054  loss_box_reg: 0.156  loss_mask: 0.094  loss_rpn_cls: 0.000  loss_rpn_loc: 0.007  time: 0.4842  data_time: 0.0019  lr: 0.000250  max_mem: 3782M\n",
      "\u001b[32m[04/14 07:54:38 d2.utils.events]: \u001b[0m eta: 0:03:25  iter: 2079  total_loss: 0.293  loss_cls: 0.058  loss_box_reg: 0.143  loss_mask: 0.094  loss_rpn_cls: 0.000  loss_rpn_loc: 0.007  time: 0.4841  data_time: 0.0019  lr: 0.000250  max_mem: 3782M\n",
      "\u001b[32m[04/14 07:54:47 d2.utils.events]: \u001b[0m eta: 0:03:15  iter: 2099  total_loss: 0.261  loss_cls: 0.028  loss_box_reg: 0.155  loss_mask: 0.078  loss_rpn_cls: 0.000  loss_rpn_loc: 0.008  time: 0.4840  data_time: 0.0020  lr: 0.000250  max_mem: 3782M\n",
      "\u001b[32m[04/14 07:54:57 d2.utils.events]: \u001b[0m eta: 0:03:05  iter: 2119  total_loss: 0.243  loss_cls: 0.033  loss_box_reg: 0.090  loss_mask: 0.091  loss_rpn_cls: 0.000  loss_rpn_loc: 0.010  time: 0.4840  data_time: 0.0020  lr: 0.000250  max_mem: 3782M\n",
      "\u001b[32m[04/14 07:55:06 d2.utils.events]: \u001b[0m eta: 0:02:56  iter: 2139  total_loss: 0.339  loss_cls: 0.045  loss_box_reg: 0.165  loss_mask: 0.103  loss_rpn_cls: 0.000  loss_rpn_loc: 0.007  time: 0.4839  data_time: 0.0020  lr: 0.000250  max_mem: 3782M\n",
      "\u001b[32m[04/14 07:55:16 d2.utils.events]: \u001b[0m eta: 0:02:46  iter: 2159  total_loss: 0.254  loss_cls: 0.036  loss_box_reg: 0.127  loss_mask: 0.077  loss_rpn_cls: 0.000  loss_rpn_loc: 0.005  time: 0.4837  data_time: 0.0020  lr: 0.000250  max_mem: 3782M\n",
      "\u001b[32m[04/14 07:55:26 d2.utils.events]: \u001b[0m eta: 0:02:36  iter: 2179  total_loss: 0.274  loss_cls: 0.030  loss_box_reg: 0.116  loss_mask: 0.092  loss_rpn_cls: 0.000  loss_rpn_loc: 0.010  time: 0.4838  data_time: 0.0020  lr: 0.000250  max_mem: 3782M\n",
      "\u001b[32m[04/14 07:55:36 d2.utils.events]: \u001b[0m eta: 0:02:27  iter: 2199  total_loss: 0.285  loss_cls: 0.041  loss_box_reg: 0.145  loss_mask: 0.080  loss_rpn_cls: 0.000  loss_rpn_loc: 0.009  time: 0.4839  data_time: 0.0018  lr: 0.000250  max_mem: 3782M\n",
      "\u001b[32m[04/14 07:55:45 d2.utils.events]: \u001b[0m eta: 0:02:17  iter: 2219  total_loss: 0.285  loss_cls: 0.037  loss_box_reg: 0.125  loss_mask: 0.091  loss_rpn_cls: 0.000  loss_rpn_loc: 0.007  time: 0.4838  data_time: 0.0018  lr: 0.000250  max_mem: 3782M\n",
      "\u001b[32m[04/14 07:55:55 d2.utils.events]: \u001b[0m eta: 0:02:07  iter: 2239  total_loss: 0.339  loss_cls: 0.042  loss_box_reg: 0.155  loss_mask: 0.100  loss_rpn_cls: 0.000  loss_rpn_loc: 0.009  time: 0.4837  data_time: 0.0019  lr: 0.000250  max_mem: 3782M\n",
      "\u001b[32m[04/14 07:56:05 d2.utils.events]: \u001b[0m eta: 0:01:58  iter: 2259  total_loss: 0.214  loss_cls: 0.036  loss_box_reg: 0.061  loss_mask: 0.078  loss_rpn_cls: 0.000  loss_rpn_loc: 0.008  time: 0.4838  data_time: 0.0019  lr: 0.000250  max_mem: 3782M\n",
      "\u001b[32m[04/14 07:56:14 d2.utils.events]: \u001b[0m eta: 0:01:48  iter: 2279  total_loss: 0.328  loss_cls: 0.037  loss_box_reg: 0.143  loss_mask: 0.083  loss_rpn_cls: 0.000  loss_rpn_loc: 0.009  time: 0.4836  data_time: 0.0018  lr: 0.000250  max_mem: 3782M\n",
      "\u001b[32m[04/14 07:56:24 d2.utils.events]: \u001b[0m eta: 0:01:38  iter: 2299  total_loss: 0.262  loss_cls: 0.046  loss_box_reg: 0.134  loss_mask: 0.080  loss_rpn_cls: 0.000  loss_rpn_loc: 0.008  time: 0.4837  data_time: 0.0018  lr: 0.000250  max_mem: 3782M\n",
      "\u001b[32m[04/14 07:56:33 d2.utils.events]: \u001b[0m eta: 0:01:28  iter: 2319  total_loss: 0.277  loss_cls: 0.025  loss_box_reg: 0.104  loss_mask: 0.101  loss_rpn_cls: 0.000  loss_rpn_loc: 0.012  time: 0.4837  data_time: 0.0018  lr: 0.000250  max_mem: 3782M\n",
      "\u001b[32m[04/14 07:56:43 d2.utils.events]: \u001b[0m eta: 0:01:18  iter: 2339  total_loss: 0.270  loss_cls: 0.023  loss_box_reg: 0.139  loss_mask: 0.070  loss_rpn_cls: 0.000  loss_rpn_loc: 0.007  time: 0.4837  data_time: 0.0018  lr: 0.000250  max_mem: 3782M\n",
      "\u001b[32m[04/14 07:56:53 d2.utils.events]: \u001b[0m eta: 0:01:08  iter: 2359  total_loss: 0.266  loss_cls: 0.038  loss_box_reg: 0.143  loss_mask: 0.096  loss_rpn_cls: 0.000  loss_rpn_loc: 0.006  time: 0.4835  data_time: 0.0019  lr: 0.000250  max_mem: 3782M\n",
      "\u001b[32m[04/14 07:57:02 d2.utils.events]: \u001b[0m eta: 0:00:59  iter: 2379  total_loss: 0.284  loss_cls: 0.043  loss_box_reg: 0.145  loss_mask: 0.084  loss_rpn_cls: 0.000  loss_rpn_loc: 0.011  time: 0.4835  data_time: 0.0019  lr: 0.000250  max_mem: 3782M\n",
      "\u001b[32m[04/14 07:57:12 d2.utils.events]: \u001b[0m eta: 0:00:49  iter: 2399  total_loss: 0.314  loss_cls: 0.050  loss_box_reg: 0.144  loss_mask: 0.103  loss_rpn_cls: 0.000  loss_rpn_loc: 0.010  time: 0.4835  data_time: 0.0018  lr: 0.000250  max_mem: 3782M\n",
      "\u001b[32m[04/14 07:57:22 d2.utils.events]: \u001b[0m eta: 0:00:39  iter: 2419  total_loss: 0.298  loss_cls: 0.035  loss_box_reg: 0.154  loss_mask: 0.094  loss_rpn_cls: 0.000  loss_rpn_loc: 0.007  time: 0.4836  data_time: 0.0020  lr: 0.000250  max_mem: 3782M\n",
      "\u001b[32m[04/14 07:57:31 d2.utils.events]: \u001b[0m eta: 0:00:29  iter: 2439  total_loss: 0.277  loss_cls: 0.028  loss_box_reg: 0.113  loss_mask: 0.086  loss_rpn_cls: 0.000  loss_rpn_loc: 0.005  time: 0.4832  data_time: 0.0019  lr: 0.000250  max_mem: 3782M\n",
      "\u001b[32m[04/14 07:57:40 d2.utils.events]: \u001b[0m eta: 0:00:20  iter: 2459  total_loss: 0.217  loss_cls: 0.023  loss_box_reg: 0.098  loss_mask: 0.088  loss_rpn_cls: 0.000  loss_rpn_loc: 0.012  time: 0.4832  data_time: 0.0019  lr: 0.000250  max_mem: 3782M\n",
      "\u001b[32m[04/14 07:57:50 d2.utils.events]: \u001b[0m eta: 0:00:10  iter: 2479  total_loss: 0.286  loss_cls: 0.029  loss_box_reg: 0.140  loss_mask: 0.089  loss_rpn_cls: 0.000  loss_rpn_loc: 0.012  time: 0.4833  data_time: 0.0017  lr: 0.000250  max_mem: 3782M\n",
      "\u001b[32m[04/14 07:58:09 d2.utils.events]: \u001b[0m eta: 0:00:00  iter: 2499  total_loss: 0.321  loss_cls: 0.043  loss_box_reg: 0.188  loss_mask: 0.099  loss_rpn_cls: 0.000  loss_rpn_loc: 0.011  time: 0.4834  data_time: 0.0018  lr: 0.000250  max_mem: 3782M\n",
      "\u001b[32m[04/14 07:58:09 d2.engine.hooks]: \u001b[0mOverall training speed: 2497 iterations in 0:20:07 (0.4836 s / it)\n",
      "\u001b[32m[04/14 07:58:09 d2.engine.hooks]: \u001b[0mTotal training time: 0:20:23 (0:00:15 on hooks)\n"
     ]
    }
   ],
   "source": [
    "from detectron2.data import build_detection_test_loader, build_detection_train_loader\n",
    "\n",
    "# 出力先のディレクトリを作る\n",
    "os.makedirs(cfg.OUTPUT_DIR, exist_ok=True)\n",
    "\n",
    "trainer = MachikadoTrainer(cfg) \n",
    "trainer.resume_or_load(resume=False)\n",
    "trainer.train()"
   ]
  },
  {
   "cell_type": "code",
   "execution_count": null,
   "metadata": {},
   "outputs": [],
   "source": []
  }
 ],
 "metadata": {
  "kernelspec": {
   "display_name": "Python 3",
   "language": "python",
   "name": "python3"
  },
  "language_info": {
   "codemirror_mode": {
    "name": "ipython",
    "version": 3
   },
   "file_extension": ".py",
   "mimetype": "text/x-python",
   "name": "python",
   "nbconvert_exporter": "python",
   "pygments_lexer": "ipython3",
   "version": "3.7.4"
  }
 },
 "nbformat": 4,
 "nbformat_minor": 4
}
