{
 "cells": [
  {
   "cell_type": "markdown",
   "metadata": {},
   "source": [
    "# 続・detectron2 for まちカドまぞく ～訓練編～\n",
    "\n",
    "<img src=\"https://user-images.githubusercontent.com/33882378/79110283-0f737980-7db5-11ea-89b0-3b6b19ae1716.jpg\">\n",
    "\n",
    "detectron2 の訓練をカスタマイズする方法\n",
    "\n",
    "---"
   ]
  },
  {
   "cell_type": "code",
   "execution_count": 1,
   "metadata": {},
   "outputs": [],
   "source": [
    "import os\n",
    "import numpy as np\n",
    "import json\n",
    "import matplotlib.pyplot as plt\n",
    "import cv2\n",
    "import random"
   ]
  },
  {
   "cell_type": "code",
   "execution_count": 2,
   "metadata": {},
   "outputs": [],
   "source": [
    "# VoTT のエクスポートファイルや、画像が格納されているディレクトリ\n",
    "BASE_DIRECTORY = './vott-json-export/'\n",
    "# VoTT のエクスポートファイル名\n",
    "EXPORT_FILENAME = 'Machikado-export.json'\n",
    "# 訓練データに使用する割合\n",
    "TRAIN_RATIO = 0.8\n",
    "# 乱数シード\n",
    "RANDOM_STATE = 0"
   ]
  },
  {
   "cell_type": "markdown",
   "metadata": {},
   "source": [
    "### DatasetCatalogを用意する"
   ]
  },
  {
   "cell_type": "code",
   "execution_count": 3,
   "metadata": {},
   "outputs": [
    {
     "name": "stdout",
     "output_type": "stream",
     "text": [
      "警告: name: 59.jpg - 画像サイズの不整合 image_size:(268, 201), ./vott-json-export/Machikado-export.json: (600, 600)\n"
     ]
    },
    {
     "data": {
      "text/plain": [
       "Metadata(name='test', thing_classes=['Shamiko', 'Gosenzo', 'Lilith', 'Momo', 'Mikan', 'Mob'])"
      ]
     },
     "execution_count": 3,
     "metadata": {},
     "output_type": "execute_result"
    }
   ],
   "source": [
    "from detectron2.data import DatasetCatalog, MetadataCatalog\n",
    "from machikado_util.Machikado_vott import get_cat_names, get_machikado_dicts\n",
    "\n",
    "# vott エクスポートファイルの読み込み\n",
    "CAT_NAME2ID, CAT_ID2NAME = get_cat_names(os.path.join(BASE_DIRECTORY, EXPORT_FILENAME))\n",
    "dataset_dicts = get_machikado_dicts(os.path.join(BASE_DIRECTORY, EXPORT_FILENAME), BASE_DIRECTORY, CAT_NAME2ID)\n",
    "\n",
    "# 訓練用、テスト用に分ける\n",
    "random.seed(RANDOM_STATE)\n",
    "random.shuffle(dataset_dicts)\n",
    "\n",
    "split_idx = int(len(dataset_dicts) * TRAIN_RATIO) + 1\n",
    "\n",
    "# 登録\n",
    "DatasetCatalog.clear()\n",
    "DatasetCatalog.register('train', lambda : dataset_dicts[:split_idx])\n",
    "DatasetCatalog.register('test', lambda : dataset_dicts[split_idx:])\n",
    "\n",
    "MetadataCatalog.get('train').set(thing_classes=list(CAT_NAME2ID.keys()))\n",
    "MetadataCatalog.get('test').set(thing_classes=list(CAT_NAME2ID.keys()))"
   ]
  },
  {
   "cell_type": "code",
   "execution_count": 4,
   "metadata": {},
   "outputs": [],
   "source": [
    "from detectron2.data import DatasetCatalog\n",
    "\n",
    "# 訓練用、テスト用に分ける\n",
    "random.seed(RANDOM_STATE)\n",
    "random.shuffle(dataset_dicts)\n",
    "split_idx = int(len(dataset_dicts) * TRAIN_RATIO) + 1\n",
    "\n",
    "# 登録\n",
    "DatasetCatalog.clear()\n",
    "DatasetCatalog.register('train', lambda : dataset_dicts[:split_idx])\n",
    "DatasetCatalog.register('test', lambda : dataset_dicts[split_idx:])"
   ]
  },
  {
   "cell_type": "markdown",
   "metadata": {},
   "source": [
    "---\n",
    "## 学習"
   ]
  },
  {
   "cell_type": "code",
   "execution_count": 5,
   "metadata": {},
   "outputs": [],
   "source": [
    "from detectron2.config import get_cfg\n",
    "from machikado_util.custom_config import get_custom_cfg\n",
    "\n",
    "cfg = get_cfg()\n",
    "cfg.OUTPUT_DIR = './output'\n",
    "cfg.CUDA = 'cuda:0'\n",
    "\n",
    "# cfg.merge_from_file(\"../configs/COCO-InstanceSegmentation/mask_rcnn_R_50_FPN_3x.yaml\")\n",
    "# cfg.MODEL.WEIGHTS = './coco_models/model_final_f10217.pkl'\n",
    "# cfg.SOLVER.IMS_PER_BATCH = 2\n",
    "\n",
    "# 重いけど、これ精度良いです。\n",
    "cfg.merge_from_file('../configs/COCO-InstanceSegmentation/mask_rcnn_X_101_32x8d_FPN_3x.yaml')\n",
    "cfg.MODEL.WEIGHTS = './coco_models/model_final_2d9806.pkl'\n",
    "cfg.SOLVER.IMS_PER_BATCH = 1 # GTX2070 ではこれが限界\n",
    "\n",
    "cfg.DATASETS.TRAIN = ('train',)\n",
    "cfg.DATASETS.TEST = ()   # no metrics implemented for this dataset\n",
    "cfg.DATALOADER.NUM_WORKERS = 2\n",
    "cfg.SOLVER.BASE_LR = 0.00025\n",
    "cfg.SOLVER.MAX_ITER = 1500    # 300 iterations seems good enough, but you can certainly train longer <- とあるが、まあデータセットによるよね・・・\n",
    "cfg.MODEL.ROI_HEADS.BATCH_SIZE_PER_IMAGE = 128   # faster, and good enough for this toy dataset\n",
    "cfg.MODEL.ROI_HEADS.NUM_CLASSES = len(CAT_ID2NAME) \n",
    "\n",
    "cfg.INPUT.CROP.ENABLED = True\n",
    "cfg.INPUT.CROP.SIZE = [0.8, 0.8]\n",
    "\n",
    "custom_cfg = get_custom_cfg()"
   ]
  },
  {
   "cell_type": "code",
   "execution_count": 6,
   "metadata": {},
   "outputs": [],
   "source": [
    "from machikado_util.MachikadoDatasetMapper import MachikadoDatasetMapper\n",
    "from detectron2.engine import DefaultTrainer\n",
    "\n",
    "class MachikadoTrainer(DefaultTrainer):\n",
    "    def __init__(self, cfg):\n",
    "        super().__init__(cfg)\n",
    "        \n",
    "    @classmethod\n",
    "    def build_train_loader(cls, cfg):\n",
    "        return build_detection_train_loader(cfg, MachikadoDatasetMapper(cfg, custom_cfg=custom_cfg))"
   ]
  },
  {
   "cell_type": "code",
   "execution_count": 7,
   "metadata": {},
   "outputs": [
    {
     "name": "stdout",
     "output_type": "stream",
     "text": [
      "\u001b[32m[04/13 10:00:58 d2.data.detection_utils]: \u001b[0mTransformGens used in training: [ResizeShortestEdge(short_edge_length=(640, 672, 704, 736, 768, 800), max_size=1333, sample_style='choice'), RandomFlip()]\n",
      "\u001b[32m[04/13 10:00:58 d2.data.build]: \u001b[0mRemoved 0 images with no usable annotations. 57 images left.\n",
      "\u001b[32m[04/13 10:00:58 d2.data.build]: \u001b[0mDistribution of instances among all 6 categories:\n",
      "\u001b[36m|  category  | #instances   |  category  | #instances   |  category  | #instances   |\n",
      "|:----------:|:-------------|:----------:|:-------------|:----------:|:-------------|\n",
      "|  Shamiko   | 38           |  Gosenzo   | 20           |   Lilith   | 10           |\n",
      "|    Momo    | 20           |   Mikan    | 8            |    Mob     | 8            |\n",
      "|            |              |            |              |            |              |\n",
      "|   total    | 104          |            |              |            |              |\u001b[0m\n",
      "\u001b[32m[04/13 10:00:58 d2.data.common]: \u001b[0mSerializing 57 elements to byte tensors and concatenating them all ...\n",
      "\u001b[32m[04/13 10:00:58 d2.data.common]: \u001b[0mSerialized dataset takes 0.12 MiB\n",
      "\u001b[32m[04/13 10:00:58 d2.data.build]: \u001b[0mUsing training sampler TrainingSampler\n"
     ]
    },
    {
     "name": "stderr",
     "output_type": "stream",
     "text": [
      "'roi_heads.box_predictor.cls_score.weight' has shape (81, 1024) in the checkpoint but (7, 1024) in the model! Skipped.\n",
      "'roi_heads.box_predictor.cls_score.bias' has shape (81,) in the checkpoint but (7,) in the model! Skipped.\n",
      "'roi_heads.box_predictor.bbox_pred.weight' has shape (320, 1024) in the checkpoint but (24, 1024) in the model! Skipped.\n",
      "'roi_heads.box_predictor.bbox_pred.bias' has shape (320,) in the checkpoint but (24,) in the model! Skipped.\n",
      "'roi_heads.mask_head.predictor.weight' has shape (80, 256, 1, 1) in the checkpoint but (6, 256, 1, 1) in the model! Skipped.\n",
      "'roi_heads.mask_head.predictor.bias' has shape (80,) in the checkpoint but (6,) in the model! Skipped.\n"
     ]
    },
    {
     "name": "stdout",
     "output_type": "stream",
     "text": [
      "\u001b[32m[04/13 10:01:00 d2.engine.train_loop]: \u001b[0mStarting training from iteration 0\n",
      "\u001b[32m[04/13 10:01:09 d2.utils.events]: \u001b[0m eta: 0:11:25  iter: 19  total_loss: 3.044  loss_cls: 1.861  loss_box_reg: 0.434  loss_mask: 0.692  loss_rpn_cls: 0.003  loss_rpn_loc: 0.016  time: 0.4545  data_time: 0.0071  lr: 0.000005  max_mem: 3769M\n",
      "\u001b[32m[04/13 10:01:18 d2.utils.events]: \u001b[0m eta: 0:11:24  iter: 39  total_loss: 3.365  loss_cls: 1.760  loss_box_reg: 0.889  loss_mask: 0.692  loss_rpn_cls: 0.006  loss_rpn_loc: 0.010  time: 0.4639  data_time: 0.0019  lr: 0.000010  max_mem: 3769M\n",
      "\u001b[32m[04/13 10:01:28 d2.utils.events]: \u001b[0m eta: 0:11:18  iter: 59  total_loss: 2.982  loss_cls: 1.450  loss_box_reg: 0.779  loss_mask: 0.688  loss_rpn_cls: 0.003  loss_rpn_loc: 0.012  time: 0.4665  data_time: 0.0018  lr: 0.000015  max_mem: 3769M\n",
      "\u001b[32m[04/13 10:01:37 d2.utils.events]: \u001b[0m eta: 0:11:09  iter: 79  total_loss: 2.356  loss_cls: 1.112  loss_box_reg: 0.503  loss_mask: 0.684  loss_rpn_cls: 0.018  loss_rpn_loc: 0.014  time: 0.4649  data_time: 0.0018  lr: 0.000020  max_mem: 3769M\n",
      "\u001b[32m[04/13 10:01:47 d2.utils.events]: \u001b[0m eta: 0:11:02  iter: 99  total_loss: 2.487  loss_cls: 0.885  loss_box_reg: 0.897  loss_mask: 0.672  loss_rpn_cls: 0.002  loss_rpn_loc: 0.015  time: 0.4682  data_time: 0.0020  lr: 0.000025  max_mem: 3769M\n",
      "\u001b[32m[04/13 10:01:57 d2.utils.events]: \u001b[0m eta: 0:10:53  iter: 119  total_loss: 2.146  loss_cls: 0.712  loss_box_reg: 0.738  loss_mask: 0.653  loss_rpn_cls: 0.005  loss_rpn_loc: 0.014  time: 0.4722  data_time: 0.0041  lr: 0.000030  max_mem: 3769M\n",
      "\u001b[32m[04/13 10:02:09 d2.utils.events]: \u001b[0m eta: 0:11:00  iter: 139  total_loss: 1.945  loss_cls: 0.589  loss_box_reg: 0.582  loss_mask: 0.646  loss_rpn_cls: 0.006  loss_rpn_loc: 0.020  time: 0.4947  data_time: 0.0016  lr: 0.000035  max_mem: 3769M\n",
      "\u001b[32m[04/13 10:02:19 d2.utils.events]: \u001b[0m eta: 0:10:50  iter: 159  total_loss: 1.478  loss_cls: 0.391  loss_box_reg: 0.433  loss_mask: 0.629  loss_rpn_cls: 0.002  loss_rpn_loc: 0.015  time: 0.4922  data_time: 0.0015  lr: 0.000040  max_mem: 3769M\n",
      "\u001b[32m[04/13 10:02:28 d2.utils.events]: \u001b[0m eta: 0:10:42  iter: 179  total_loss: 2.070  loss_cls: 0.624  loss_box_reg: 0.818  loss_mask: 0.601  loss_rpn_cls: 0.001  loss_rpn_loc: 0.014  time: 0.4899  data_time: 0.0017  lr: 0.000045  max_mem: 3769M\n",
      "\u001b[32m[04/13 10:02:37 d2.utils.events]: \u001b[0m eta: 0:10:23  iter: 199  total_loss: 1.664  loss_cls: 0.465  loss_box_reg: 0.482  loss_mask: 0.589  loss_rpn_cls: 0.001  loss_rpn_loc: 0.014  time: 0.4861  data_time: 0.0018  lr: 0.000050  max_mem: 3769M\n",
      "\u001b[32m[04/13 10:02:47 d2.utils.events]: \u001b[0m eta: 0:10:13  iter: 219  total_loss: 1.685  loss_cls: 0.451  loss_box_reg: 0.571  loss_mask: 0.575  loss_rpn_cls: 0.001  loss_rpn_loc: 0.012  time: 0.4854  data_time: 0.0017  lr: 0.000055  max_mem: 3769M\n",
      "\u001b[32m[04/13 10:02:57 d2.utils.events]: \u001b[0m eta: 0:10:11  iter: 239  total_loss: 1.801  loss_cls: 0.502  loss_box_reg: 0.883  loss_mask: 0.488  loss_rpn_cls: 0.000  loss_rpn_loc: 0.009  time: 0.4869  data_time: 0.0016  lr: 0.000060  max_mem: 3769M\n",
      "\u001b[32m[04/13 10:03:06 d2.utils.events]: \u001b[0m eta: 0:10:02  iter: 259  total_loss: 1.763  loss_cls: 0.390  loss_box_reg: 0.636  loss_mask: 0.548  loss_rpn_cls: 0.003  loss_rpn_loc: 0.013  time: 0.4847  data_time: 0.0018  lr: 0.000065  max_mem: 3769M\n",
      "\u001b[32m[04/13 10:03:16 d2.utils.events]: \u001b[0m eta: 0:09:50  iter: 279  total_loss: 1.843  loss_cls: 0.537  loss_box_reg: 0.829  loss_mask: 0.464  loss_rpn_cls: 0.002  loss_rpn_loc: 0.012  time: 0.4843  data_time: 0.0018  lr: 0.000070  max_mem: 3769M\n",
      "\u001b[32m[04/13 10:03:26 d2.utils.events]: \u001b[0m eta: 0:09:39  iter: 299  total_loss: 1.701  loss_cls: 0.431  loss_box_reg: 0.857  loss_mask: 0.440  loss_rpn_cls: 0.000  loss_rpn_loc: 0.018  time: 0.4842  data_time: 0.0017  lr: 0.000075  max_mem: 3769M\n",
      "\u001b[32m[04/13 10:03:35 d2.utils.events]: \u001b[0m eta: 0:09:30  iter: 319  total_loss: 1.470  loss_cls: 0.371  loss_box_reg: 0.585  loss_mask: 0.391  loss_rpn_cls: 0.001  loss_rpn_loc: 0.024  time: 0.4843  data_time: 0.0019  lr: 0.000080  max_mem: 3769M\n",
      "\u001b[32m[04/13 10:03:45 d2.utils.events]: \u001b[0m eta: 0:09:22  iter: 339  total_loss: 1.573  loss_cls: 0.436  loss_box_reg: 0.785  loss_mask: 0.372  loss_rpn_cls: 0.001  loss_rpn_loc: 0.012  time: 0.4845  data_time: 0.0020  lr: 0.000085  max_mem: 3769M\n",
      "\u001b[32m[04/13 10:03:55 d2.utils.events]: \u001b[0m eta: 0:09:15  iter: 359  total_loss: 1.463  loss_cls: 0.421  loss_box_reg: 0.743  loss_mask: 0.303  loss_rpn_cls: 0.000  loss_rpn_loc: 0.010  time: 0.4854  data_time: 0.0018  lr: 0.000090  max_mem: 3769M\n",
      "\u001b[32m[04/13 10:04:05 d2.utils.events]: \u001b[0m eta: 0:09:05  iter: 379  total_loss: 1.290  loss_cls: 0.402  loss_box_reg: 0.685  loss_mask: 0.306  loss_rpn_cls: 0.000  loss_rpn_loc: 0.010  time: 0.4856  data_time: 0.0018  lr: 0.000095  max_mem: 3769M\n",
      "\u001b[32m[04/13 10:04:15 d2.utils.events]: \u001b[0m eta: 0:08:55  iter: 399  total_loss: 1.653  loss_cls: 0.573  loss_box_reg: 0.636  loss_mask: 0.371  loss_rpn_cls: 0.004  loss_rpn_loc: 0.023  time: 0.4849  data_time: 0.0019  lr: 0.000100  max_mem: 3769M\n",
      "\u001b[32m[04/13 10:04:24 d2.utils.events]: \u001b[0m eta: 0:08:45  iter: 419  total_loss: 1.421  loss_cls: 0.365  loss_box_reg: 0.636  loss_mask: 0.310  loss_rpn_cls: 0.000  loss_rpn_loc: 0.017  time: 0.4850  data_time: 0.0018  lr: 0.000105  max_mem: 3769M\n",
      "\u001b[32m[04/13 10:04:34 d2.utils.events]: \u001b[0m eta: 0:08:35  iter: 439  total_loss: 1.109  loss_cls: 0.339  loss_box_reg: 0.528  loss_mask: 0.248  loss_rpn_cls: 0.000  loss_rpn_loc: 0.016  time: 0.4845  data_time: 0.0019  lr: 0.000110  max_mem: 3769M\n",
      "\u001b[32m[04/13 10:04:43 d2.utils.events]: \u001b[0m eta: 0:08:26  iter: 459  total_loss: 0.997  loss_cls: 0.328  loss_box_reg: 0.372  loss_mask: 0.219  loss_rpn_cls: 0.000  loss_rpn_loc: 0.008  time: 0.4838  data_time: 0.0019  lr: 0.000115  max_mem: 3769M\n",
      "\u001b[32m[04/13 10:04:52 d2.utils.events]: \u001b[0m eta: 0:08:14  iter: 479  total_loss: 1.157  loss_cls: 0.357  loss_box_reg: 0.402  loss_mask: 0.252  loss_rpn_cls: 0.000  loss_rpn_loc: 0.019  time: 0.4826  data_time: 0.0017  lr: 0.000120  max_mem: 3769M\n",
      "\u001b[32m[04/13 10:05:02 d2.utils.events]: \u001b[0m eta: 0:08:04  iter: 499  total_loss: 0.982  loss_cls: 0.260  loss_box_reg: 0.426  loss_mask: 0.193  loss_rpn_cls: 0.000  loss_rpn_loc: 0.013  time: 0.4820  data_time: 0.0019  lr: 0.000125  max_mem: 3769M\n",
      "\u001b[32m[04/13 10:05:12 d2.utils.events]: \u001b[0m eta: 0:07:55  iter: 519  total_loss: 1.126  loss_cls: 0.374  loss_box_reg: 0.542  loss_mask: 0.220  loss_rpn_cls: 0.000  loss_rpn_loc: 0.013  time: 0.4823  data_time: 0.0019  lr: 0.000130  max_mem: 3769M\n",
      "\u001b[32m[04/13 10:05:21 d2.utils.events]: \u001b[0m eta: 0:07:45  iter: 539  total_loss: 0.887  loss_cls: 0.308  loss_box_reg: 0.460  loss_mask: 0.225  loss_rpn_cls: 0.000  loss_rpn_loc: 0.014  time: 0.4824  data_time: 0.0017  lr: 0.000135  max_mem: 3769M\n",
      "\u001b[32m[04/13 10:05:31 d2.utils.events]: \u001b[0m eta: 0:07:35  iter: 559  total_loss: 0.878  loss_cls: 0.279  loss_box_reg: 0.352  loss_mask: 0.175  loss_rpn_cls: 0.000  loss_rpn_loc: 0.016  time: 0.4821  data_time: 0.0018  lr: 0.000140  max_mem: 3769M\n",
      "\u001b[32m[04/13 10:05:40 d2.utils.events]: \u001b[0m eta: 0:07:24  iter: 579  total_loss: 0.823  loss_cls: 0.257  loss_box_reg: 0.374  loss_mask: 0.165  loss_rpn_cls: 0.000  loss_rpn_loc: 0.009  time: 0.4808  data_time: 0.0019  lr: 0.000145  max_mem: 3769M\n",
      "\u001b[32m[04/13 10:05:49 d2.utils.events]: \u001b[0m eta: 0:07:14  iter: 599  total_loss: 0.891  loss_cls: 0.340  loss_box_reg: 0.322  loss_mask: 0.151  loss_rpn_cls: 0.000  loss_rpn_loc: 0.016  time: 0.4803  data_time: 0.0018  lr: 0.000150  max_mem: 3769M\n",
      "\u001b[32m[04/13 10:05:59 d2.utils.events]: \u001b[0m eta: 0:07:05  iter: 619  total_loss: 0.843  loss_cls: 0.199  loss_box_reg: 0.354  loss_mask: 0.193  loss_rpn_cls: 0.000  loss_rpn_loc: 0.014  time: 0.4807  data_time: 0.0017  lr: 0.000155  max_mem: 3769M\n",
      "\u001b[32m[04/13 10:06:08 d2.utils.events]: \u001b[0m eta: 0:06:54  iter: 639  total_loss: 0.664  loss_cls: 0.213  loss_box_reg: 0.259  loss_mask: 0.154  loss_rpn_cls: 0.000  loss_rpn_loc: 0.015  time: 0.4791  data_time: 0.0019  lr: 0.000160  max_mem: 3769M\n",
      "\u001b[32m[04/13 10:06:18 d2.utils.events]: \u001b[0m eta: 0:06:45  iter: 659  total_loss: 0.785  loss_cls: 0.211  loss_box_reg: 0.332  loss_mask: 0.152  loss_rpn_cls: 0.000  loss_rpn_loc: 0.014  time: 0.4793  data_time: 0.0018  lr: 0.000165  max_mem: 3769M\n",
      "\u001b[32m[04/13 10:06:27 d2.utils.events]: \u001b[0m eta: 0:06:36  iter: 679  total_loss: 0.790  loss_cls: 0.233  loss_box_reg: 0.269  loss_mask: 0.154  loss_rpn_cls: 0.000  loss_rpn_loc: 0.014  time: 0.4795  data_time: 0.0019  lr: 0.000170  max_mem: 3769M\n",
      "\u001b[32m[04/13 10:06:37 d2.utils.events]: \u001b[0m eta: 0:06:26  iter: 699  total_loss: 0.720  loss_cls: 0.275  loss_box_reg: 0.247  loss_mask: 0.161  loss_rpn_cls: 0.000  loss_rpn_loc: 0.014  time: 0.4796  data_time: 0.0018  lr: 0.000175  max_mem: 3769M\n",
      "\u001b[32m[04/13 10:06:47 d2.utils.events]: \u001b[0m eta: 0:06:16  iter: 719  total_loss: 0.810  loss_cls: 0.284  loss_box_reg: 0.325  loss_mask: 0.148  loss_rpn_cls: 0.000  loss_rpn_loc: 0.021  time: 0.4792  data_time: 0.0017  lr: 0.000180  max_mem: 3769M\n",
      "\u001b[32m[04/13 10:06:56 d2.utils.events]: \u001b[0m eta: 0:06:07  iter: 739  total_loss: 0.714  loss_cls: 0.244  loss_box_reg: 0.289  loss_mask: 0.182  loss_rpn_cls: 0.000  loss_rpn_loc: 0.013  time: 0.4795  data_time: 0.0019  lr: 0.000185  max_mem: 3769M\n",
      "\u001b[32m[04/13 10:07:06 d2.utils.events]: \u001b[0m eta: 0:05:57  iter: 759  total_loss: 0.697  loss_cls: 0.189  loss_box_reg: 0.249  loss_mask: 0.170  loss_rpn_cls: 0.000  loss_rpn_loc: 0.008  time: 0.4792  data_time: 0.0019  lr: 0.000190  max_mem: 3769M\n",
      "\u001b[32m[04/13 10:07:16 d2.utils.events]: \u001b[0m eta: 0:05:49  iter: 779  total_loss: 0.739  loss_cls: 0.239  loss_box_reg: 0.347  loss_mask: 0.153  loss_rpn_cls: 0.000  loss_rpn_loc: 0.018  time: 0.4799  data_time: 0.0018  lr: 0.000195  max_mem: 3769M\n",
      "\u001b[32m[04/13 10:07:26 d2.utils.events]: \u001b[0m eta: 0:05:39  iter: 799  total_loss: 0.729  loss_cls: 0.182  loss_box_reg: 0.300  loss_mask: 0.143  loss_rpn_cls: 0.000  loss_rpn_loc: 0.019  time: 0.4800  data_time: 0.0018  lr: 0.000200  max_mem: 3769M\n",
      "\u001b[32m[04/13 10:07:35 d2.utils.events]: \u001b[0m eta: 0:05:29  iter: 819  total_loss: 0.664  loss_cls: 0.140  loss_box_reg: 0.278  loss_mask: 0.142  loss_rpn_cls: 0.000  loss_rpn_loc: 0.013  time: 0.4797  data_time: 0.0018  lr: 0.000205  max_mem: 3769M\n",
      "\u001b[32m[04/13 10:07:45 d2.utils.events]: \u001b[0m eta: 0:05:20  iter: 839  total_loss: 0.580  loss_cls: 0.131  loss_box_reg: 0.273  loss_mask: 0.146  loss_rpn_cls: 0.000  loss_rpn_loc: 0.015  time: 0.4793  data_time: 0.0019  lr: 0.000210  max_mem: 3769M\n",
      "\u001b[32m[04/13 10:07:54 d2.utils.events]: \u001b[0m eta: 0:05:09  iter: 859  total_loss: 0.659  loss_cls: 0.141  loss_box_reg: 0.259  loss_mask: 0.164  loss_rpn_cls: 0.000  loss_rpn_loc: 0.012  time: 0.4788  data_time: 0.0018  lr: 0.000215  max_mem: 3769M\n",
      "\u001b[32m[04/13 10:08:04 d2.utils.events]: \u001b[0m eta: 0:04:59  iter: 879  total_loss: 0.569  loss_cls: 0.112  loss_box_reg: 0.239  loss_mask: 0.124  loss_rpn_cls: 0.000  loss_rpn_loc: 0.011  time: 0.4791  data_time: 0.0019  lr: 0.000220  max_mem: 3769M\n",
      "\u001b[32m[04/13 10:08:13 d2.utils.events]: \u001b[0m eta: 0:04:51  iter: 899  total_loss: 0.676  loss_cls: 0.211  loss_box_reg: 0.281  loss_mask: 0.161  loss_rpn_cls: 0.000  loss_rpn_loc: 0.014  time: 0.4793  data_time: 0.0019  lr: 0.000225  max_mem: 3769M\n",
      "\u001b[32m[04/13 10:08:23 d2.utils.events]: \u001b[0m eta: 0:04:41  iter: 919  total_loss: 0.496  loss_cls: 0.169  loss_box_reg: 0.162  loss_mask: 0.114  loss_rpn_cls: 0.000  loss_rpn_loc: 0.011  time: 0.4792  data_time: 0.0018  lr: 0.000230  max_mem: 3769M\n",
      "\u001b[32m[04/13 10:08:33 d2.utils.events]: \u001b[0m eta: 0:04:31  iter: 939  total_loss: 0.513  loss_cls: 0.116  loss_box_reg: 0.253  loss_mask: 0.124  loss_rpn_cls: 0.000  loss_rpn_loc: 0.014  time: 0.4792  data_time: 0.0016  lr: 0.000235  max_mem: 3769M\n",
      "\u001b[32m[04/13 10:08:42 d2.utils.events]: \u001b[0m eta: 0:04:22  iter: 959  total_loss: 0.649  loss_cls: 0.189  loss_box_reg: 0.251  loss_mask: 0.141  loss_rpn_cls: 0.000  loss_rpn_loc: 0.011  time: 0.4792  data_time: 0.0016  lr: 0.000240  max_mem: 3769M\n",
      "\u001b[32m[04/13 10:08:52 d2.utils.events]: \u001b[0m eta: 0:04:11  iter: 979  total_loss: 0.519  loss_cls: 0.109  loss_box_reg: 0.247  loss_mask: 0.124  loss_rpn_cls: 0.000  loss_rpn_loc: 0.011  time: 0.4791  data_time: 0.0017  lr: 0.000245  max_mem: 3769M\n",
      "\u001b[32m[04/13 10:09:01 d2.utils.events]: \u001b[0m eta: 0:04:02  iter: 999  total_loss: 0.536  loss_cls: 0.119  loss_box_reg: 0.196  loss_mask: 0.100  loss_rpn_cls: 0.000  loss_rpn_loc: 0.013  time: 0.4788  data_time: 0.0016  lr: 0.000250  max_mem: 3769M\n",
      "\u001b[32m[04/13 10:09:11 d2.utils.events]: \u001b[0m eta: 0:03:53  iter: 1019  total_loss: 0.439  loss_cls: 0.139  loss_box_reg: 0.190  loss_mask: 0.128  loss_rpn_cls: 0.000  loss_rpn_loc: 0.010  time: 0.4793  data_time: 0.0017  lr: 0.000250  max_mem: 3769M\n",
      "\u001b[32m[04/13 10:09:21 d2.utils.events]: \u001b[0m eta: 0:03:43  iter: 1039  total_loss: 0.501  loss_cls: 0.108  loss_box_reg: 0.240  loss_mask: 0.175  loss_rpn_cls: 0.000  loss_rpn_loc: 0.015  time: 0.4791  data_time: 0.0018  lr: 0.000250  max_mem: 3769M\n",
      "\u001b[32m[04/13 10:09:30 d2.utils.events]: \u001b[0m eta: 0:03:33  iter: 1059  total_loss: 0.477  loss_cls: 0.065  loss_box_reg: 0.226  loss_mask: 0.122  loss_rpn_cls: 0.000  loss_rpn_loc: 0.009  time: 0.4787  data_time: 0.0018  lr: 0.000250  max_mem: 3769M\n",
      "\u001b[32m[04/13 10:09:40 d2.utils.events]: \u001b[0m eta: 0:03:24  iter: 1079  total_loss: 0.457  loss_cls: 0.111  loss_box_reg: 0.165  loss_mask: 0.121  loss_rpn_cls: 0.000  loss_rpn_loc: 0.008  time: 0.4790  data_time: 0.0019  lr: 0.000250  max_mem: 3769M\n",
      "\u001b[32m[04/13 10:09:50 d2.utils.events]: \u001b[0m eta: 0:03:14  iter: 1099  total_loss: 0.478  loss_cls: 0.071  loss_box_reg: 0.244  loss_mask: 0.121  loss_rpn_cls: 0.000  loss_rpn_loc: 0.011  time: 0.4791  data_time: 0.0018  lr: 0.000250  max_mem: 3769M\n",
      "\u001b[32m[04/13 10:09:59 d2.utils.events]: \u001b[0m eta: 0:03:04  iter: 1119  total_loss: 0.476  loss_cls: 0.069  loss_box_reg: 0.213  loss_mask: 0.128  loss_rpn_cls: 0.000  loss_rpn_loc: 0.015  time: 0.4792  data_time: 0.0017  lr: 0.000250  max_mem: 3769M\n",
      "\u001b[32m[04/13 10:10:09 d2.utils.events]: \u001b[0m eta: 0:02:54  iter: 1139  total_loss: 0.389  loss_cls: 0.083  loss_box_reg: 0.155  loss_mask: 0.113  loss_rpn_cls: 0.000  loss_rpn_loc: 0.014  time: 0.4793  data_time: 0.0074  lr: 0.000250  max_mem: 3769M\n",
      "\u001b[32m[04/13 10:10:18 d2.utils.events]: \u001b[0m eta: 0:02:44  iter: 1159  total_loss: 0.594  loss_cls: 0.118  loss_box_reg: 0.243  loss_mask: 0.142  loss_rpn_cls: 0.000  loss_rpn_loc: 0.014  time: 0.4790  data_time: 0.0017  lr: 0.000250  max_mem: 3769M\n",
      "\u001b[32m[04/13 10:10:28 d2.utils.events]: \u001b[0m eta: 0:02:35  iter: 1179  total_loss: 0.409  loss_cls: 0.062  loss_box_reg: 0.254  loss_mask: 0.092  loss_rpn_cls: 0.000  loss_rpn_loc: 0.012  time: 0.4792  data_time: 0.0019  lr: 0.000250  max_mem: 3769M\n",
      "\u001b[32m[04/13 10:10:38 d2.utils.events]: \u001b[0m eta: 0:02:25  iter: 1199  total_loss: 0.526  loss_cls: 0.114  loss_box_reg: 0.204  loss_mask: 0.128  loss_rpn_cls: 0.000  loss_rpn_loc: 0.009  time: 0.4793  data_time: 0.0018  lr: 0.000250  max_mem: 3769M\n",
      "\u001b[32m[04/13 10:10:48 d2.utils.events]: \u001b[0m eta: 0:02:16  iter: 1219  total_loss: 0.527  loss_cls: 0.103  loss_box_reg: 0.222  loss_mask: 0.115  loss_rpn_cls: 0.000  loss_rpn_loc: 0.010  time: 0.4796  data_time: 0.0018  lr: 0.000250  max_mem: 3769M\n",
      "\u001b[32m[04/13 10:10:58 d2.utils.events]: \u001b[0m eta: 0:02:06  iter: 1239  total_loss: 0.375  loss_cls: 0.062  loss_box_reg: 0.144  loss_mask: 0.104  loss_rpn_cls: 0.000  loss_rpn_loc: 0.006  time: 0.4798  data_time: 0.0018  lr: 0.000250  max_mem: 3769M\n",
      "\u001b[32m[04/13 10:11:07 d2.utils.events]: \u001b[0m eta: 0:01:56  iter: 1259  total_loss: 0.384  loss_cls: 0.083  loss_box_reg: 0.145  loss_mask: 0.088  loss_rpn_cls: 0.000  loss_rpn_loc: 0.009  time: 0.4792  data_time: 0.0019  lr: 0.000250  max_mem: 3769M\n",
      "\u001b[32m[04/13 10:11:17 d2.utils.events]: \u001b[0m eta: 0:01:47  iter: 1279  total_loss: 0.429  loss_cls: 0.060  loss_box_reg: 0.163  loss_mask: 0.104  loss_rpn_cls: 0.001  loss_rpn_loc: 0.028  time: 0.4793  data_time: 0.0018  lr: 0.000250  max_mem: 3769M\n",
      "\u001b[32m[04/13 10:11:26 d2.utils.events]: \u001b[0m eta: 0:01:37  iter: 1299  total_loss: 0.400  loss_cls: 0.126  loss_box_reg: 0.200  loss_mask: 0.105  loss_rpn_cls: 0.000  loss_rpn_loc: 0.007  time: 0.4791  data_time: 0.0017  lr: 0.000250  max_mem: 3769M\n",
      "\u001b[32m[04/13 10:11:36 d2.utils.events]: \u001b[0m eta: 0:01:27  iter: 1319  total_loss: 0.475  loss_cls: 0.083  loss_box_reg: 0.230  loss_mask: 0.123  loss_rpn_cls: 0.000  loss_rpn_loc: 0.015  time: 0.4795  data_time: 0.0017  lr: 0.000250  max_mem: 3769M\n",
      "\u001b[32m[04/13 10:11:46 d2.utils.events]: \u001b[0m eta: 0:01:17  iter: 1339  total_loss: 0.365  loss_cls: 0.065  loss_box_reg: 0.206  loss_mask: 0.105  loss_rpn_cls: 0.000  loss_rpn_loc: 0.008  time: 0.4794  data_time: 0.0017  lr: 0.000250  max_mem: 3769M\n",
      "\u001b[32m[04/13 10:11:55 d2.utils.events]: \u001b[0m eta: 0:01:08  iter: 1359  total_loss: 0.428  loss_cls: 0.071  loss_box_reg: 0.152  loss_mask: 0.121  loss_rpn_cls: 0.000  loss_rpn_loc: 0.009  time: 0.4792  data_time: 0.0017  lr: 0.000250  max_mem: 3769M\n",
      "\u001b[32m[04/13 10:12:05 d2.utils.events]: \u001b[0m eta: 0:00:58  iter: 1379  total_loss: 0.398  loss_cls: 0.071  loss_box_reg: 0.178  loss_mask: 0.098  loss_rpn_cls: 0.000  loss_rpn_loc: 0.011  time: 0.4790  data_time: 0.0015  lr: 0.000250  max_mem: 3769M\n",
      "\u001b[32m[04/13 10:12:14 d2.utils.events]: \u001b[0m eta: 0:00:48  iter: 1399  total_loss: 0.326  loss_cls: 0.093  loss_box_reg: 0.160  loss_mask: 0.108  loss_rpn_cls: 0.000  loss_rpn_loc: 0.018  time: 0.4791  data_time: 0.0019  lr: 0.000250  max_mem: 3769M\n",
      "\u001b[32m[04/13 10:12:24 d2.utils.events]: \u001b[0m eta: 0:00:39  iter: 1419  total_loss: 0.421  loss_cls: 0.102  loss_box_reg: 0.186  loss_mask: 0.125  loss_rpn_cls: 0.000  loss_rpn_loc: 0.008  time: 0.4791  data_time: 0.0020  lr: 0.000250  max_mem: 3769M\n",
      "\u001b[32m[04/13 10:12:34 d2.utils.events]: \u001b[0m eta: 0:00:29  iter: 1439  total_loss: 0.346  loss_cls: 0.056  loss_box_reg: 0.169  loss_mask: 0.102  loss_rpn_cls: 0.000  loss_rpn_loc: 0.013  time: 0.4793  data_time: 0.0019  lr: 0.000250  max_mem: 3769M\n",
      "\u001b[32m[04/13 10:12:44 d2.utils.events]: \u001b[0m eta: 0:00:19  iter: 1459  total_loss: 0.343  loss_cls: 0.066  loss_box_reg: 0.158  loss_mask: 0.113  loss_rpn_cls: 0.000  loss_rpn_loc: 0.011  time: 0.4793  data_time: 0.0018  lr: 0.000250  max_mem: 3769M\n",
      "\u001b[32m[04/13 10:12:53 d2.utils.events]: \u001b[0m eta: 0:00:10  iter: 1479  total_loss: 0.383  loss_cls: 0.065  loss_box_reg: 0.220  loss_mask: 0.121  loss_rpn_cls: 0.000  loss_rpn_loc: 0.009  time: 0.4791  data_time: 0.0018  lr: 0.000250  max_mem: 3769M\n",
      "\u001b[32m[04/13 10:13:02 d2.utils.events]: \u001b[0m eta: 0:00:00  iter: 1499  total_loss: 0.261  loss_cls: 0.038  loss_box_reg: 0.121  loss_mask: 0.083  loss_rpn_cls: 0.000  loss_rpn_loc: 0.011  time: 0.4785  data_time: 0.0018  lr: 0.000250  max_mem: 3769M\n",
      "\u001b[32m[04/13 10:13:02 d2.engine.hooks]: \u001b[0mOverall training speed: 1497 iterations in 0:11:56 (0.4789 s / it)\n",
      "\u001b[32m[04/13 10:13:02 d2.engine.hooks]: \u001b[0mTotal training time: 0:12:01 (0:00:04 on hooks)\n"
     ]
    }
   ],
   "source": [
    "from detectron2.data import build_detection_test_loader, build_detection_train_loader\n",
    "\n",
    "# 出力先のディレクトリを作る\n",
    "os.makedirs(cfg.OUTPUT_DIR, exist_ok=True)\n",
    "\n",
    "trainer = MachikadoTrainer(cfg) \n",
    "trainer.resume_or_load(resume=False) # True で途中から学習できるらしい\n",
    "trainer.train()"
   ]
  },
  {
   "cell_type": "code",
   "execution_count": null,
   "metadata": {},
   "outputs": [],
   "source": []
  }
 ],
 "metadata": {
  "kernelspec": {
   "display_name": "Python 3",
   "language": "python",
   "name": "python3"
  },
  "language_info": {
   "codemirror_mode": {
    "name": "ipython",
    "version": 3
   },
   "file_extension": ".py",
   "mimetype": "text/x-python",
   "name": "python",
   "nbconvert_exporter": "python",
   "pygments_lexer": "ipython3",
   "version": "3.7.4"
  }
 },
 "nbformat": 4,
 "nbformat_minor": 4
}
