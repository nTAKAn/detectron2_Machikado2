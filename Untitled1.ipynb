{
 "cells": [
  {
   "cell_type": "code",
   "execution_count": 1,
   "metadata": {},
   "outputs": [
    {
     "name": "stdout",
     "output_type": "stream",
     "text": [
      "tensor([[[[0., 0., 0., 0., 0., 0., 0., 0., 0., 0.],\n",
      "          [0., 0., 0., 0., 0., 0., 0., 0., 0., 0.],\n",
      "          [0., 0., 0., 0., 0., 0., 0., 0., 0., 0.],\n",
      "          [0., 0., 0., 0., 0., 0., 0., 0., 0., 0.],\n",
      "          [0., 0., 0., 0., 0., 0., 0., 0., 0., 0.],\n",
      "          [0., 0., 0., 0., 0., 0., 0., 0., 0., 0.],\n",
      "          [0., 0., 0., 0., 0., 0., 0., 0., 0., 0.],\n",
      "          [1., 1., 1., 0., 0., 0., 0., 0., 0., 0.],\n",
      "          [0., 0., 1., 1., 1., 1., 0., 0., 0., 0.],\n",
      "          [0., 0., 0., 0., 0., 1., 1., 1., 1., 0.]]]])\n"
     ]
    }
   ],
   "source": [
    "import numpy as np\n",
    "import torch\n",
    "\n",
    "# Create dummy image\n",
    "im = torch.zeros(1, 1, 10, 10)\n",
    "im[:, :, :, 2] = 1.\n",
    "\n",
    "# Set angle\n",
    "angle = torch.tensor([72 * np.pi / 180.])\n",
    "\n",
    "# # Calculate rotation for each target pixel\n",
    "x_mid = (im.size(2) + 1) / 2.\n",
    "y_mid = (im.size(3) + 1) / 2.\n",
    "# im_rot = torch.zeros_like(im)\n",
    "# for r in range(im.size(2)):\n",
    "#     for c in range(im.size(3)):\n",
    "#         x = (r - x_mid) * torch.cos(angle) + (c - y_mid) * torch.sin(angle)\n",
    "#         y = -1.0 * (r - x_mid) * torch.sin(angle) + (c - y_mid) * torch.cos(angle)\n",
    "#         x = torch.round(x) + x_mid\n",
    "#         y = torch.round(y) + y_mid\n",
    "        \n",
    "#         if (x >= 0 and y>=0 and x<im.size(2) and y<im.size(3)):\n",
    "#             im_rot[:, :, r, c] = im[:, :, x.long(), y.long()]\n",
    "\n",
    "\n",
    "# # Calculate rotation with inverse rotation matrix\n",
    "rot_matrix = torch.tensor([[torch.cos(angle), torch.sin(angle)],\n",
    "                            [-1.0*torch.sin(angle), torch.cos(angle)]])\n",
    "\n",
    "# Use meshgrid for pixel coords\n",
    "xv, yv = torch.meshgrid(torch.arange(im.size(2)), torch.arange(im.size(3)))\n",
    "xv = xv.contiguous()\n",
    "yv = yv.contiguous()\n",
    "src_ind = torch.cat((\n",
    "    (xv.float() - x_mid).view(-1, 1),\n",
    "    (yv.float() - y_mid).view(-1, 1)),\n",
    "    dim=1\n",
    ")\n",
    "    \n",
    "# Calculate indices using rotation matrix\n",
    "src_ind = torch.matmul(src_ind, rot_matrix.t())\n",
    "src_ind = torch.round(src_ind)\n",
    "\n",
    "src_ind += torch.tensor([[x_mid, y_mid]])\n",
    "\n",
    "# Set out of bounds indices to limits\n",
    "src_ind[src_ind < 0] = 0.\n",
    "src_ind[:, 0][src_ind[:, 0] >= im.size(2)] = float(im.size(2)) - 1\n",
    "src_ind[:, 1][src_ind[:, 1] >= im.size(3)] = float(im.size(3)) - 1\n",
    " \n",
    "im_rot2 = torch.zeros_like(im)\n",
    "src_ind = src_ind.long()\n",
    "im_rot2[:, :, xv.view(-1), yv.view(-1)] = im[:, :, src_ind[:, 0], src_ind[:, 1]]\n",
    "im_rot2 = im_rot2.view(1, 1, 10, 10)\n",
    "\n",
    "# print(im_rot)\n",
    "\n",
    "print(im_rot2)"
   ]
  },
  {
   "cell_type": "code",
   "execution_count": null,
   "metadata": {},
   "outputs": [],
   "source": []
  },
  {
   "cell_type": "code",
   "execution_count": null,
   "metadata": {},
   "outputs": [],
   "source": []
  },
  {
   "cell_type": "code",
   "execution_count": 2,
   "metadata": {},
   "outputs": [],
   "source": [
    "import cv2"
   ]
  },
  {
   "cell_type": "code",
   "execution_count": 49,
   "metadata": {},
   "outputs": [
    {
     "data": {
      "text/plain": [
       "array([[ 6.12323400e-17,  1.00000000e+00, -1.11022302e-16],\n",
       "       [-1.00000000e+00,  6.12323400e-17,  2.00000000e+00]])"
      ]
     },
     "execution_count": 49,
     "metadata": {},
     "output_type": "execute_result"
    }
   ],
   "source": [
    "rot_mat = cv2.getRotationMatrix2D((1, 1), 90 , 1)\n",
    "\n",
    "rot_mat"
   ]
  },
  {
   "cell_type": "code",
   "execution_count": 117,
   "metadata": {},
   "outputs": [
    {
     "name": "stdout",
     "output_type": "stream",
     "text": [
      "[[0 0]\n",
      " [1 0]]\n",
      "[[-1.11022302e-16  2.00000000e+00]\n",
      " [-4.97899625e-17  1.00000000e+00]]\n"
     ]
    }
   ],
   "source": [
    "coords = np.array([[0, 0], [1, 0]])\n",
    "\n",
    "n = coords.shape[0]\n",
    "p = np.vstack([coords.T, np.ones((1, len(coords)))])\n",
    "p = np.dot(rot_mat, p)\n",
    "\n",
    "print(coords)\n",
    "print(p.T)"
   ]
  },
  {
   "cell_type": "code",
   "execution_count": 118,
   "metadata": {},
   "outputs": [
    {
     "data": {
      "text/plain": [
       "2"
      ]
     },
     "execution_count": 118,
     "metadata": {},
     "output_type": "execute_result"
    }
   ],
   "source": [
    "len(coords)"
   ]
  },
  {
   "cell_type": "code",
   "execution_count": null,
   "metadata": {},
   "outputs": [],
   "source": []
  },
  {
   "cell_type": "code",
   "execution_count": 111,
   "metadata": {},
   "outputs": [
    {
     "name": "stdout",
     "output_type": "stream",
     "text": [
      "!\n"
     ]
    }
   ],
   "source": [
    "polygons = [[[0, 0], [0, 1], [20, 2]]]\n",
    "\n",
    "crop_box = geometry.box(0., 0., 10., 10.).buffer(0)\n",
    "\n",
    "cropped_polygons = []\n",
    "\n",
    "for polygon in polygons:\n",
    "    polygon = geometry.Polygon(polygon).buffer(0)\n",
    "\n",
    "    # polygon must be valid to perform intersection.\n",
    "    assert polygon.is_valid, polygon\n",
    "\n",
    "    cropped = polygon.intersection(crop_box)\n",
    "\n",
    "    if cropped.is_empty:\n",
    "        continue\n",
    "\n",
    "    if not isinstance(cropped, geometry.collection.BaseMultipartGeometry):\n",
    "        print('!')\n",
    "        cropped = [cropped]\n",
    "\n",
    "    # one polygon may be cropped to multiple ones\n",
    "    for poly in cropped:\n",
    "        # It could produce lower dimensional objects like lines or\n",
    "        # points, which we want to ignore\n",
    "        if not isinstance(poly, geometry.Polygon) or not poly.is_valid:\n",
    "            continue\n",
    "\n",
    "        coords = np.asarray(poly.exterior.coords)\n",
    "\n",
    "        # NOTE This process will produce an extra identical vertex at\n",
    "        # the end. So we remove it. This is tested by\n",
    "        # `tests/test_data_transform.py`\n",
    "        cropped_polygons.append(coords[:-1])"
   ]
  },
  {
   "cell_type": "code",
   "execution_count": 112,
   "metadata": {},
   "outputs": [
    {
     "data": {
      "text/plain": [
       "[array([[ 0. ,  0. ],\n",
       "        [ 0. ,  1. ],\n",
       "        [10. ,  1.5],\n",
       "        [10. ,  1. ]])]"
      ]
     },
     "execution_count": 112,
     "metadata": {},
     "output_type": "execute_result"
    }
   ],
   "source": [
    "cropped_polygons"
   ]
  },
  {
   "cell_type": "code",
   "execution_count": 113,
   "metadata": {},
   "outputs": [
    {
     "data": {
      "text/plain": [
       "array([[ 0. ,  0. ],\n",
       "       [ 0. ,  1. ],\n",
       "       [10. ,  1.5],\n",
       "       [10. ,  1. ],\n",
       "       [ 0. ,  0. ]])"
      ]
     },
     "execution_count": 113,
     "metadata": {},
     "output_type": "execute_result"
    }
   ],
   "source": [
    "coords"
   ]
  },
  {
   "cell_type": "code",
   "execution_count": null,
   "metadata": {},
   "outputs": [],
   "source": []
  },
  {
   "cell_type": "code",
   "execution_count": null,
   "metadata": {},
   "outputs": [],
   "source": []
  },
  {
   "cell_type": "code",
   "execution_count": null,
   "metadata": {},
   "outputs": [],
   "source": []
  },
  {
   "cell_type": "code",
   "execution_count": null,
   "metadata": {},
   "outputs": [],
   "source": [
    "def rect_intersect(rc1, rc2):\n",
    "    \"\"\"\n",
    "    rc1 (tuple): x1, y1, x2, y2\n",
    "    \"\"\"\n",
    "    sx, sy = max(rc1[0], rc2[0]), max(rc1[1], rc2[1])\n",
    "    ex, ey = min(rc1[2], rc2[2]), min(rc1[3], rc2[3])\n",
    "    \n",
    "    w = ex - sx\n",
    "    h = ey - sy\n",
    "    \n",
    "    if w > 0 and h > 0:\n",
    "        return (sx, sy, ex, ey)\n",
    "    \n",
    "    # 重なっていない\n",
    "    return (0, 0, 0, 0)\n",
    "\n",
    "def calc_iou(rc1, rc2):\n",
    "    rc0 = max(rc1[0], rc2[0]), max(rc1[1], rc2[1]), min(rc1[2], rc2[2]), min(rc1[3], rc2[3])\n",
    "    area0 = (rc0[2] - rc0[0]) * (rc0[1] - rc0[3])\n",
    "    area1 = (rc1[2] - rc1[0]) * (rc1[1] - rc1[3])\n",
    "    area2 = (rc2[2] - rc2[0]) * (rc2[1] - rc2[3])\n",
    "    \n",
    "    iou = area0 / (area1 + area2 - area0)\n",
    "    return iou if iou > 0 else 0\n",
    "\n",
    "def calc_dice(rc1, rc2):\n",
    "    rc0 = max(rc1[0], rc2[0]), max(rc1[1], rc2[1]), min(rc1[2], rc2[2]), min(rc1[3], rc2[3])\n",
    "    area0 = (rc0[2] - rc0[0]) * (rc0[1] - rc0[3])\n",
    "    area1 = (rc1[2] - rc1[0]) * (rc1[1] - rc1[3])\n",
    "    area2 = (rc2[2] - rc2[0]) * (rc2[1] - rc2[3])\n",
    "    \n",
    "    print(rc1, rc2)\n",
    "    \n",
    "    dice = 2 * area0 / (area1 + area2)\n",
    "    return dice if dice > 0 else 0"
   ]
  }
 ],
 "metadata": {
  "kernelspec": {
   "display_name": "Python 3",
   "language": "python",
   "name": "python3"
  },
  "language_info": {
   "codemirror_mode": {
    "name": "ipython",
    "version": 3
   },
   "file_extension": ".py",
   "mimetype": "text/x-python",
   "name": "python",
   "nbconvert_exporter": "python",
   "pygments_lexer": "ipython3",
   "version": "3.7.4"
  }
 },
 "nbformat": 4,
 "nbformat_minor": 4
}
