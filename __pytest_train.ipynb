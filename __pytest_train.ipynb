{
 "cells": [
  {
   "cell_type": "code",
   "execution_count": 1,
   "metadata": {},
   "outputs": [],
   "source": [
    "import os\n",
    "import numpy as np\n",
    "import json\n",
    "import matplotlib.pyplot as plt\n",
    "import cv2\n",
    "import random"
   ]
  },
  {
   "cell_type": "code",
   "execution_count": 2,
   "metadata": {},
   "outputs": [],
   "source": [
    "# VoTT のエクスポートファイルや、画像が格納されているディレクトリ\n",
    "BASE_DIRECTORY = './vott-json-export/'\n",
    "# VoTT のエクスポートファイル名\n",
    "EXPORT_FILENAME = 'Machikado-export.json'\n",
    "# 訓練データに使用する割合\n",
    "TRAIN_RATIO = 0.8\n",
    "# 乱数シード\n",
    "RANDOM_STATE = 0"
   ]
  },
  {
   "cell_type": "markdown",
   "metadata": {},
   "source": [
    "### DatasetCatalogを用意する"
   ]
  },
  {
   "cell_type": "code",
   "execution_count": 3,
   "metadata": {},
   "outputs": [
    {
     "name": "stdout",
     "output_type": "stream",
     "text": [
      "警告: name: 59.jpg - 画像サイズの不整合 image_size:(268, 201), ./vott-json-export/Machikado-export.json: (600, 600)\n"
     ]
    },
    {
     "data": {
      "text/plain": [
       "Metadata(name='test', thing_classes=['Shamiko', 'Gosenzo', 'Lilith', 'Momo', 'Mikan', 'Mob'])"
      ]
     },
     "execution_count": 3,
     "metadata": {},
     "output_type": "execute_result"
    }
   ],
   "source": [
    "from detectron2.data import DatasetCatalog, MetadataCatalog\n",
    "from Machikado_vott import get_cat_names, get_machikado_dicts\n",
    "\n",
    "# vott エクスポートファイルの読み込み\n",
    "CAT_NAME2ID, CAT_ID2NAME = get_cat_names(os.path.join(BASE_DIRECTORY, EXPORT_FILENAME))\n",
    "dataset_dicts = get_machikado_dicts(os.path.join(BASE_DIRECTORY, EXPORT_FILENAME), BASE_DIRECTORY, CAT_NAME2ID)\n",
    "\n",
    "# 訓練用、テスト用に分ける\n",
    "random.seed(RANDOM_STATE)\n",
    "random.shuffle(dataset_dicts)\n",
    "\n",
    "split_idx = int(len(dataset_dicts) * TRAIN_RATIO) + 1\n",
    "\n",
    "# 登録\n",
    "DatasetCatalog.clear()\n",
    "DatasetCatalog.register('train', lambda : dataset_dicts[:split_idx])\n",
    "DatasetCatalog.register('test', lambda : dataset_dicts[split_idx:])\n",
    "\n",
    "MetadataCatalog.get('train').set(thing_classes=list(CAT_NAME2ID.keys()))\n",
    "MetadataCatalog.get('test').set(thing_classes=list(CAT_NAME2ID.keys()))"
   ]
  },
  {
   "cell_type": "code",
   "execution_count": 4,
   "metadata": {},
   "outputs": [],
   "source": [
    "from detectron2.data import DatasetCatalog\n",
    "\n",
    "# 訓練用、テスト用に分ける\n",
    "random.seed(RANDOM_STATE)\n",
    "random.shuffle(dataset_dicts)\n",
    "split_idx = int(len(dataset_dicts) * TRAIN_RATIO) + 1\n",
    "\n",
    "# 登録\n",
    "DatasetCatalog.clear()\n",
    "DatasetCatalog.register('train', lambda : dataset_dicts[:split_idx])\n",
    "DatasetCatalog.register('test', lambda : dataset_dicts[split_idx:])"
   ]
  },
  {
   "cell_type": "markdown",
   "metadata": {},
   "source": [
    "---\n",
    "## 学習"
   ]
  },
  {
   "cell_type": "code",
   "execution_count": 5,
   "metadata": {},
   "outputs": [],
   "source": [
    "from detectron2.config import get_cfg\n",
    "from MachikadoDatasetMapper import MachikadoDatasetMapper, get_custom_cfg\n",
    "\n",
    "cfg = get_cfg()\n",
    "cfg.OUTPUT_DIR = './output'\n",
    "cfg.CUDA = 'cuda:0'\n",
    "\n",
    "# cfg.merge_from_file(\"../configs/COCO-InstanceSegmentation/mask_rcnn_R_50_FPN_3x.yaml\")\n",
    "# cfg.MODEL.WEIGHTS = './coco_models/model_final_f10217.pkl'\n",
    "# cfg.SOLVER.IMS_PER_BATCH = 2\n",
    "\n",
    "# 重いけど、これ精度良いです。\n",
    "cfg.merge_from_file('../configs/COCO-InstanceSegmentation/mask_rcnn_X_101_32x8d_FPN_3x.yaml')\n",
    "cfg.MODEL.WEIGHTS = './coco_models/model_final_2d9806.pkl'\n",
    "cfg.SOLVER.IMS_PER_BATCH = 1 # GTX2070 ではこれが限界\n",
    "\n",
    "cfg.DATASETS.TRAIN = ('train',)\n",
    "cfg.DATASETS.TEST = ()   # no metrics implemented for this dataset\n",
    "cfg.DATALOADER.NUM_WORKERS = 2\n",
    "cfg.SOLVER.BASE_LR = 0.00025\n",
    "cfg.SOLVER.MAX_ITER = 1500    # 300 iterations seems good enough, but you can certainly train longer <- とあるが、まあデータセットによるよね・・・\n",
    "cfg.MODEL.ROI_HEADS.BATCH_SIZE_PER_IMAGE = 128   # faster, and good enough for this toy dataset\n",
    "cfg.MODEL.ROI_HEADS.NUM_CLASSES = len(CAT_ID2NAME) \n",
    "\n",
    "cfg.INPUT.CROP.ENABLED = True\n",
    "cfg.INPUT.CROP.SIZE = [0.8, 0.8]\n",
    "\n",
    "custom_cfg = get_custom_cfg()"
   ]
  },
  {
   "cell_type": "code",
   "execution_count": 6,
   "metadata": {},
   "outputs": [],
   "source": [
    "from MachikadoDatasetMapper import plot_dataset_mapper\n",
    "\n",
    "# # random.seed(RANDOM_STATE)\n",
    "# mapper = MachikadoDatasetMapper(cfg, custom_cfg=custom_cfg, is_train=True)\n",
    "# plot_dataset_mapper(dataset_dicts, mapper)"
   ]
  },
  {
   "cell_type": "code",
   "execution_count": 7,
   "metadata": {},
   "outputs": [],
   "source": [
    "from detectron2.engine import DefaultTrainer\n",
    "\n",
    "from detectron2.data import (\n",
    "    build_detection_test_loader,\n",
    "    build_detection_train_loader,\n",
    ")\n",
    "\n",
    "class MachikadoTrainer(DefaultTrainer):\n",
    "    def __init__(self, cfg):\n",
    "        super().__init__(cfg)\n",
    "        \n",
    "    @classmethod\n",
    "    def build_train_loader(cls, cfg):\n",
    "        return build_detection_train_loader(cfg, MachikadoDatasetMapper(cfg, custom_cfg=custom_cfg))"
   ]
  },
  {
   "cell_type": "code",
   "execution_count": null,
   "metadata": {},
   "outputs": [
    {
     "name": "stdout",
     "output_type": "stream",
     "text": [
      "OK!!\n",
      "\u001b[32m[04/13 07:02:06 d2.data.detection_utils]: \u001b[0mTransformGens used in training: [ResizeShortestEdge(short_edge_length=(640, 672, 704, 736, 768, 800), max_size=1333, sample_style='choice'), RandomFlip()]\n",
      "\u001b[32m[04/13 07:02:06 d2.data.build]: \u001b[0mRemoved 0 images with no usable annotations. 57 images left.\n",
      "\u001b[32m[04/13 07:02:06 d2.data.build]: \u001b[0mDistribution of instances among all 6 categories:\n",
      "\u001b[36m|  category  | #instances   |  category  | #instances   |  category  | #instances   |\n",
      "|:----------:|:-------------|:----------:|:-------------|:----------:|:-------------|\n",
      "|  Shamiko   | 38           |  Gosenzo   | 20           |   Lilith   | 10           |\n",
      "|    Momo    | 20           |   Mikan    | 8            |    Mob     | 8            |\n",
      "|            |              |            |              |            |              |\n",
      "|   total    | 104          |            |              |            |              |\u001b[0m\n",
      "\u001b[32m[04/13 07:02:06 d2.data.common]: \u001b[0mSerializing 57 elements to byte tensors and concatenating them all ...\n",
      "\u001b[32m[04/13 07:02:06 d2.data.common]: \u001b[0mSerialized dataset takes 0.12 MiB\n",
      "\u001b[32m[04/13 07:02:06 d2.data.build]: \u001b[0mUsing training sampler TrainingSampler\n"
     ]
    },
    {
     "name": "stderr",
     "output_type": "stream",
     "text": [
      "'roi_heads.box_predictor.cls_score.weight' has shape (81, 1024) in the checkpoint but (7, 1024) in the model! Skipped.\n",
      "'roi_heads.box_predictor.cls_score.bias' has shape (81,) in the checkpoint but (7,) in the model! Skipped.\n",
      "'roi_heads.box_predictor.bbox_pred.weight' has shape (320, 1024) in the checkpoint but (24, 1024) in the model! Skipped.\n",
      "'roi_heads.box_predictor.bbox_pred.bias' has shape (320,) in the checkpoint but (24,) in the model! Skipped.\n",
      "'roi_heads.mask_head.predictor.weight' has shape (80, 256, 1, 1) in the checkpoint but (6, 256, 1, 1) in the model! Skipped.\n",
      "'roi_heads.mask_head.predictor.bias' has shape (80,) in the checkpoint but (6,) in the model! Skipped.\n"
     ]
    },
    {
     "name": "stdout",
     "output_type": "stream",
     "text": [
      "\u001b[32m[04/13 07:02:08 d2.engine.train_loop]: \u001b[0mStarting training from iteration 0\n",
      "\u001b[32m[04/13 07:02:18 d2.utils.events]: \u001b[0m eta: 0:11:25  iter: 19  total_loss: 3.362  loss_cls: 1.877  loss_box_reg: 0.691  loss_mask: 0.693  loss_rpn_cls: 0.005  loss_rpn_loc: 0.022  time: 0.4677  data_time: 0.0234  lr: 0.000005  max_mem: 3671M\n",
      "\u001b[32m[04/13 07:02:27 d2.utils.events]: \u001b[0m eta: 0:11:11  iter: 39  total_loss: 3.132  loss_cls: 1.726  loss_box_reg: 0.627  loss_mask: 0.692  loss_rpn_cls: 0.010  loss_rpn_loc: 0.015  time: 0.4615  data_time: 0.0018  lr: 0.000010  max_mem: 3671M\n",
      "\u001b[32m[04/13 07:02:36 d2.utils.events]: \u001b[0m eta: 0:11:06  iter: 59  total_loss: 2.741  loss_cls: 1.390  loss_box_reg: 0.552  loss_mask: 0.688  loss_rpn_cls: 0.008  loss_rpn_loc: 0.023  time: 0.4619  data_time: 0.0018  lr: 0.000015  max_mem: 3765M\n",
      "\u001b[32m[04/13 07:02:46 d2.utils.events]: \u001b[0m eta: 0:10:56  iter: 79  total_loss: 2.277  loss_cls: 1.015  loss_box_reg: 0.491  loss_mask: 0.681  loss_rpn_cls: 0.005  loss_rpn_loc: 0.031  time: 0.4646  data_time: 0.0016  lr: 0.000020  max_mem: 3765M\n",
      "\u001b[32m[04/13 07:02:55 d2.utils.events]: \u001b[0m eta: 0:10:47  iter: 99  total_loss: 2.229  loss_cls: 0.745  loss_box_reg: 0.562  loss_mask: 0.683  loss_rpn_cls: 0.005  loss_rpn_loc: 0.016  time: 0.4638  data_time: 0.0016  lr: 0.000025  max_mem: 3765M\n",
      "\u001b[32m[04/13 07:03:04 d2.utils.events]: \u001b[0m eta: 0:10:39  iter: 119  total_loss: 1.751  loss_cls: 0.547  loss_box_reg: 0.516  loss_mask: 0.664  loss_rpn_cls: 0.003  loss_rpn_loc: 0.013  time: 0.4644  data_time: 0.0016  lr: 0.000030  max_mem: 3765M\n",
      "\u001b[32m[04/13 07:03:14 d2.utils.events]: \u001b[0m eta: 0:10:30  iter: 139  total_loss: 1.995  loss_cls: 0.634  loss_box_reg: 0.550  loss_mask: 0.656  loss_rpn_cls: 0.010  loss_rpn_loc: 0.028  time: 0.4645  data_time: 0.0018  lr: 0.000035  max_mem: 3765M\n",
      "\u001b[32m[04/13 07:03:23 d2.utils.events]: \u001b[0m eta: 0:10:20  iter: 159  total_loss: 1.970  loss_cls: 0.568  loss_box_reg: 0.691  loss_mask: 0.647  loss_rpn_cls: 0.002  loss_rpn_loc: 0.014  time: 0.4624  data_time: 0.0018  lr: 0.000040  max_mem: 3765M\n",
      "\u001b[32m[04/13 07:03:32 d2.utils.events]: \u001b[0m eta: 0:10:15  iter: 179  total_loss: 1.892  loss_cls: 0.522  loss_box_reg: 0.758  loss_mask: 0.640  loss_rpn_cls: 0.009  loss_rpn_loc: 0.019  time: 0.4647  data_time: 0.0017  lr: 0.000045  max_mem: 3765M\n",
      "\u001b[32m[04/13 07:03:42 d2.utils.events]: \u001b[0m eta: 0:10:09  iter: 199  total_loss: 2.256  loss_cls: 0.651  loss_box_reg: 0.891  loss_mask: 0.621  loss_rpn_cls: 0.006  loss_rpn_loc: 0.017  time: 0.4669  data_time: 0.0020  lr: 0.000050  max_mem: 3765M\n",
      "\u001b[32m[04/13 07:03:52 d2.utils.events]: \u001b[0m eta: 0:10:00  iter: 219  total_loss: 1.591  loss_cls: 0.449  loss_box_reg: 0.464  loss_mask: 0.566  loss_rpn_cls: 0.002  loss_rpn_loc: 0.021  time: 0.4673  data_time: 0.0017  lr: 0.000055  max_mem: 3765M\n",
      "\u001b[32m[04/13 07:04:01 d2.utils.events]: \u001b[0m eta: 0:09:51  iter: 239  total_loss: 1.992  loss_cls: 0.508  loss_box_reg: 0.797  loss_mask: 0.621  loss_rpn_cls: 0.001  loss_rpn_loc: 0.017  time: 0.4672  data_time: 0.0017  lr: 0.000060  max_mem: 3765M\n",
      "\u001b[32m[04/13 07:04:10 d2.utils.events]: \u001b[0m eta: 0:09:41  iter: 259  total_loss: 1.339  loss_cls: 0.341  loss_box_reg: 0.430  loss_mask: 0.509  loss_rpn_cls: 0.006  loss_rpn_loc: 0.031  time: 0.4675  data_time: 0.0018  lr: 0.000065  max_mem: 3765M\n",
      "\u001b[32m[04/13 07:04:20 d2.utils.events]: \u001b[0m eta: 0:09:33  iter: 279  total_loss: 1.986  loss_cls: 0.501  loss_box_reg: 0.764  loss_mask: 0.578  loss_rpn_cls: 0.002  loss_rpn_loc: 0.017  time: 0.4683  data_time: 0.0018  lr: 0.000070  max_mem: 3765M\n",
      "\u001b[32m[04/13 07:04:29 d2.utils.events]: \u001b[0m eta: 0:09:22  iter: 299  total_loss: 1.432  loss_cls: 0.384  loss_box_reg: 0.464  loss_mask: 0.499  loss_rpn_cls: 0.001  loss_rpn_loc: 0.017  time: 0.4684  data_time: 0.0019  lr: 0.000075  max_mem: 3765M\n",
      "\u001b[32m[04/13 07:04:39 d2.utils.events]: \u001b[0m eta: 0:09:15  iter: 319  total_loss: 1.823  loss_cls: 0.432  loss_box_reg: 0.756  loss_mask: 0.502  loss_rpn_cls: 0.003  loss_rpn_loc: 0.018  time: 0.4690  data_time: 0.0019  lr: 0.000080  max_mem: 3765M\n",
      "\u001b[32m[04/13 07:04:49 d2.utils.events]: \u001b[0m eta: 0:09:05  iter: 339  total_loss: 1.610  loss_cls: 0.356  loss_box_reg: 0.501  loss_mask: 0.564  loss_rpn_cls: 0.001  loss_rpn_loc: 0.016  time: 0.4691  data_time: 0.0019  lr: 0.000085  max_mem: 3765M\n",
      "\u001b[32m[04/13 07:04:58 d2.utils.events]: \u001b[0m eta: 0:08:57  iter: 359  total_loss: 1.578  loss_cls: 0.414  loss_box_reg: 0.628  loss_mask: 0.485  loss_rpn_cls: 0.002  loss_rpn_loc: 0.019  time: 0.4697  data_time: 0.0019  lr: 0.000090  max_mem: 3765M\n",
      "\u001b[32m[04/13 07:05:08 d2.utils.events]: \u001b[0m eta: 0:08:48  iter: 379  total_loss: 1.705  loss_cls: 0.398  loss_box_reg: 0.705  loss_mask: 0.520  loss_rpn_cls: 0.001  loss_rpn_loc: 0.020  time: 0.4697  data_time: 0.0019  lr: 0.000095  max_mem: 3765M\n",
      "\u001b[32m[04/13 07:05:17 d2.utils.events]: \u001b[0m eta: 0:08:39  iter: 399  total_loss: 1.715  loss_cls: 0.448  loss_box_reg: 0.747  loss_mask: 0.446  loss_rpn_cls: 0.001  loss_rpn_loc: 0.014  time: 0.4706  data_time: 0.0020  lr: 0.000100  max_mem: 3765M\n",
      "\u001b[32m[04/13 07:05:27 d2.utils.events]: \u001b[0m eta: 0:08:34  iter: 419  total_loss: 1.564  loss_cls: 0.433  loss_box_reg: 0.637  loss_mask: 0.473  loss_rpn_cls: 0.002  loss_rpn_loc: 0.024  time: 0.4719  data_time: 0.0019  lr: 0.000105  max_mem: 3765M\n",
      "\u001b[32m[04/13 07:05:37 d2.utils.events]: \u001b[0m eta: 0:08:25  iter: 439  total_loss: 1.528  loss_cls: 0.359  loss_box_reg: 0.359  loss_mask: 0.491  loss_rpn_cls: 0.001  loss_rpn_loc: 0.019  time: 0.4715  data_time: 0.0018  lr: 0.000110  max_mem: 3765M\n",
      "\u001b[32m[04/13 07:05:46 d2.utils.events]: \u001b[0m eta: 0:08:15  iter: 459  total_loss: 1.682  loss_cls: 0.444  loss_box_reg: 0.735  loss_mask: 0.414  loss_rpn_cls: 0.003  loss_rpn_loc: 0.022  time: 0.4715  data_time: 0.0019  lr: 0.000115  max_mem: 3765M\n",
      "\u001b[32m[04/13 07:05:56 d2.utils.events]: \u001b[0m eta: 0:08:05  iter: 479  total_loss: 1.397  loss_cls: 0.358  loss_box_reg: 0.549  loss_mask: 0.476  loss_rpn_cls: 0.001  loss_rpn_loc: 0.020  time: 0.4719  data_time: 0.0018  lr: 0.000120  max_mem: 3765M\n",
      "\u001b[32m[04/13 07:06:05 d2.utils.events]: \u001b[0m eta: 0:07:56  iter: 499  total_loss: 1.613  loss_cls: 0.422  loss_box_reg: 0.546  loss_mask: 0.407  loss_rpn_cls: 0.001  loss_rpn_loc: 0.017  time: 0.4713  data_time: 0.0019  lr: 0.000125  max_mem: 3765M\n",
      "\u001b[32m[04/13 07:06:15 d2.utils.events]: \u001b[0m eta: 0:07:46  iter: 519  total_loss: 1.355  loss_cls: 0.283  loss_box_reg: 0.378  loss_mask: 0.433  loss_rpn_cls: 0.003  loss_rpn_loc: 0.028  time: 0.4713  data_time: 0.0018  lr: 0.000130  max_mem: 3765M\n",
      "\u001b[32m[04/13 07:06:24 d2.utils.events]: \u001b[0m eta: 0:07:37  iter: 539  total_loss: 1.480  loss_cls: 0.378  loss_box_reg: 0.543  loss_mask: 0.501  loss_rpn_cls: 0.001  loss_rpn_loc: 0.019  time: 0.4713  data_time: 0.0017  lr: 0.000135  max_mem: 3765M\n",
      "\u001b[32m[04/13 07:06:34 d2.utils.events]: \u001b[0m eta: 0:07:28  iter: 559  total_loss: 1.433  loss_cls: 0.418  loss_box_reg: 0.619  loss_mask: 0.394  loss_rpn_cls: 0.001  loss_rpn_loc: 0.018  time: 0.4724  data_time: 0.0019  lr: 0.000140  max_mem: 3765M\n",
      "\u001b[32m[04/13 07:06:44 d2.utils.events]: \u001b[0m eta: 0:07:19  iter: 579  total_loss: 1.108  loss_cls: 0.310  loss_box_reg: 0.376  loss_mask: 0.428  loss_rpn_cls: 0.001  loss_rpn_loc: 0.012  time: 0.4720  data_time: 0.0019  lr: 0.000145  max_mem: 3765M\n",
      "\u001b[32m[04/13 07:06:53 d2.utils.events]: \u001b[0m eta: 0:07:09  iter: 599  total_loss: 1.625  loss_cls: 0.394  loss_box_reg: 0.542  loss_mask: 0.492  loss_rpn_cls: 0.002  loss_rpn_loc: 0.030  time: 0.4723  data_time: 0.0018  lr: 0.000150  max_mem: 3765M\n",
      "\u001b[32m[04/13 07:07:03 d2.utils.events]: \u001b[0m eta: 0:07:00  iter: 619  total_loss: 1.359  loss_cls: 0.292  loss_box_reg: 0.395  loss_mask: 0.423  loss_rpn_cls: 0.002  loss_rpn_loc: 0.018  time: 0.4724  data_time: 0.0018  lr: 0.000155  max_mem: 3765M\n",
      "\u001b[32m[04/13 07:07:13 d2.utils.events]: \u001b[0m eta: 0:06:50  iter: 639  total_loss: 1.305  loss_cls: 0.340  loss_box_reg: 0.484  loss_mask: 0.378  loss_rpn_cls: 0.001  loss_rpn_loc: 0.019  time: 0.4732  data_time: 0.0017  lr: 0.000160  max_mem: 3765M\n",
      "\u001b[32m[04/13 07:07:22 d2.utils.events]: \u001b[0m eta: 0:06:41  iter: 659  total_loss: 1.384  loss_cls: 0.347  loss_box_reg: 0.515  loss_mask: 0.469  loss_rpn_cls: 0.000  loss_rpn_loc: 0.022  time: 0.4733  data_time: 0.0018  lr: 0.000165  max_mem: 3765M\n",
      "\u001b[32m[04/13 07:07:32 d2.utils.events]: \u001b[0m eta: 0:06:31  iter: 679  total_loss: 1.341  loss_cls: 0.279  loss_box_reg: 0.414  loss_mask: 0.454  loss_rpn_cls: 0.000  loss_rpn_loc: 0.016  time: 0.4729  data_time: 0.0019  lr: 0.000170  max_mem: 3765M\n",
      "\u001b[32m[04/13 07:07:41 d2.utils.events]: \u001b[0m eta: 0:06:22  iter: 699  total_loss: 1.435  loss_cls: 0.336  loss_box_reg: 0.584  loss_mask: 0.438  loss_rpn_cls: 0.001  loss_rpn_loc: 0.015  time: 0.4729  data_time: 0.0019  lr: 0.000175  max_mem: 3765M\n",
      "\u001b[32m[04/13 07:07:51 d2.utils.events]: \u001b[0m eta: 0:06:12  iter: 719  total_loss: 1.099  loss_cls: 0.265  loss_box_reg: 0.396  loss_mask: 0.377  loss_rpn_cls: 0.001  loss_rpn_loc: 0.016  time: 0.4729  data_time: 0.0018  lr: 0.000180  max_mem: 3765M\n",
      "\u001b[32m[04/13 07:08:00 d2.utils.events]: \u001b[0m eta: 0:06:03  iter: 739  total_loss: 1.161  loss_cls: 0.267  loss_box_reg: 0.244  loss_mask: 0.418  loss_rpn_cls: 0.001  loss_rpn_loc: 0.019  time: 0.4731  data_time: 0.0020  lr: 0.000185  max_mem: 3765M\n",
      "\u001b[32m[04/13 07:08:10 d2.utils.events]: \u001b[0m eta: 0:05:54  iter: 759  total_loss: 1.206  loss_cls: 0.244  loss_box_reg: 0.502  loss_mask: 0.408  loss_rpn_cls: 0.001  loss_rpn_loc: 0.014  time: 0.4733  data_time: 0.0019  lr: 0.000190  max_mem: 3765M\n",
      "\u001b[32m[04/13 07:08:19 d2.utils.events]: \u001b[0m eta: 0:05:44  iter: 779  total_loss: 1.272  loss_cls: 0.303  loss_box_reg: 0.439  loss_mask: 0.415  loss_rpn_cls: 0.001  loss_rpn_loc: 0.030  time: 0.4732  data_time: 0.0019  lr: 0.000195  max_mem: 3765M\n",
      "\u001b[32m[04/13 07:08:28 d2.utils.events]: \u001b[0m eta: 0:05:34  iter: 799  total_loss: 0.781  loss_cls: 0.173  loss_box_reg: 0.302  loss_mask: 0.321  loss_rpn_cls: 0.001  loss_rpn_loc: 0.011  time: 0.4724  data_time: 0.0019  lr: 0.000200  max_mem: 3765M\n",
      "\u001b[32m[04/13 07:08:38 d2.utils.events]: \u001b[0m eta: 0:05:25  iter: 819  total_loss: 0.926  loss_cls: 0.187  loss_box_reg: 0.317  loss_mask: 0.410  loss_rpn_cls: 0.002  loss_rpn_loc: 0.024  time: 0.4731  data_time: 0.0019  lr: 0.000205  max_mem: 3765M\n",
      "\u001b[32m[04/13 07:08:48 d2.utils.events]: \u001b[0m eta: 0:05:16  iter: 839  total_loss: 0.987  loss_cls: 0.214  loss_box_reg: 0.346  loss_mask: 0.426  loss_rpn_cls: 0.001  loss_rpn_loc: 0.018  time: 0.4733  data_time: 0.0019  lr: 0.000210  max_mem: 3765M\n",
      "\u001b[32m[04/13 07:08:58 d2.utils.events]: \u001b[0m eta: 0:05:06  iter: 859  total_loss: 1.406  loss_cls: 0.280  loss_box_reg: 0.494  loss_mask: 0.460  loss_rpn_cls: 0.009  loss_rpn_loc: 0.018  time: 0.4734  data_time: 0.0019  lr: 0.000215  max_mem: 3765M\n",
      "\u001b[32m[04/13 07:09:07 d2.utils.events]: \u001b[0m eta: 0:04:57  iter: 879  total_loss: 1.267  loss_cls: 0.256  loss_box_reg: 0.498  loss_mask: 0.435  loss_rpn_cls: 0.004  loss_rpn_loc: 0.024  time: 0.4737  data_time: 0.0019  lr: 0.000220  max_mem: 3765M\n",
      "\u001b[32m[04/13 07:09:17 d2.utils.events]: \u001b[0m eta: 0:04:48  iter: 899  total_loss: 1.072  loss_cls: 0.205  loss_box_reg: 0.478  loss_mask: 0.357  loss_rpn_cls: 0.002  loss_rpn_loc: 0.029  time: 0.4741  data_time: 0.0019  lr: 0.000225  max_mem: 3765M\n",
      "\u001b[32m[04/13 07:09:27 d2.utils.events]: \u001b[0m eta: 0:04:38  iter: 919  total_loss: 1.023  loss_cls: 0.173  loss_box_reg: 0.373  loss_mask: 0.381  loss_rpn_cls: 0.008  loss_rpn_loc: 0.023  time: 0.4741  data_time: 0.0019  lr: 0.000230  max_mem: 3765M\n",
      "\u001b[32m[04/13 07:09:37 d2.utils.events]: \u001b[0m eta: 0:04:28  iter: 939  total_loss: 0.778  loss_cls: 0.132  loss_box_reg: 0.168  loss_mask: 0.390  loss_rpn_cls: 0.001  loss_rpn_loc: 0.018  time: 0.4744  data_time: 0.0019  lr: 0.000235  max_mem: 3765M\n",
      "\u001b[32m[04/13 07:09:46 d2.utils.events]: \u001b[0m eta: 0:04:19  iter: 959  total_loss: 0.941  loss_cls: 0.179  loss_box_reg: 0.363  loss_mask: 0.349  loss_rpn_cls: 0.001  loss_rpn_loc: 0.020  time: 0.4745  data_time: 0.0019  lr: 0.000240  max_mem: 3765M\n",
      "\u001b[32m[04/13 07:09:56 d2.utils.events]: \u001b[0m eta: 0:04:09  iter: 979  total_loss: 1.217  loss_cls: 0.190  loss_box_reg: 0.490  loss_mask: 0.437  loss_rpn_cls: 0.002  loss_rpn_loc: 0.017  time: 0.4744  data_time: 0.0019  lr: 0.000245  max_mem: 3765M\n",
      "\u001b[32m[04/13 07:10:05 d2.utils.events]: \u001b[0m eta: 0:04:00  iter: 999  total_loss: 0.980  loss_cls: 0.172  loss_box_reg: 0.335  loss_mask: 0.368  loss_rpn_cls: 0.001  loss_rpn_loc: 0.019  time: 0.4746  data_time: 0.0019  lr: 0.000250  max_mem: 3765M\n",
      "\u001b[32m[04/13 07:10:15 d2.utils.events]: \u001b[0m eta: 0:03:51  iter: 1019  total_loss: 0.981  loss_cls: 0.185  loss_box_reg: 0.338  loss_mask: 0.357  loss_rpn_cls: 0.003  loss_rpn_loc: 0.015  time: 0.4747  data_time: 0.0016  lr: 0.000250  max_mem: 3765M\n",
      "\u001b[32m[04/13 07:10:25 d2.utils.events]: \u001b[0m eta: 0:03:42  iter: 1039  total_loss: 0.853  loss_cls: 0.150  loss_box_reg: 0.240  loss_mask: 0.338  loss_rpn_cls: 0.004  loss_rpn_loc: 0.020  time: 0.4754  data_time: 0.0016  lr: 0.000250  max_mem: 3765M\n",
      "\u001b[32m[04/13 07:10:35 d2.utils.events]: \u001b[0m eta: 0:03:32  iter: 1059  total_loss: 1.106  loss_cls: 0.150  loss_box_reg: 0.457  loss_mask: 0.380  loss_rpn_cls: 0.002  loss_rpn_loc: 0.015  time: 0.4757  data_time: 0.0015  lr: 0.000250  max_mem: 3765M\n",
      "\u001b[32m[04/13 07:10:45 d2.utils.events]: \u001b[0m eta: 0:03:23  iter: 1079  total_loss: 0.868  loss_cls: 0.203  loss_box_reg: 0.346  loss_mask: 0.360  loss_rpn_cls: 0.001  loss_rpn_loc: 0.017  time: 0.4757  data_time: 0.0016  lr: 0.000250  max_mem: 3765M\n",
      "\u001b[32m[04/13 07:10:54 d2.utils.events]: \u001b[0m eta: 0:03:13  iter: 1099  total_loss: 0.888  loss_cls: 0.085  loss_box_reg: 0.295  loss_mask: 0.391  loss_rpn_cls: 0.001  loss_rpn_loc: 0.016  time: 0.4752  data_time: 0.0015  lr: 0.000250  max_mem: 3765M\n",
      "\u001b[32m[04/13 07:11:03 d2.utils.events]: \u001b[0m eta: 0:03:03  iter: 1119  total_loss: 1.001  loss_cls: 0.152  loss_box_reg: 0.295  loss_mask: 0.443  loss_rpn_cls: 0.003  loss_rpn_loc: 0.016  time: 0.4749  data_time: 0.0015  lr: 0.000250  max_mem: 3765M\n",
      "\u001b[32m[04/13 07:11:13 d2.utils.events]: \u001b[0m eta: 0:02:54  iter: 1139  total_loss: 1.094  loss_cls: 0.194  loss_box_reg: 0.442  loss_mask: 0.343  loss_rpn_cls: 0.001  loss_rpn_loc: 0.014  time: 0.4752  data_time: 0.0017  lr: 0.000250  max_mem: 3765M\n",
      "\u001b[32m[04/13 07:11:22 d2.utils.events]: \u001b[0m eta: 0:02:44  iter: 1159  total_loss: 0.804  loss_cls: 0.147  loss_box_reg: 0.240  loss_mask: 0.415  loss_rpn_cls: 0.002  loss_rpn_loc: 0.014  time: 0.4750  data_time: 0.0017  lr: 0.000250  max_mem: 3765M\n",
      "\u001b[32m[04/13 07:11:32 d2.utils.events]: \u001b[0m eta: 0:02:34  iter: 1179  total_loss: 1.003  loss_cls: 0.160  loss_box_reg: 0.438  loss_mask: 0.413  loss_rpn_cls: 0.001  loss_rpn_loc: 0.022  time: 0.4749  data_time: 0.0018  lr: 0.000250  max_mem: 3765M\n"
     ]
    }
   ],
   "source": [
    "# 出力先のディレクトリを作る\n",
    "os.makedirs(cfg.OUTPUT_DIR, exist_ok=True)\n",
    "\n",
    "trainer = MachikadoTrainer(cfg) \n",
    "trainer.resume_or_load(resume=False) # True で途中から学習できるらしい\n",
    "trainer.train()"
   ]
  },
  {
   "cell_type": "code",
   "execution_count": null,
   "metadata": {},
   "outputs": [],
   "source": []
  }
 ],
 "metadata": {
  "kernelspec": {
   "display_name": "Python 3",
   "language": "python",
   "name": "python3"
  },
  "language_info": {
   "codemirror_mode": {
    "name": "ipython",
    "version": 3
   },
   "file_extension": ".py",
   "mimetype": "text/x-python",
   "name": "python",
   "nbconvert_exporter": "python",
   "pygments_lexer": "ipython3",
   "version": "3.7.4"
  }
 },
 "nbformat": 4,
 "nbformat_minor": 4
}
