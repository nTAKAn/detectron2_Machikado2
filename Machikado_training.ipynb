{
 "cells": [
  {
   "cell_type": "markdown",
   "metadata": {},
   "source": [
    "# detectron2 for まちカドまぞく ～訓練編～\n",
    "\n",
    "<img src=\"https://user-images.githubusercontent.com/33882378/79055210-2ff0e600-7c86-11ea-93c6-8a65112f80f0.jpg\">\n",
    "\n",
    "detectron2 で独自データセット学習する方法\n",
    "\n",
    "参考にしたホームページ: https://demura.net/deeplearning/16807.html"
   ]
  },
  {
   "cell_type": "code",
   "execution_count": 1,
   "metadata": {},
   "outputs": [],
   "source": [
    "import os\n",
    "import numpy as np\n",
    "import json\n",
    "import matplotlib.pyplot as plt\n",
    "import cv2\n",
    "import random"
   ]
  },
  {
   "cell_type": "markdown",
   "metadata": {},
   "source": [
    "---\n",
    "## 独自のデータセットを読み込んで、データセットを用意する\n",
    "\n",
    "基本的に元になっているデータ形式をゴリゴリ自分で読み込んで、detectron2 の形式に変換していく\n",
    "\n",
    "### VoTT Export 形式からの読み込み"
   ]
  },
  {
   "cell_type": "code",
   "execution_count": 2,
   "metadata": {},
   "outputs": [],
   "source": [
    "# VoTT のエクスポートファイルや、画像が格納されているディレクトリ\n",
    "BASE_DIRECTORY = './vott-json-export/'\n",
    "# VoTT のエクスポートファイル名\n",
    "EXPORT_FILENAME = 'Machikado-export.json'\n",
    "# 訓練データに使用する割合\n",
    "TRAIN_RATIO = 0.8\n",
    "# 乱数シード\n",
    "RANDOM_STATE = 0"
   ]
  },
  {
   "cell_type": "markdown",
   "metadata": {},
   "source": [
    "* vott の場合は \"tags\" 格納されているカテゴリ名が格納されているのでそれを読み出せば良い"
   ]
  },
  {
   "cell_type": "code",
   "execution_count": 3,
   "metadata": {},
   "outputs": [
    {
     "data": {
      "text/plain": [
       "OrderedDict([(0, 'Shamiko'),\n",
       "             (1, 'Gosenzo'),\n",
       "             (2, 'Lilith'),\n",
       "             (3, 'Momo'),\n",
       "             (4, 'Mikan'),\n",
       "             (5, 'Mob')])"
      ]
     },
     "execution_count": 3,
     "metadata": {},
     "output_type": "execute_result"
    }
   ],
   "source": [
    "from collections import OrderedDict\n",
    "\n",
    "# エクスポートファイルからカテゴリ名を調べる\n",
    "with open(os.path.join(BASE_DIRECTORY, EXPORT_FILENAME), 'r') as f:\n",
    "    json_data = json.load(f)\n",
    "    \n",
    "CAT_NAME2ID = OrderedDict()\n",
    "CAT_ID2NAME = OrderedDict()\n",
    "\n",
    "for i, node in enumerate(json_data['tags']):\n",
    "    CAT_NAME2ID[node['name']] = i\n",
    "    CAT_ID2NAME[i] = node['name']\n",
    "\n",
    "CAT_ID2NAME"
   ]
  },
  {
   "cell_type": "markdown",
   "metadata": {},
   "source": [
    "* 所定の形式の辞書のリストと返す引数の無い関数を作れば良い\n",
    "* vott のアノテーションデータは \"assets\" に全て格納されているので、\"assets\" をゴリゴリ読み込んでいく。\n",
    "* マスクに必要な座標データは、\"regions\" に格納されている。\"regions\" は複数の領域データを含んでいる可能性があるので全て列挙する。\n",
    "領域データがない場合もあるのでそれも処理しておく。（VoTT で閲覧のみで、アノテーションされていないデータは領域データが無い）\n",
    "* 領域データの \"tags\" にカテゴリ名が格納されているので、１つ前のセルで読み込んだタグ情報(CAT_NAME2ID)を使用して整数のIDを振っていく。\n",
    "（tags は複数のカテゴリ名が格納されている可能性がある。VoTT で複数のタグをチェック出来るので注意）"
   ]
  },
  {
   "cell_type": "code",
   "execution_count": 4,
   "metadata": {},
   "outputs": [],
   "source": [
    "from PIL import Image\n",
    "from detectron2.structures import BoxMode\n",
    "\n",
    "# machikado用にアレンジした読み込み関数\n",
    "def get_machikado_dicts():\n",
    "    with open(os.path.join(BASE_DIRECTORY, EXPORT_FILENAME), 'r') as f:\n",
    "        json_data = json.load(f, object_pairs_hook=OrderedDict) # データ順を固定しておく\n",
    "    \n",
    "    assets = json_data['assets']\n",
    "\n",
    "    dataset_dicts = []\n",
    "    for item in assets.values():\n",
    "        asset = item['asset']\n",
    "        regions = item['regions']\n",
    "\n",
    "        if len(regions) == 0:\n",
    "            print('警告: name: {} - 領域データが空だったのでスキップ'.format(asset['name']))\n",
    "            continue\n",
    "        \n",
    "        # 画像サイズを取得し確認する\n",
    "        # （VoTT でアノテーション中画像を差し替えると画像のサイズが古い画像のままになるので修正する）\n",
    "        file_name = os.path.join(BASE_DIRECTORY, asset['name'])\n",
    "        im = Image.open(file_name)\n",
    "        w, h = im.size\n",
    "        \n",
    "        if asset['size']['height'] != h or asset['size']['width'] != w:\n",
    "            print('警告: name: {} - 画像サイズの不整合 image_size:({}, {}), {}: ({}, {})'.format(\n",
    "                asset['name'], asset['size']['width'], asset['size']['height'], EXPORT_FILENAME, w, h))\n",
    "        \n",
    "        record = {}\n",
    "        record['file_name'] = file_name\n",
    "        record['height'] = h\n",
    "        record['width'] = w\n",
    "        \n",
    "        objs = []\n",
    "        for region in regions:\n",
    "            points = region['points']\n",
    "            assert len(points), '座標データが無い！'\n",
    "\n",
    "            if len(region['tags']) > 1:\n",
    "                print('警告: name: {} - 複数のタグを確認！ tags: {}'.format(asset['name'], region['tags']))\n",
    "\n",
    "            poly = []\n",
    "            for pt in points:\n",
    "                poly += [pt['x'], pt['y']]\n",
    "\n",
    "            bbox = region['boundingBox']\n",
    "\n",
    "            obj = {\n",
    "                'bbox': [bbox['left'], bbox['top'], bbox['left'] + bbox['width'], bbox['top'] + bbox['height']],\n",
    "                'bbox_mode': BoxMode.XYWH_ABS, # XYWH_REL はまだサポートされていないらしい\n",
    "                'segmentation': [poly],\n",
    "                'category_id': CAT_NAME2ID[region['tags'][0]],\n",
    "                'iscrowd': 0\n",
    "            }\n",
    "            objs.append(obj)\n",
    "\n",
    "        record['annotations'] = objs\n",
    "        dataset_dicts.append(record)\n",
    "        \n",
    "    return dataset_dicts"
   ]
  },
  {
   "cell_type": "markdown",
   "metadata": {},
   "source": [
    "### DatasetCatalogを用意する\n",
    "\n",
    "* 初めから訓練、テストが分かれてれば良いが、一緒のフォルダでも分割後にラムダ式で指定すれば良い\n",
    "\n",
    "> まあ最初から分けた方が後々楽そうではあるので VoTT のデータを分けて保存出来れば良いと思うが、\n",
    "> VoTT の標準ではないんですよね・・・"
   ]
  },
  {
   "cell_type": "code",
   "execution_count": 5,
   "metadata": {},
   "outputs": [
    {
     "name": "stdout",
     "output_type": "stream",
     "text": [
      "警告: name: 59.jpg - 画像サイズの不整合 image_size:(268, 201), Machikado-export.json: (600, 600)\n"
     ]
    }
   ],
   "source": [
    "from detectron2.data import DatasetCatalog\n",
    "\n",
    "dataset_dicts = get_machikado_dicts()\n",
    "\n",
    "# 訓練用、テスト用に分ける\n",
    "random.seed(RANDOM_STATE)\n",
    "random.shuffle(dataset_dicts)\n",
    "\n",
    "split_idx = int(len(dataset_dicts) * TRAIN_RATIO) + 1\n",
    "\n",
    "# 登録\n",
    "DatasetCatalog.clear()\n",
    "DatasetCatalog.register('train', lambda : dataset_dicts[:split_idx])\n",
    "DatasetCatalog.register('test', lambda : dataset_dicts[split_idx:])"
   ]
  },
  {
   "cell_type": "markdown",
   "metadata": {},
   "source": [
    "---\n",
    "\n",
    "## 学習\n",
    "\n",
    "* engine/defaults.py 399 行目コメントアウトでウザイ モデル表示をしないように出来る\n",
    "* モデルを変更したい場合は https://github.com/facebookresearch/detectron2/blob/master/MODEL_ZOO.md ここに色々あるので試すと良い\n",
    "* ```cfg.MODEL.WEIGHTS = ``` の部分は使用したい重みファイルに変える。(ダウンロードしてきた重みファイルへのパスを設定する)\n",
    "* merge_from_file はきちんと推論の時も揃えないとダメ！！"
   ]
  },
  {
   "cell_type": "code",
   "execution_count": 6,
   "metadata": {},
   "outputs": [],
   "source": [
    "from detectron2.config import get_cfg\n",
    "\n",
    "cfg = get_cfg()\n",
    "cfg.OUTPUT_DIR = './output'\n",
    "cfg.CUDA = 'cuda:0'\n",
    "\n",
    "# cfg.merge_from_file(\"../configs/COCO-InstanceSegmentation/mask_rcnn_R_50_FPN_3x.yaml\")\n",
    "# cfg.MODEL.WEIGHTS = './coco_models/model_final_f10217.pkl'\n",
    "# cfg.SOLVER.IMS_PER_BATCH = 2\n",
    "\n",
    "# 重いけど、これ精度良いです。\n",
    "cfg.merge_from_file('../configs/COCO-InstanceSegmentation/mask_rcnn_X_101_32x8d_FPN_3x.yaml')\n",
    "cfg.MODEL.WEIGHTS = './coco_models/model_final_2d9806.pkl'\n",
    "cfg.SOLVER.IMS_PER_BATCH = 1 # GTX2070 ではこれが限界\n",
    "\n",
    "cfg.DATASETS.TRAIN = ('train',)\n",
    "cfg.DATASETS.TEST = ()   # no metrics implemented for this dataset\n",
    "cfg.DATALOADER.NUM_WORKERS = 2\n",
    "cfg.SOLVER.BASE_LR = 0.00025\n",
    "cfg.SOLVER.MAX_ITER = 1500    # 300 iterations seems good enough, but you can certainly train longer <- とあるが、まあデータセットによるよね・・・\n",
    "cfg.MODEL.ROI_HEADS.BATCH_SIZE_PER_IMAGE = 128   # faster, and good enough for this toy dataset\n",
    "cfg.MODEL.ROI_HEADS.NUM_CLASSES = len(CAT_ID2NAME) "
   ]
  },
  {
   "cell_type": "markdown",
   "metadata": {},
   "source": [
    "TensorBoard を見たければ、detectron2_Machikado まで cd で移動して・・・\n",
    "\n",
    "```\n",
    "tensorboard --logdir output\n",
    "```\n",
    "\n",
    "docker な人は以下の様にする\n",
    "（事前に6006ポートをポートフォワーディングしておくことと、--bind_all が必要）\n",
    "\n",
    "```\n",
    "tensorboard --logdir output --bind_all\n",
    "```"
   ]
  },
  {
   "cell_type": "code",
   "execution_count": 7,
   "metadata": {},
   "outputs": [
    {
     "name": "stdout",
     "output_type": "stream",
     "text": [
      "\u001b[32m[04/12 06:33:04 d2.data.build]: \u001b[0mRemoved 0 images with no usable annotations. 57 images left.\n",
      "\u001b[32m[04/12 06:33:04 d2.data.common]: \u001b[0mSerializing 57 elements to byte tensors and concatenating them all ...\n",
      "\u001b[32m[04/12 06:33:04 d2.data.common]: \u001b[0mSerialized dataset takes 0.13 MiB\n",
      "\u001b[32m[04/12 06:33:04 d2.data.detection_utils]: \u001b[0mTransformGens used in training: [ResizeShortestEdge(short_edge_length=(640, 672, 704, 736, 768, 800), max_size=1333, sample_style='choice'), RandomFlip()]\n",
      "\u001b[32m[04/12 06:33:04 d2.data.build]: \u001b[0mUsing training sampler TrainingSampler\n"
     ]
    },
    {
     "name": "stderr",
     "output_type": "stream",
     "text": [
      "'roi_heads.box_predictor.cls_score.weight' has shape (81, 1024) in the checkpoint but (7, 1024) in the model! Skipped.\n",
      "'roi_heads.box_predictor.cls_score.bias' has shape (81,) in the checkpoint but (7,) in the model! Skipped.\n",
      "'roi_heads.box_predictor.bbox_pred.weight' has shape (320, 1024) in the checkpoint but (24, 1024) in the model! Skipped.\n",
      "'roi_heads.box_predictor.bbox_pred.bias' has shape (320,) in the checkpoint but (24,) in the model! Skipped.\n",
      "'roi_heads.mask_head.predictor.weight' has shape (80, 256, 1, 1) in the checkpoint but (6, 256, 1, 1) in the model! Skipped.\n",
      "'roi_heads.mask_head.predictor.bias' has shape (80,) in the checkpoint but (6,) in the model! Skipped.\n"
     ]
    },
    {
     "name": "stdout",
     "output_type": "stream",
     "text": [
      "\u001b[32m[04/12 06:33:05 d2.engine.train_loop]: \u001b[0mStarting training from iteration 0\n",
      "\u001b[32m[04/12 06:33:14 d2.utils.events]: \u001b[0m eta: 0:11:11  iter: 19  total_loss: 3.305  loss_cls: 1.911  loss_box_reg: 0.690  loss_mask: 0.692  loss_rpn_cls: 0.014  loss_rpn_loc: 0.023  time: 0.4582  data_time: 0.0074  lr: 0.000005  max_mem: 3679M\n",
      "\u001b[32m[04/12 06:33:24 d2.utils.events]: \u001b[0m eta: 0:11:14  iter: 39  total_loss: 3.018  loss_cls: 1.768  loss_box_reg: 0.444  loss_mask: 0.692  loss_rpn_cls: 0.002  loss_rpn_loc: 0.017  time: 0.4588  data_time: 0.0018  lr: 0.000010  max_mem: 3679M\n",
      "\u001b[32m[04/12 06:33:33 d2.utils.events]: \u001b[0m eta: 0:11:21  iter: 59  total_loss: 2.780  loss_cls: 1.478  loss_box_reg: 0.594  loss_mask: 0.689  loss_rpn_cls: 0.005  loss_rpn_loc: 0.018  time: 0.4639  data_time: 0.0018  lr: 0.000015  max_mem: 3679M\n",
      "\u001b[32m[04/12 06:33:43 d2.utils.events]: \u001b[0m eta: 0:11:15  iter: 79  total_loss: 2.626  loss_cls: 1.092  loss_box_reg: 0.629  loss_mask: 0.684  loss_rpn_cls: 0.005  loss_rpn_loc: 0.025  time: 0.4697  data_time: 0.0019  lr: 0.000020  max_mem: 3679M\n",
      "\u001b[32m[04/12 06:33:52 d2.utils.events]: \u001b[0m eta: 0:11:05  iter: 99  total_loss: 2.437  loss_cls: 0.838  loss_box_reg: 0.852  loss_mask: 0.679  loss_rpn_cls: 0.005  loss_rpn_loc: 0.016  time: 0.4701  data_time: 0.0018  lr: 0.000025  max_mem: 3679M\n",
      "\u001b[32m[04/12 06:34:02 d2.utils.events]: \u001b[0m eta: 0:10:56  iter: 119  total_loss: 1.800  loss_cls: 0.558  loss_box_reg: 0.523  loss_mask: 0.673  loss_rpn_cls: 0.006  loss_rpn_loc: 0.020  time: 0.4704  data_time: 0.0018  lr: 0.000030  max_mem: 3679M\n",
      "\u001b[32m[04/12 06:34:12 d2.utils.events]: \u001b[0m eta: 0:10:49  iter: 139  total_loss: 2.079  loss_cls: 0.558  loss_box_reg: 0.720  loss_mask: 0.665  loss_rpn_cls: 0.004  loss_rpn_loc: 0.023  time: 0.4736  data_time: 0.0018  lr: 0.000035  max_mem: 3679M\n",
      "\u001b[32m[04/12 06:34:22 d2.utils.events]: \u001b[0m eta: 0:10:44  iter: 159  total_loss: 1.707  loss_cls: 0.436  loss_box_reg: 0.496  loss_mask: 0.645  loss_rpn_cls: 0.002  loss_rpn_loc: 0.027  time: 0.4760  data_time: 0.0018  lr: 0.000040  max_mem: 3679M\n",
      "\u001b[32m[04/12 06:34:31 d2.utils.events]: \u001b[0m eta: 0:10:34  iter: 179  total_loss: 1.755  loss_cls: 0.482  loss_box_reg: 0.649  loss_mask: 0.633  loss_rpn_cls: 0.001  loss_rpn_loc: 0.012  time: 0.4756  data_time: 0.0017  lr: 0.000045  max_mem: 3679M\n",
      "\u001b[32m[04/12 06:34:41 d2.utils.events]: \u001b[0m eta: 0:10:26  iter: 199  total_loss: 1.795  loss_cls: 0.465  loss_box_reg: 0.653  loss_mask: 0.634  loss_rpn_cls: 0.002  loss_rpn_loc: 0.022  time: 0.4772  data_time: 0.0019  lr: 0.000050  max_mem: 3679M\n",
      "\u001b[32m[04/12 06:34:51 d2.utils.events]: \u001b[0m eta: 0:10:16  iter: 219  total_loss: 1.568  loss_cls: 0.450  loss_box_reg: 0.575  loss_mask: 0.566  loss_rpn_cls: 0.002  loss_rpn_loc: 0.016  time: 0.4772  data_time: 0.0019  lr: 0.000055  max_mem: 3679M\n",
      "\u001b[32m[04/12 06:35:01 d2.utils.events]: \u001b[0m eta: 0:10:07  iter: 239  total_loss: 2.106  loss_cls: 0.646  loss_box_reg: 0.923  loss_mask: 0.552  loss_rpn_cls: 0.001  loss_rpn_loc: 0.016  time: 0.4786  data_time: 0.0016  lr: 0.000060  max_mem: 3679M\n",
      "\u001b[32m[04/12 06:35:10 d2.utils.events]: \u001b[0m eta: 0:09:56  iter: 259  total_loss: 1.735  loss_cls: 0.426  loss_box_reg: 0.713  loss_mask: 0.572  loss_rpn_cls: 0.001  loss_rpn_loc: 0.023  time: 0.4777  data_time: 0.0016  lr: 0.000065  max_mem: 3679M\n",
      "\u001b[32m[04/12 06:35:20 d2.utils.events]: \u001b[0m eta: 0:09:46  iter: 279  total_loss: 1.204  loss_cls: 0.281  loss_box_reg: 0.400  loss_mask: 0.442  loss_rpn_cls: 0.001  loss_rpn_loc: 0.032  time: 0.4782  data_time: 0.0016  lr: 0.000070  max_mem: 3679M\n",
      "\u001b[32m[04/12 06:35:29 d2.utils.events]: \u001b[0m eta: 0:09:36  iter: 299  total_loss: 1.593  loss_cls: 0.328  loss_box_reg: 0.562  loss_mask: 0.503  loss_rpn_cls: 0.001  loss_rpn_loc: 0.015  time: 0.4772  data_time: 0.0016  lr: 0.000075  max_mem: 3679M\n",
      "\u001b[32m[04/12 06:35:39 d2.utils.events]: \u001b[0m eta: 0:09:27  iter: 319  total_loss: 1.529  loss_cls: 0.434  loss_box_reg: 0.703  loss_mask: 0.358  loss_rpn_cls: 0.000  loss_rpn_loc: 0.023  time: 0.4780  data_time: 0.0016  lr: 0.000080  max_mem: 3679M\n",
      "\u001b[32m[04/12 06:35:49 d2.utils.events]: \u001b[0m eta: 0:09:18  iter: 339  total_loss: 1.450  loss_cls: 0.402  loss_box_reg: 0.434  loss_mask: 0.413  loss_rpn_cls: 0.001  loss_rpn_loc: 0.021  time: 0.4784  data_time: 0.0016  lr: 0.000085  max_mem: 3679M\n",
      "\u001b[32m[04/12 06:35:59 d2.utils.events]: \u001b[0m eta: 0:09:09  iter: 359  total_loss: 1.412  loss_cls: 0.388  loss_box_reg: 0.667  loss_mask: 0.315  loss_rpn_cls: 0.000  loss_rpn_loc: 0.016  time: 0.4789  data_time: 0.0016  lr: 0.000090  max_mem: 3679M\n",
      "\u001b[32m[04/12 06:36:08 d2.utils.events]: \u001b[0m eta: 0:08:57  iter: 379  total_loss: 1.479  loss_cls: 0.422  loss_box_reg: 0.727  loss_mask: 0.320  loss_rpn_cls: 0.000  loss_rpn_loc: 0.011  time: 0.4778  data_time: 0.0015  lr: 0.000095  max_mem: 3679M\n",
      "\u001b[32m[04/12 06:36:18 d2.utils.events]: \u001b[0m eta: 0:08:48  iter: 399  total_loss: 1.381  loss_cls: 0.321  loss_box_reg: 0.506  loss_mask: 0.300  loss_rpn_cls: 0.000  loss_rpn_loc: 0.024  time: 0.4785  data_time: 0.0016  lr: 0.000100  max_mem: 3679M\n",
      "\u001b[32m[04/12 06:36:28 d2.utils.events]: \u001b[0m eta: 0:08:39  iter: 419  total_loss: 1.308  loss_cls: 0.401  loss_box_reg: 0.538  loss_mask: 0.252  loss_rpn_cls: 0.000  loss_rpn_loc: 0.017  time: 0.4796  data_time: 0.0017  lr: 0.000105  max_mem: 3679M\n",
      "\u001b[32m[04/12 06:36:37 d2.utils.events]: \u001b[0m eta: 0:08:29  iter: 439  total_loss: 1.238  loss_cls: 0.356  loss_box_reg: 0.557  loss_mask: 0.259  loss_rpn_cls: 0.001  loss_rpn_loc: 0.013  time: 0.4790  data_time: 0.0019  lr: 0.000110  max_mem: 3679M\n",
      "\u001b[32m[04/12 06:36:47 d2.utils.events]: \u001b[0m eta: 0:08:20  iter: 459  total_loss: 1.470  loss_cls: 0.464  loss_box_reg: 0.693  loss_mask: 0.238  loss_rpn_cls: 0.000  loss_rpn_loc: 0.030  time: 0.4798  data_time: 0.0020  lr: 0.000115  max_mem: 3679M\n",
      "\u001b[32m[04/12 06:36:57 d2.utils.events]: \u001b[0m eta: 0:08:11  iter: 479  total_loss: 1.335  loss_cls: 0.428  loss_box_reg: 0.593  loss_mask: 0.207  loss_rpn_cls: 0.000  loss_rpn_loc: 0.022  time: 0.4794  data_time: 0.0019  lr: 0.000120  max_mem: 3679M\n",
      "\u001b[32m[04/12 06:37:07 d2.utils.events]: \u001b[0m eta: 0:08:03  iter: 499  total_loss: 1.114  loss_cls: 0.438  loss_box_reg: 0.531  loss_mask: 0.181  loss_rpn_cls: 0.000  loss_rpn_loc: 0.013  time: 0.4802  data_time: 0.0018  lr: 0.000125  max_mem: 3679M\n",
      "\u001b[32m[04/12 06:37:17 d2.utils.events]: \u001b[0m eta: 0:07:54  iter: 519  total_loss: 1.315  loss_cls: 0.372  loss_box_reg: 0.603  loss_mask: 0.214  loss_rpn_cls: 0.000  loss_rpn_loc: 0.025  time: 0.4809  data_time: 0.0019  lr: 0.000130  max_mem: 3778M\n",
      "\u001b[32m[04/12 06:37:26 d2.utils.events]: \u001b[0m eta: 0:07:44  iter: 539  total_loss: 1.063  loss_cls: 0.354  loss_box_reg: 0.451  loss_mask: 0.185  loss_rpn_cls: 0.000  loss_rpn_loc: 0.013  time: 0.4809  data_time: 0.0019  lr: 0.000135  max_mem: 3778M\n",
      "\u001b[32m[04/12 06:37:36 d2.utils.events]: \u001b[0m eta: 0:07:34  iter: 559  total_loss: 1.024  loss_cls: 0.343  loss_box_reg: 0.461  loss_mask: 0.163  loss_rpn_cls: 0.000  loss_rpn_loc: 0.018  time: 0.4806  data_time: 0.0018  lr: 0.000140  max_mem: 3778M\n",
      "\u001b[32m[04/12 06:37:45 d2.utils.events]: \u001b[0m eta: 0:07:25  iter: 579  total_loss: 0.956  loss_cls: 0.351  loss_box_reg: 0.413  loss_mask: 0.144  loss_rpn_cls: 0.000  loss_rpn_loc: 0.009  time: 0.4804  data_time: 0.0019  lr: 0.000145  max_mem: 3778M\n",
      "\u001b[32m[04/12 06:37:56 d2.utils.events]: \u001b[0m eta: 0:07:17  iter: 599  total_loss: 0.739  loss_cls: 0.260  loss_box_reg: 0.245  loss_mask: 0.209  loss_rpn_cls: 0.000  loss_rpn_loc: 0.032  time: 0.4812  data_time: 0.0018  lr: 0.000150  max_mem: 3778M\n",
      "\u001b[32m[04/12 06:38:05 d2.utils.events]: \u001b[0m eta: 0:07:07  iter: 619  total_loss: 1.133  loss_cls: 0.328  loss_box_reg: 0.530  loss_mask: 0.182  loss_rpn_cls: 0.000  loss_rpn_loc: 0.015  time: 0.4807  data_time: 0.0020  lr: 0.000155  max_mem: 3778M\n",
      "\u001b[32m[04/12 06:38:15 d2.utils.events]: \u001b[0m eta: 0:06:57  iter: 639  total_loss: 0.985  loss_cls: 0.324  loss_box_reg: 0.472  loss_mask: 0.158  loss_rpn_cls: 0.000  loss_rpn_loc: 0.015  time: 0.4810  data_time: 0.0019  lr: 0.000160  max_mem: 3778M\n",
      "\u001b[32m[04/12 06:38:24 d2.utils.events]: \u001b[0m eta: 0:06:47  iter: 659  total_loss: 0.624  loss_cls: 0.253  loss_box_reg: 0.246  loss_mask: 0.133  loss_rpn_cls: 0.000  loss_rpn_loc: 0.018  time: 0.4806  data_time: 0.0019  lr: 0.000165  max_mem: 3778M\n",
      "\u001b[32m[04/12 06:38:34 d2.utils.events]: \u001b[0m eta: 0:06:38  iter: 679  total_loss: 1.050  loss_cls: 0.331  loss_box_reg: 0.504  loss_mask: 0.167  loss_rpn_cls: 0.000  loss_rpn_loc: 0.020  time: 0.4813  data_time: 0.0019  lr: 0.000170  max_mem: 3778M\n",
      "\u001b[32m[04/12 06:38:44 d2.utils.events]: \u001b[0m eta: 0:06:28  iter: 699  total_loss: 0.891  loss_cls: 0.257  loss_box_reg: 0.307  loss_mask: 0.159  loss_rpn_cls: 0.000  loss_rpn_loc: 0.012  time: 0.4809  data_time: 0.0019  lr: 0.000175  max_mem: 3778M\n",
      "\u001b[32m[04/12 06:38:54 d2.utils.events]: \u001b[0m eta: 0:06:19  iter: 719  total_loss: 0.780  loss_cls: 0.259  loss_box_reg: 0.372  loss_mask: 0.115  loss_rpn_cls: 0.000  loss_rpn_loc: 0.022  time: 0.4814  data_time: 0.0018  lr: 0.000180  max_mem: 3778M\n",
      "\u001b[32m[04/12 06:39:04 d2.utils.events]: \u001b[0m eta: 0:06:10  iter: 739  total_loss: 0.971  loss_cls: 0.270  loss_box_reg: 0.407  loss_mask: 0.136  loss_rpn_cls: 0.000  loss_rpn_loc: 0.017  time: 0.4819  data_time: 0.0019  lr: 0.000185  max_mem: 3778M\n",
      "\u001b[32m[04/12 06:39:13 d2.utils.events]: \u001b[0m eta: 0:06:00  iter: 759  total_loss: 0.735  loss_cls: 0.200  loss_box_reg: 0.279  loss_mask: 0.125  loss_rpn_cls: 0.000  loss_rpn_loc: 0.019  time: 0.4811  data_time: 0.0019  lr: 0.000190  max_mem: 3778M\n",
      "\u001b[32m[04/12 06:39:23 d2.utils.events]: \u001b[0m eta: 0:05:50  iter: 779  total_loss: 0.820  loss_cls: 0.256  loss_box_reg: 0.390  loss_mask: 0.133  loss_rpn_cls: 0.000  loss_rpn_loc: 0.019  time: 0.4816  data_time: 0.0019  lr: 0.000195  max_mem: 3778M\n",
      "\u001b[32m[04/12 06:39:33 d2.utils.events]: \u001b[0m eta: 0:05:41  iter: 799  total_loss: 0.730  loss_cls: 0.229  loss_box_reg: 0.342  loss_mask: 0.105  loss_rpn_cls: 0.000  loss_rpn_loc: 0.018  time: 0.4819  data_time: 0.0019  lr: 0.000200  max_mem: 3778M\n",
      "\u001b[32m[04/12 06:39:42 d2.utils.events]: \u001b[0m eta: 0:05:31  iter: 819  total_loss: 0.471  loss_cls: 0.155  loss_box_reg: 0.167  loss_mask: 0.135  loss_rpn_cls: 0.000  loss_rpn_loc: 0.010  time: 0.4813  data_time: 0.0019  lr: 0.000205  max_mem: 3778M\n",
      "\u001b[32m[04/12 06:39:52 d2.utils.events]: \u001b[0m eta: 0:05:21  iter: 839  total_loss: 0.875  loss_cls: 0.242  loss_box_reg: 0.443  loss_mask: 0.138  loss_rpn_cls: 0.000  loss_rpn_loc: 0.018  time: 0.4821  data_time: 0.0020  lr: 0.000210  max_mem: 3778M\n",
      "\u001b[32m[04/12 06:40:02 d2.utils.events]: \u001b[0m eta: 0:05:12  iter: 859  total_loss: 0.755  loss_cls: 0.213  loss_box_reg: 0.347  loss_mask: 0.121  loss_rpn_cls: 0.000  loss_rpn_loc: 0.017  time: 0.4821  data_time: 0.0019  lr: 0.000215  max_mem: 3778M\n",
      "\u001b[32m[04/12 06:40:12 d2.utils.events]: \u001b[0m eta: 0:05:02  iter: 879  total_loss: 0.532  loss_cls: 0.173  loss_box_reg: 0.244  loss_mask: 0.143  loss_rpn_cls: 0.000  loss_rpn_loc: 0.023  time: 0.4817  data_time: 0.0019  lr: 0.000220  max_mem: 3778M\n",
      "\u001b[32m[04/12 06:40:22 d2.utils.events]: \u001b[0m eta: 0:04:52  iter: 899  total_loss: 0.727  loss_cls: 0.144  loss_box_reg: 0.379  loss_mask: 0.120  loss_rpn_cls: 0.000  loss_rpn_loc: 0.017  time: 0.4822  data_time: 0.0019  lr: 0.000225  max_mem: 3778M\n",
      "\u001b[32m[04/12 06:40:32 d2.utils.events]: \u001b[0m eta: 0:04:43  iter: 919  total_loss: 0.625  loss_cls: 0.141  loss_box_reg: 0.356  loss_mask: 0.094  loss_rpn_cls: 0.000  loss_rpn_loc: 0.014  time: 0.4825  data_time: 0.0017  lr: 0.000230  max_mem: 3778M\n",
      "\u001b[32m[04/12 06:40:42 d2.utils.events]: \u001b[0m eta: 0:04:33  iter: 939  total_loss: 0.616  loss_cls: 0.180  loss_box_reg: 0.292  loss_mask: 0.130  loss_rpn_cls: 0.000  loss_rpn_loc: 0.021  time: 0.4827  data_time: 0.0019  lr: 0.000235  max_mem: 3778M\n",
      "\u001b[32m[04/12 06:40:51 d2.utils.events]: \u001b[0m eta: 0:04:23  iter: 959  total_loss: 0.583  loss_cls: 0.166  loss_box_reg: 0.307  loss_mask: 0.103  loss_rpn_cls: 0.000  loss_rpn_loc: 0.010  time: 0.4825  data_time: 0.0020  lr: 0.000240  max_mem: 3778M\n",
      "\u001b[32m[04/12 06:41:01 d2.utils.events]: \u001b[0m eta: 0:04:13  iter: 979  total_loss: 0.804  loss_cls: 0.152  loss_box_reg: 0.335  loss_mask: 0.117  loss_rpn_cls: 0.000  loss_rpn_loc: 0.021  time: 0.4828  data_time: 0.0019  lr: 0.000245  max_mem: 3778M\n",
      "\u001b[32m[04/12 06:41:11 d2.utils.events]: \u001b[0m eta: 0:04:04  iter: 999  total_loss: 0.640  loss_cls: 0.155  loss_box_reg: 0.328  loss_mask: 0.162  loss_rpn_cls: 0.000  loss_rpn_loc: 0.018  time: 0.4828  data_time: 0.0019  lr: 0.000250  max_mem: 3778M\n",
      "\u001b[32m[04/12 06:41:21 d2.utils.events]: \u001b[0m eta: 0:03:54  iter: 1019  total_loss: 0.524  loss_cls: 0.142  loss_box_reg: 0.242  loss_mask: 0.103  loss_rpn_cls: 0.000  loss_rpn_loc: 0.014  time: 0.4831  data_time: 0.0019  lr: 0.000250  max_mem: 3778M\n",
      "\u001b[32m[04/12 06:41:30 d2.utils.events]: \u001b[0m eta: 0:03:45  iter: 1039  total_loss: 0.533  loss_cls: 0.118  loss_box_reg: 0.289  loss_mask: 0.098  loss_rpn_cls: 0.000  loss_rpn_loc: 0.015  time: 0.4827  data_time: 0.0020  lr: 0.000250  max_mem: 3778M\n",
      "\u001b[32m[04/12 06:41:40 d2.utils.events]: \u001b[0m eta: 0:03:35  iter: 1059  total_loss: 0.507  loss_cls: 0.091  loss_box_reg: 0.275  loss_mask: 0.098  loss_rpn_cls: 0.000  loss_rpn_loc: 0.019  time: 0.4833  data_time: 0.0019  lr: 0.000250  max_mem: 3778M\n",
      "\u001b[32m[04/12 06:41:50 d2.utils.events]: \u001b[0m eta: 0:03:25  iter: 1079  total_loss: 0.686  loss_cls: 0.141  loss_box_reg: 0.274  loss_mask: 0.110  loss_rpn_cls: 0.000  loss_rpn_loc: 0.018  time: 0.4830  data_time: 0.0019  lr: 0.000250  max_mem: 3778M\n",
      "\u001b[32m[04/12 06:41:59 d2.utils.events]: \u001b[0m eta: 0:03:15  iter: 1099  total_loss: 0.341  loss_cls: 0.102  loss_box_reg: 0.134  loss_mask: 0.091  loss_rpn_cls: 0.000  loss_rpn_loc: 0.011  time: 0.4823  data_time: 0.0018  lr: 0.000250  max_mem: 3778M\n",
      "\u001b[32m[04/12 06:42:09 d2.utils.events]: \u001b[0m eta: 0:03:06  iter: 1119  total_loss: 0.495  loss_cls: 0.124  loss_box_reg: 0.225  loss_mask: 0.112  loss_rpn_cls: 0.000  loss_rpn_loc: 0.009  time: 0.4824  data_time: 0.0016  lr: 0.000250  max_mem: 3778M\n",
      "\u001b[32m[04/12 06:42:18 d2.utils.events]: \u001b[0m eta: 0:02:56  iter: 1139  total_loss: 0.460  loss_cls: 0.077  loss_box_reg: 0.261  loss_mask: 0.096  loss_rpn_cls: 0.000  loss_rpn_loc: 0.015  time: 0.4825  data_time: 0.0017  lr: 0.000250  max_mem: 3778M\n",
      "\u001b[32m[04/12 06:42:28 d2.utils.events]: \u001b[0m eta: 0:02:46  iter: 1159  total_loss: 0.496  loss_cls: 0.099  loss_box_reg: 0.251  loss_mask: 0.124  loss_rpn_cls: 0.000  loss_rpn_loc: 0.016  time: 0.4824  data_time: 0.0019  lr: 0.000250  max_mem: 3778M\n",
      "\u001b[32m[04/12 06:42:38 d2.utils.events]: \u001b[0m eta: 0:02:37  iter: 1179  total_loss: 0.405  loss_cls: 0.086  loss_box_reg: 0.206  loss_mask: 0.117  loss_rpn_cls: 0.000  loss_rpn_loc: 0.015  time: 0.4823  data_time: 0.0017  lr: 0.000250  max_mem: 3778M\n",
      "\u001b[32m[04/12 06:42:48 d2.utils.events]: \u001b[0m eta: 0:02:27  iter: 1199  total_loss: 0.476  loss_cls: 0.094  loss_box_reg: 0.262  loss_mask: 0.099  loss_rpn_cls: 0.000  loss_rpn_loc: 0.015  time: 0.4826  data_time: 0.0018  lr: 0.000250  max_mem: 3778M\n",
      "\u001b[32m[04/12 06:42:57 d2.utils.events]: \u001b[0m eta: 0:02:17  iter: 1219  total_loss: 0.459  loss_cls: 0.085  loss_box_reg: 0.256  loss_mask: 0.103  loss_rpn_cls: 0.000  loss_rpn_loc: 0.012  time: 0.4825  data_time: 0.0017  lr: 0.000250  max_mem: 3778M\n",
      "\u001b[32m[04/12 06:43:07 d2.utils.events]: \u001b[0m eta: 0:02:07  iter: 1239  total_loss: 0.421  loss_cls: 0.070  loss_box_reg: 0.242  loss_mask: 0.098  loss_rpn_cls: 0.000  loss_rpn_loc: 0.017  time: 0.4828  data_time: 0.0020  lr: 0.000250  max_mem: 3778M\n",
      "\u001b[32m[04/12 06:43:17 d2.utils.events]: \u001b[0m eta: 0:01:58  iter: 1259  total_loss: 0.381  loss_cls: 0.074  loss_box_reg: 0.232  loss_mask: 0.078  loss_rpn_cls: 0.000  loss_rpn_loc: 0.014  time: 0.4828  data_time: 0.0019  lr: 0.000250  max_mem: 3778M\n",
      "\u001b[32m[04/12 06:43:27 d2.utils.events]: \u001b[0m eta: 0:01:48  iter: 1279  total_loss: 0.474  loss_cls: 0.058  loss_box_reg: 0.282  loss_mask: 0.088  loss_rpn_cls: 0.000  loss_rpn_loc: 0.019  time: 0.4829  data_time: 0.0019  lr: 0.000250  max_mem: 3778M\n",
      "\u001b[32m[04/12 06:43:36 d2.utils.events]: \u001b[0m eta: 0:01:38  iter: 1299  total_loss: 0.352  loss_cls: 0.050  loss_box_reg: 0.190  loss_mask: 0.074  loss_rpn_cls: 0.000  loss_rpn_loc: 0.010  time: 0.4825  data_time: 0.0019  lr: 0.000250  max_mem: 3778M\n",
      "\u001b[32m[04/12 06:43:46 d2.utils.events]: \u001b[0m eta: 0:01:28  iter: 1319  total_loss: 0.294  loss_cls: 0.050  loss_box_reg: 0.118  loss_mask: 0.080  loss_rpn_cls: 0.000  loss_rpn_loc: 0.013  time: 0.4825  data_time: 0.0019  lr: 0.000250  max_mem: 3778M\n",
      "\u001b[32m[04/12 06:43:56 d2.utils.events]: \u001b[0m eta: 0:01:18  iter: 1339  total_loss: 0.397  loss_cls: 0.060  loss_box_reg: 0.244  loss_mask: 0.093  loss_rpn_cls: 0.000  loss_rpn_loc: 0.014  time: 0.4827  data_time: 0.0019  lr: 0.000250  max_mem: 3778M\n",
      "\u001b[32m[04/12 06:44:06 d2.utils.events]: \u001b[0m eta: 0:01:09  iter: 1359  total_loss: 0.402  loss_cls: 0.064  loss_box_reg: 0.230  loss_mask: 0.090  loss_rpn_cls: 0.000  loss_rpn_loc: 0.029  time: 0.4830  data_time: 0.0019  lr: 0.000250  max_mem: 3778M\n",
      "\u001b[32m[04/12 06:44:16 d2.utils.events]: \u001b[0m eta: 0:00:59  iter: 1379  total_loss: 0.424  loss_cls: 0.078  loss_box_reg: 0.227  loss_mask: 0.080  loss_rpn_cls: 0.000  loss_rpn_loc: 0.012  time: 0.4832  data_time: 0.0019  lr: 0.000250  max_mem: 3778M\n",
      "\u001b[32m[04/12 06:44:26 d2.utils.events]: \u001b[0m eta: 0:00:49  iter: 1399  total_loss: 0.286  loss_cls: 0.040  loss_box_reg: 0.151  loss_mask: 0.082  loss_rpn_cls: 0.000  loss_rpn_loc: 0.013  time: 0.4835  data_time: 0.0020  lr: 0.000250  max_mem: 3778M\n",
      "\u001b[32m[04/12 06:44:35 d2.utils.events]: \u001b[0m eta: 0:00:39  iter: 1419  total_loss: 0.287  loss_cls: 0.049  loss_box_reg: 0.173  loss_mask: 0.088  loss_rpn_cls: 0.000  loss_rpn_loc: 0.013  time: 0.4832  data_time: 0.0019  lr: 0.000250  max_mem: 3778M\n",
      "\u001b[32m[04/12 06:44:45 d2.utils.events]: \u001b[0m eta: 0:00:30  iter: 1439  total_loss: 0.380  loss_cls: 0.063  loss_box_reg: 0.220  loss_mask: 0.076  loss_rpn_cls: 0.000  loss_rpn_loc: 0.011  time: 0.4835  data_time: 0.0019  lr: 0.000250  max_mem: 3778M\n",
      "\u001b[32m[04/12 06:44:55 d2.utils.events]: \u001b[0m eta: 0:00:20  iter: 1459  total_loss: 0.217  loss_cls: 0.038  loss_box_reg: 0.094  loss_mask: 0.076  loss_rpn_cls: 0.000  loss_rpn_loc: 0.013  time: 0.4833  data_time: 0.0018  lr: 0.000250  max_mem: 3778M\n",
      "\u001b[32m[04/12 06:45:05 d2.utils.events]: \u001b[0m eta: 0:00:10  iter: 1479  total_loss: 0.408  loss_cls: 0.079  loss_box_reg: 0.206  loss_mask: 0.095  loss_rpn_cls: 0.000  loss_rpn_loc: 0.012  time: 0.4835  data_time: 0.0017  lr: 0.000250  max_mem: 3778M\n",
      "\u001b[32m[04/12 06:45:23 d2.utils.events]: \u001b[0m eta: 0:00:00  iter: 1499  total_loss: 0.353  loss_cls: 0.052  loss_box_reg: 0.206  loss_mask: 0.078  loss_rpn_cls: 0.000  loss_rpn_loc: 0.010  time: 0.4835  data_time: 0.0016  lr: 0.000250  max_mem: 3778M\n",
      "\u001b[32m[04/12 06:45:23 d2.engine.hooks]: \u001b[0mOverall training speed: 1497 iterations in 0:12:04 (0.4838 s / it)\n",
      "\u001b[32m[04/12 06:45:23 d2.engine.hooks]: \u001b[0mTotal training time: 0:12:17 (0:00:12 on hooks)\n"
     ]
    }
   ],
   "source": [
    "# DefaultTrainer はサンプルなので、ガチにやる人は自分で作るらしい・・・\n",
    "from detectron2.engine import DefaultTrainer\n",
    "\n",
    "# 出力先のディレクトリを作る\n",
    "os.makedirs(cfg.OUTPUT_DIR, exist_ok=True)\n",
    "\n",
    "trainer = DefaultTrainer(cfg) \n",
    "trainer.resume_or_load(resume=False) # True で途中から学習できるらしい\n",
    "trainer.train()"
   ]
  },
  {
   "cell_type": "code",
   "execution_count": null,
   "metadata": {},
   "outputs": [],
   "source": []
  }
 ],
 "metadata": {
  "kernelspec": {
   "display_name": "Python 3",
   "language": "python",
   "name": "python3"
  },
  "language_info": {
   "codemirror_mode": {
    "name": "ipython",
    "version": 3
   },
   "file_extension": ".py",
   "mimetype": "text/x-python",
   "name": "python",
   "nbconvert_exporter": "python",
   "pygments_lexer": "ipython3",
   "version": "3.7.4"
  }
 },
 "nbformat": 4,
 "nbformat_minor": 4
}
