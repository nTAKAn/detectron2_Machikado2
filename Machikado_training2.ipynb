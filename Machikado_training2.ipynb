{
 "cells": [
  {
   "cell_type": "markdown",
   "metadata": {},
   "source": [
    "# 続・detectron2 for まちカドまぞく ～訓練編～\n",
    "\n",
    "<img src=\"https://user-images.githubusercontent.com/33882378/79055210-2ff0e600-7c86-11ea-93c6-8a65112f80f0.jpg\">\n",
    "\n",
    "detectron2 の訓練をカスタマイズする方法\n",
    "\n",
    "---"
   ]
  },
  {
   "cell_type": "code",
   "execution_count": 1,
   "metadata": {},
   "outputs": [],
   "source": [
    "import os\n",
    "import numpy as np\n",
    "import json\n",
    "import matplotlib.pyplot as plt\n",
    "import cv2\n",
    "import random"
   ]
  },
  {
   "cell_type": "code",
   "execution_count": 2,
   "metadata": {},
   "outputs": [],
   "source": [
    "# VoTT のエクスポートファイルや、画像が格納されているディレクトリ\n",
    "BASE_DIRECTORY = './vott-json-export/'\n",
    "# VoTT のエクスポートファイル名\n",
    "EXPORT_FILENAME = 'Machikado-export.json'\n",
    "# 訓練データに使用する割合\n",
    "TRAIN_RATIO = 0.8\n",
    "# 乱数シード\n",
    "RANDOM_STATE = 0"
   ]
  },
  {
   "cell_type": "markdown",
   "metadata": {},
   "source": [
    "### DatasetCatalogを用意する"
   ]
  },
  {
   "cell_type": "code",
   "execution_count": 3,
   "metadata": {},
   "outputs": [
    {
     "name": "stdout",
     "output_type": "stream",
     "text": [
      "警告: name: 59.jpg - 画像サイズの不整合 image_size:(268, 201), ./vott-json-export/Machikado-export.json: (600, 600)\n"
     ]
    },
    {
     "data": {
      "text/plain": [
       "Metadata(name='test', thing_classes=['Shamiko', 'Gosenzo', 'Lilith', 'Momo', 'Mikan', 'Mob'])"
      ]
     },
     "execution_count": 3,
     "metadata": {},
     "output_type": "execute_result"
    }
   ],
   "source": [
    "from detectron2.data import DatasetCatalog, MetadataCatalog\n",
    "from Machikado_vott import get_cat_names, get_machikado_dicts\n",
    "\n",
    "# vott エクスポートファイルの読み込み\n",
    "CAT_NAME2ID, CAT_ID2NAME = get_cat_names(os.path.join(BASE_DIRECTORY, EXPORT_FILENAME))\n",
    "dataset_dicts = get_machikado_dicts(os.path.join(BASE_DIRECTORY, EXPORT_FILENAME), BASE_DIRECTORY, CAT_NAME2ID)\n",
    "\n",
    "# 訓練用、テスト用に分ける\n",
    "random.seed(RANDOM_STATE)\n",
    "random.shuffle(dataset_dicts)\n",
    "\n",
    "split_idx = int(len(dataset_dicts) * TRAIN_RATIO) + 1\n",
    "\n",
    "# 登録\n",
    "DatasetCatalog.clear()\n",
    "DatasetCatalog.register('train', lambda : dataset_dicts[:split_idx])\n",
    "DatasetCatalog.register('test', lambda : dataset_dicts[split_idx:])\n",
    "\n",
    "MetadataCatalog.get('train').set(thing_classes=list(CAT_NAME2ID.keys()))\n",
    "MetadataCatalog.get('test').set(thing_classes=list(CAT_NAME2ID.keys()))"
   ]
  },
  {
   "cell_type": "code",
   "execution_count": 4,
   "metadata": {},
   "outputs": [],
   "source": [
    "from detectron2.data import DatasetCatalog\n",
    "\n",
    "# 訓練用、テスト用に分ける\n",
    "random.seed(RANDOM_STATE)\n",
    "random.shuffle(dataset_dicts)\n",
    "split_idx = int(len(dataset_dicts) * TRAIN_RATIO) + 1\n",
    "\n",
    "# 登録\n",
    "DatasetCatalog.clear()\n",
    "DatasetCatalog.register('train', lambda : dataset_dicts[:split_idx])\n",
    "DatasetCatalog.register('test', lambda : dataset_dicts[split_idx:])"
   ]
  },
  {
   "cell_type": "markdown",
   "metadata": {},
   "source": [
    "---\n",
    "## 学習"
   ]
  },
  {
   "cell_type": "code",
   "execution_count": 5,
   "metadata": {},
   "outputs": [],
   "source": [
    "from detectron2.config import get_cfg\n",
    "from MachikadoDatasetMapper import get_custom_cfg\n",
    "\n",
    "cfg = get_cfg()\n",
    "cfg.OUTPUT_DIR = './output'\n",
    "cfg.CUDA = 'cuda:0'\n",
    "\n",
    "# cfg.merge_from_file(\"../configs/COCO-InstanceSegmentation/mask_rcnn_R_50_FPN_3x.yaml\")\n",
    "# cfg.MODEL.WEIGHTS = './coco_models/model_final_f10217.pkl'\n",
    "# cfg.SOLVER.IMS_PER_BATCH = 2\n",
    "\n",
    "# 重いけど、これ精度良いです。\n",
    "cfg.merge_from_file('../configs/COCO-InstanceSegmentation/mask_rcnn_X_101_32x8d_FPN_3x.yaml')\n",
    "cfg.MODEL.WEIGHTS = './coco_models/model_final_2d9806.pkl'\n",
    "cfg.SOLVER.IMS_PER_BATCH = 1 # GTX2070 ではこれが限界\n",
    "\n",
    "cfg.DATASETS.TRAIN = ('train',)\n",
    "cfg.DATASETS.TEST = ()   # no metrics implemented for this dataset\n",
    "cfg.DATALOADER.NUM_WORKERS = 2\n",
    "cfg.SOLVER.BASE_LR = 0.00025\n",
    "cfg.SOLVER.MAX_ITER = 1500    # 300 iterations seems good enough, but you can certainly train longer <- とあるが、まあデータセットによるよね・・・\n",
    "cfg.MODEL.ROI_HEADS.BATCH_SIZE_PER_IMAGE = 128   # faster, and good enough for this toy dataset\n",
    "cfg.MODEL.ROI_HEADS.NUM_CLASSES = len(CAT_ID2NAME) \n",
    "\n",
    "cfg.INPUT.CROP.ENABLED = True\n",
    "cfg.INPUT.CROP.SIZE = [0.8, 0.8]\n",
    "\n",
    "custom_cfg = get_custom_cfg()"
   ]
  },
  {
   "cell_type": "code",
   "execution_count": 6,
   "metadata": {},
   "outputs": [],
   "source": [
    "from MachikadoDatasetMapper import MachikadoDatasetMapper\n",
    "from detectron2.engine import DefaultTrainer\n",
    "\n",
    "from detectron2.data import (\n",
    "    build_detection_test_loader,\n",
    "    build_detection_train_loader,\n",
    ")\n",
    "\n",
    "class MachikadoTrainer(DefaultTrainer):\n",
    "    def __init__(self, cfg):\n",
    "        super().__init__(cfg)\n",
    "        \n",
    "    @classmethod\n",
    "    def build_train_loader(cls, cfg):\n",
    "        return build_detection_train_loader(cfg, MachikadoDatasetMapper(cfg, custom_cfg=custom_cfg))"
   ]
  },
  {
   "cell_type": "code",
   "execution_count": 7,
   "metadata": {},
   "outputs": [
    {
     "name": "stdout",
     "output_type": "stream",
     "text": [
      "\u001b[32m[04/13 07:39:29 d2.data.detection_utils]: \u001b[0mTransformGens used in training: [ResizeShortestEdge(short_edge_length=(640, 672, 704, 736, 768, 800), max_size=1333, sample_style='choice'), RandomFlip()]\n",
      "\u001b[32m[04/13 07:39:29 d2.data.build]: \u001b[0mRemoved 0 images with no usable annotations. 57 images left.\n",
      "\u001b[32m[04/13 07:39:29 d2.data.build]: \u001b[0mDistribution of instances among all 6 categories:\n",
      "\u001b[36m|  category  | #instances   |  category  | #instances   |  category  | #instances   |\n",
      "|:----------:|:-------------|:----------:|:-------------|:----------:|:-------------|\n",
      "|  Shamiko   | 38           |  Gosenzo   | 20           |   Lilith   | 10           |\n",
      "|    Momo    | 20           |   Mikan    | 8            |    Mob     | 8            |\n",
      "|            |              |            |              |            |              |\n",
      "|   total    | 104          |            |              |            |              |\u001b[0m\n",
      "\u001b[32m[04/13 07:39:29 d2.data.common]: \u001b[0mSerializing 57 elements to byte tensors and concatenating them all ...\n",
      "\u001b[32m[04/13 07:39:29 d2.data.common]: \u001b[0mSerialized dataset takes 0.12 MiB\n",
      "\u001b[32m[04/13 07:39:29 d2.data.build]: \u001b[0mUsing training sampler TrainingSampler\n"
     ]
    },
    {
     "name": "stderr",
     "output_type": "stream",
     "text": [
      "'roi_heads.box_predictor.cls_score.weight' has shape (81, 1024) in the checkpoint but (7, 1024) in the model! Skipped.\n",
      "'roi_heads.box_predictor.cls_score.bias' has shape (81,) in the checkpoint but (7,) in the model! Skipped.\n",
      "'roi_heads.box_predictor.bbox_pred.weight' has shape (320, 1024) in the checkpoint but (24, 1024) in the model! Skipped.\n",
      "'roi_heads.box_predictor.bbox_pred.bias' has shape (320,) in the checkpoint but (24,) in the model! Skipped.\n",
      "'roi_heads.mask_head.predictor.weight' has shape (80, 256, 1, 1) in the checkpoint but (6, 256, 1, 1) in the model! Skipped.\n",
      "'roi_heads.mask_head.predictor.bias' has shape (80,) in the checkpoint but (6,) in the model! Skipped.\n"
     ]
    },
    {
     "name": "stdout",
     "output_type": "stream",
     "text": [
      "\u001b[32m[04/13 07:39:30 d2.engine.train_loop]: \u001b[0mStarting training from iteration 0\n",
      "\u001b[32m[04/13 07:39:40 d2.utils.events]: \u001b[0m eta: 0:11:32  iter: 19  total_loss: 3.243  loss_cls: 1.975  loss_box_reg: 0.498  loss_mask: 0.692  loss_rpn_cls: 0.002  loss_rpn_loc: 0.007  time: 0.4553  data_time: 0.0099  lr: 0.000005  max_mem: 3668M\n",
      "\u001b[32m[04/13 07:39:49 d2.utils.events]: \u001b[0m eta: 0:11:16  iter: 39  total_loss: 3.366  loss_cls: 1.791  loss_box_reg: 0.887  loss_mask: 0.690  loss_rpn_cls: 0.003  loss_rpn_loc: 0.022  time: 0.4647  data_time: 0.0018  lr: 0.000010  max_mem: 3668M\n",
      "\u001b[32m[04/13 07:39:59 d2.utils.events]: \u001b[0m eta: 0:11:20  iter: 59  total_loss: 3.113  loss_cls: 1.568  loss_box_reg: 0.885  loss_mask: 0.688  loss_rpn_cls: 0.005  loss_rpn_loc: 0.013  time: 0.4688  data_time: 0.0018  lr: 0.000015  max_mem: 3668M\n",
      "\u001b[32m[04/13 07:40:08 d2.utils.events]: \u001b[0m eta: 0:11:22  iter: 79  total_loss: 2.478  loss_cls: 1.138  loss_box_reg: 0.583  loss_mask: 0.677  loss_rpn_cls: 0.002  loss_rpn_loc: 0.014  time: 0.4704  data_time: 0.0016  lr: 0.000020  max_mem: 3781M\n",
      "\u001b[32m[04/13 07:40:17 d2.utils.events]: \u001b[0m eta: 0:11:06  iter: 99  total_loss: 2.392  loss_cls: 0.890  loss_box_reg: 0.816  loss_mask: 0.675  loss_rpn_cls: 0.007  loss_rpn_loc: 0.014  time: 0.4675  data_time: 0.0016  lr: 0.000025  max_mem: 3781M\n",
      "\u001b[32m[04/13 07:40:27 d2.utils.events]: \u001b[0m eta: 0:10:57  iter: 119  total_loss: 2.306  loss_cls: 0.729  loss_box_reg: 0.796  loss_mask: 0.657  loss_rpn_cls: 0.005  loss_rpn_loc: 0.026  time: 0.4685  data_time: 0.0018  lr: 0.000030  max_mem: 3781M\n",
      "\u001b[32m[04/13 07:40:36 d2.utils.events]: \u001b[0m eta: 0:10:40  iter: 139  total_loss: 1.671  loss_cls: 0.536  loss_box_reg: 0.504  loss_mask: 0.637  loss_rpn_cls: 0.002  loss_rpn_loc: 0.013  time: 0.4658  data_time: 0.0019  lr: 0.000035  max_mem: 3781M\n",
      "\u001b[32m[04/13 07:40:46 d2.utils.events]: \u001b[0m eta: 0:10:37  iter: 159  total_loss: 2.297  loss_cls: 0.669  loss_box_reg: 0.894  loss_mask: 0.602  loss_rpn_cls: 0.006  loss_rpn_loc: 0.016  time: 0.4695  data_time: 0.0018  lr: 0.000040  max_mem: 3781M\n",
      "\u001b[32m[04/13 07:40:55 d2.utils.events]: \u001b[0m eta: 0:10:29  iter: 179  total_loss: 2.011  loss_cls: 0.599  loss_box_reg: 0.812  loss_mask: 0.607  loss_rpn_cls: 0.002  loss_rpn_loc: 0.014  time: 0.4700  data_time: 0.0016  lr: 0.000045  max_mem: 3781M\n",
      "\u001b[32m[04/13 07:41:05 d2.utils.events]: \u001b[0m eta: 0:10:16  iter: 199  total_loss: 1.944  loss_cls: 0.549  loss_box_reg: 0.804  loss_mask: 0.559  loss_rpn_cls: 0.001  loss_rpn_loc: 0.010  time: 0.4696  data_time: 0.0016  lr: 0.000050  max_mem: 3781M\n",
      "\u001b[32m[04/13 07:41:15 d2.utils.events]: \u001b[0m eta: 0:10:10  iter: 219  total_loss: 1.480  loss_cls: 0.389  loss_box_reg: 0.455  loss_mask: 0.509  loss_rpn_cls: 0.001  loss_rpn_loc: 0.011  time: 0.4715  data_time: 0.0018  lr: 0.000055  max_mem: 3781M\n",
      "\u001b[32m[04/13 07:41:24 d2.utils.events]: \u001b[0m eta: 0:10:02  iter: 239  total_loss: 1.738  loss_cls: 0.489  loss_box_reg: 0.785  loss_mask: 0.535  loss_rpn_cls: 0.001  loss_rpn_loc: 0.008  time: 0.4712  data_time: 0.0018  lr: 0.000060  max_mem: 3781M\n",
      "\u001b[32m[04/13 07:41:34 d2.utils.events]: \u001b[0m eta: 0:09:55  iter: 259  total_loss: 1.333  loss_cls: 0.340  loss_box_reg: 0.446  loss_mask: 0.471  loss_rpn_cls: 0.002  loss_rpn_loc: 0.020  time: 0.4719  data_time: 0.0018  lr: 0.000065  max_mem: 3781M\n",
      "\u001b[32m[04/13 07:41:43 d2.utils.events]: \u001b[0m eta: 0:09:46  iter: 279  total_loss: 1.933  loss_cls: 0.509  loss_box_reg: 0.848  loss_mask: 0.475  loss_rpn_cls: 0.002  loss_rpn_loc: 0.011  time: 0.4727  data_time: 0.0018  lr: 0.000070  max_mem: 3781M\n",
      "\u001b[32m[04/13 07:41:53 d2.utils.events]: \u001b[0m eta: 0:09:36  iter: 299  total_loss: 1.675  loss_cls: 0.507  loss_box_reg: 0.839  loss_mask: 0.369  loss_rpn_cls: 0.000  loss_rpn_loc: 0.011  time: 0.4724  data_time: 0.0018  lr: 0.000075  max_mem: 3781M\n",
      "\u001b[32m[04/13 07:42:03 d2.utils.events]: \u001b[0m eta: 0:09:28  iter: 319  total_loss: 1.578  loss_cls: 0.435  loss_box_reg: 0.769  loss_mask: 0.391  loss_rpn_cls: 0.001  loss_rpn_loc: 0.013  time: 0.4744  data_time: 0.0020  lr: 0.000080  max_mem: 3781M\n",
      "\u001b[32m[04/13 07:42:13 d2.utils.events]: \u001b[0m eta: 0:09:17  iter: 339  total_loss: 1.614  loss_cls: 0.389  loss_box_reg: 0.651  loss_mask: 0.398  loss_rpn_cls: 0.000  loss_rpn_loc: 0.014  time: 0.4742  data_time: 0.0019  lr: 0.000085  max_mem: 3781M\n",
      "\u001b[32m[04/13 07:42:22 d2.utils.events]: \u001b[0m eta: 0:09:07  iter: 359  total_loss: 1.318  loss_cls: 0.383  loss_box_reg: 0.634  loss_mask: 0.294  loss_rpn_cls: 0.000  loss_rpn_loc: 0.010  time: 0.4742  data_time: 0.0019  lr: 0.000090  max_mem: 3781M\n",
      "\u001b[32m[04/13 07:42:32 d2.utils.events]: \u001b[0m eta: 0:08:58  iter: 379  total_loss: 1.512  loss_cls: 0.428  loss_box_reg: 0.683  loss_mask: 0.359  loss_rpn_cls: 0.001  loss_rpn_loc: 0.020  time: 0.4754  data_time: 0.0019  lr: 0.000095  max_mem: 3781M\n",
      "\u001b[32m[04/13 07:42:41 d2.utils.events]: \u001b[0m eta: 0:08:46  iter: 399  total_loss: 1.360  loss_cls: 0.364  loss_box_reg: 0.685  loss_mask: 0.256  loss_rpn_cls: 0.000  loss_rpn_loc: 0.012  time: 0.4736  data_time: 0.0019  lr: 0.000100  max_mem: 3781M\n",
      "\u001b[32m[04/13 07:42:50 d2.utils.events]: \u001b[0m eta: 0:08:36  iter: 419  total_loss: 1.315  loss_cls: 0.454  loss_box_reg: 0.623  loss_mask: 0.296  loss_rpn_cls: 0.000  loss_rpn_loc: 0.015  time: 0.4731  data_time: 0.0019  lr: 0.000105  max_mem: 3781M\n",
      "\u001b[32m[04/13 07:43:00 d2.utils.events]: \u001b[0m eta: 0:08:28  iter: 439  total_loss: 1.226  loss_cls: 0.359  loss_box_reg: 0.567  loss_mask: 0.253  loss_rpn_cls: 0.000  loss_rpn_loc: 0.016  time: 0.4737  data_time: 0.0019  lr: 0.000110  max_mem: 3781M\n",
      "\u001b[32m[04/13 07:43:09 d2.utils.events]: \u001b[0m eta: 0:08:18  iter: 459  total_loss: 1.090  loss_cls: 0.341  loss_box_reg: 0.485  loss_mask: 0.195  loss_rpn_cls: 0.000  loss_rpn_loc: 0.010  time: 0.4734  data_time: 0.0017  lr: 0.000115  max_mem: 3781M\n",
      "\u001b[32m[04/13 07:43:19 d2.utils.events]: \u001b[0m eta: 0:08:09  iter: 479  total_loss: 1.169  loss_cls: 0.387  loss_box_reg: 0.516  loss_mask: 0.202  loss_rpn_cls: 0.000  loss_rpn_loc: 0.024  time: 0.4740  data_time: 0.0018  lr: 0.000120  max_mem: 3781M\n",
      "\u001b[32m[04/13 07:43:29 d2.utils.events]: \u001b[0m eta: 0:07:59  iter: 499  total_loss: 1.192  loss_cls: 0.403  loss_box_reg: 0.516  loss_mask: 0.225  loss_rpn_cls: 0.000  loss_rpn_loc: 0.013  time: 0.4743  data_time: 0.0019  lr: 0.000125  max_mem: 3781M\n",
      "\u001b[32m[04/13 07:43:38 d2.utils.events]: \u001b[0m eta: 0:07:50  iter: 519  total_loss: 0.958  loss_cls: 0.280  loss_box_reg: 0.368  loss_mask: 0.199  loss_rpn_cls: 0.000  loss_rpn_loc: 0.016  time: 0.4743  data_time: 0.0019  lr: 0.000130  max_mem: 3781M\n",
      "\u001b[32m[04/13 07:43:48 d2.utils.events]: \u001b[0m eta: 0:07:40  iter: 539  total_loss: 1.167  loss_cls: 0.359  loss_box_reg: 0.467  loss_mask: 0.242  loss_rpn_cls: 0.000  loss_rpn_loc: 0.015  time: 0.4737  data_time: 0.0018  lr: 0.000135  max_mem: 3781M\n",
      "\u001b[32m[04/13 07:43:58 d2.utils.events]: \u001b[0m eta: 0:07:32  iter: 559  total_loss: 0.909  loss_cls: 0.311  loss_box_reg: 0.413  loss_mask: 0.185  loss_rpn_cls: 0.000  loss_rpn_loc: 0.012  time: 0.4747  data_time: 0.0019  lr: 0.000140  max_mem: 3781M\n",
      "\u001b[32m[04/13 07:44:07 d2.utils.events]: \u001b[0m eta: 0:07:20  iter: 579  total_loss: 0.701  loss_cls: 0.251  loss_box_reg: 0.268  loss_mask: 0.177  loss_rpn_cls: 0.000  loss_rpn_loc: 0.013  time: 0.4737  data_time: 0.0017  lr: 0.000145  max_mem: 3781M\n",
      "\u001b[32m[04/13 07:44:16 d2.utils.events]: \u001b[0m eta: 0:07:09  iter: 599  total_loss: 1.077  loss_cls: 0.392  loss_box_reg: 0.368  loss_mask: 0.193  loss_rpn_cls: 0.000  loss_rpn_loc: 0.012  time: 0.4729  data_time: 0.0017  lr: 0.000150  max_mem: 3781M\n",
      "\u001b[32m[04/13 07:44:25 d2.utils.events]: \u001b[0m eta: 0:07:01  iter: 619  total_loss: 0.810  loss_cls: 0.254  loss_box_reg: 0.311  loss_mask: 0.167  loss_rpn_cls: 0.000  loss_rpn_loc: 0.012  time: 0.4730  data_time: 0.0017  lr: 0.000155  max_mem: 3781M\n",
      "\u001b[32m[04/13 07:44:35 d2.utils.events]: \u001b[0m eta: 0:06:53  iter: 639  total_loss: 0.890  loss_cls: 0.304  loss_box_reg: 0.355  loss_mask: 0.157  loss_rpn_cls: 0.000  loss_rpn_loc: 0.011  time: 0.4739  data_time: 0.0017  lr: 0.000160  max_mem: 3781M\n",
      "\u001b[32m[04/13 07:44:45 d2.utils.events]: \u001b[0m eta: 0:06:43  iter: 659  total_loss: 0.929  loss_cls: 0.214  loss_box_reg: 0.355  loss_mask: 0.240  loss_rpn_cls: 0.000  loss_rpn_loc: 0.014  time: 0.4741  data_time: 0.0019  lr: 0.000165  max_mem: 3781M\n",
      "\u001b[32m[04/13 07:44:54 d2.utils.events]: \u001b[0m eta: 0:06:33  iter: 679  total_loss: 0.742  loss_cls: 0.267  loss_box_reg: 0.319  loss_mask: 0.182  loss_rpn_cls: 0.000  loss_rpn_loc: 0.014  time: 0.4738  data_time: 0.0020  lr: 0.000170  max_mem: 3781M\n",
      "\u001b[32m[04/13 07:45:04 d2.utils.events]: \u001b[0m eta: 0:06:24  iter: 699  total_loss: 0.785  loss_cls: 0.252  loss_box_reg: 0.274  loss_mask: 0.143  loss_rpn_cls: 0.000  loss_rpn_loc: 0.016  time: 0.4734  data_time: 0.0018  lr: 0.000175  max_mem: 3781M\n",
      "\u001b[32m[04/13 07:45:14 d2.utils.events]: \u001b[0m eta: 0:06:14  iter: 719  total_loss: 0.733  loss_cls: 0.235  loss_box_reg: 0.285  loss_mask: 0.154  loss_rpn_cls: 0.000  loss_rpn_loc: 0.014  time: 0.4742  data_time: 0.0018  lr: 0.000180  max_mem: 3781M\n",
      "\u001b[32m[04/13 07:45:23 d2.utils.events]: \u001b[0m eta: 0:06:05  iter: 739  total_loss: 0.604  loss_cls: 0.197  loss_box_reg: 0.193  loss_mask: 0.130  loss_rpn_cls: 0.000  loss_rpn_loc: 0.014  time: 0.4740  data_time: 0.0018  lr: 0.000185  max_mem: 3781M\n",
      "\u001b[32m[04/13 07:45:33 d2.utils.events]: \u001b[0m eta: 0:05:55  iter: 759  total_loss: 0.614  loss_cls: 0.166  loss_box_reg: 0.283  loss_mask: 0.134  loss_rpn_cls: 0.000  loss_rpn_loc: 0.014  time: 0.4738  data_time: 0.0018  lr: 0.000190  max_mem: 3781M\n",
      "\u001b[32m[04/13 07:45:43 d2.utils.events]: \u001b[0m eta: 0:05:46  iter: 779  total_loss: 0.751  loss_cls: 0.202  loss_box_reg: 0.301  loss_mask: 0.148  loss_rpn_cls: 0.000  loss_rpn_loc: 0.013  time: 0.4748  data_time: 0.0018  lr: 0.000195  max_mem: 3781M\n",
      "\u001b[32m[04/13 07:45:53 d2.utils.events]: \u001b[0m eta: 0:05:37  iter: 799  total_loss: 0.649  loss_cls: 0.218  loss_box_reg: 0.214  loss_mask: 0.133  loss_rpn_cls: 0.000  loss_rpn_loc: 0.011  time: 0.4749  data_time: 0.0017  lr: 0.000200  max_mem: 3781M\n",
      "\u001b[32m[04/13 07:46:02 d2.utils.events]: \u001b[0m eta: 0:05:27  iter: 819  total_loss: 0.648  loss_cls: 0.224  loss_box_reg: 0.270  loss_mask: 0.136  loss_rpn_cls: 0.000  loss_rpn_loc: 0.015  time: 0.4749  data_time: 0.0018  lr: 0.000205  max_mem: 3781M\n",
      "\u001b[32m[04/13 07:46:12 d2.utils.events]: \u001b[0m eta: 0:05:18  iter: 839  total_loss: 0.620  loss_cls: 0.155  loss_box_reg: 0.251  loss_mask: 0.116  loss_rpn_cls: 0.000  loss_rpn_loc: 0.013  time: 0.4758  data_time: 0.0017  lr: 0.000210  max_mem: 3781M\n",
      "\u001b[32m[04/13 07:46:22 d2.utils.events]: \u001b[0m eta: 0:05:09  iter: 859  total_loss: 0.527  loss_cls: 0.170  loss_box_reg: 0.226  loss_mask: 0.136  loss_rpn_cls: 0.000  loss_rpn_loc: 0.015  time: 0.4760  data_time: 0.0018  lr: 0.000215  max_mem: 3781M\n",
      "\u001b[32m[04/13 07:46:32 d2.utils.events]: \u001b[0m eta: 0:04:59  iter: 879  total_loss: 0.494  loss_cls: 0.131  loss_box_reg: 0.225  loss_mask: 0.120  loss_rpn_cls: 0.000  loss_rpn_loc: 0.010  time: 0.4765  data_time: 0.0019  lr: 0.000220  max_mem: 3781M\n",
      "\u001b[32m[04/13 07:46:42 d2.utils.events]: \u001b[0m eta: 0:04:50  iter: 899  total_loss: 0.576  loss_cls: 0.192  loss_box_reg: 0.217  loss_mask: 0.147  loss_rpn_cls: 0.000  loss_rpn_loc: 0.009  time: 0.4770  data_time: 0.0019  lr: 0.000225  max_mem: 3781M\n",
      "\u001b[32m[04/13 07:46:51 d2.utils.events]: \u001b[0m eta: 0:04:40  iter: 919  total_loss: 0.572  loss_cls: 0.140  loss_box_reg: 0.240  loss_mask: 0.127  loss_rpn_cls: 0.000  loss_rpn_loc: 0.012  time: 0.4766  data_time: 0.0017  lr: 0.000230  max_mem: 3781M\n",
      "\u001b[32m[04/13 07:47:01 d2.utils.events]: \u001b[0m eta: 0:04:30  iter: 939  total_loss: 0.593  loss_cls: 0.160  loss_box_reg: 0.221  loss_mask: 0.140  loss_rpn_cls: 0.000  loss_rpn_loc: 0.012  time: 0.4769  data_time: 0.0019  lr: 0.000235  max_mem: 3781M\n",
      "\u001b[32m[04/13 07:47:11 d2.utils.events]: \u001b[0m eta: 0:04:21  iter: 959  total_loss: 0.536  loss_cls: 0.094  loss_box_reg: 0.211  loss_mask: 0.132  loss_rpn_cls: 0.000  loss_rpn_loc: 0.010  time: 0.4771  data_time: 0.0018  lr: 0.000240  max_mem: 3781M\n",
      "\u001b[32m[04/13 07:47:21 d2.utils.events]: \u001b[0m eta: 0:04:12  iter: 979  total_loss: 0.567  loss_cls: 0.158  loss_box_reg: 0.276  loss_mask: 0.094  loss_rpn_cls: 0.000  loss_rpn_loc: 0.013  time: 0.4772  data_time: 0.0018  lr: 0.000245  max_mem: 3781M\n",
      "\u001b[32m[04/13 07:47:30 d2.utils.events]: \u001b[0m eta: 0:04:02  iter: 999  total_loss: 0.541  loss_cls: 0.149  loss_box_reg: 0.258  loss_mask: 0.126  loss_rpn_cls: 0.000  loss_rpn_loc: 0.011  time: 0.4771  data_time: 0.0015  lr: 0.000250  max_mem: 3781M\n",
      "\u001b[32m[04/13 07:47:39 d2.utils.events]: \u001b[0m eta: 0:03:52  iter: 1019  total_loss: 0.397  loss_cls: 0.070  loss_box_reg: 0.139  loss_mask: 0.101  loss_rpn_cls: 0.000  loss_rpn_loc: 0.008  time: 0.4765  data_time: 0.0017  lr: 0.000250  max_mem: 3781M\n",
      "\u001b[32m[04/13 07:47:49 d2.utils.events]: \u001b[0m eta: 0:03:43  iter: 1039  total_loss: 0.531  loss_cls: 0.105  loss_box_reg: 0.250  loss_mask: 0.149  loss_rpn_cls: 0.000  loss_rpn_loc: 0.008  time: 0.4765  data_time: 0.0017  lr: 0.000250  max_mem: 3781M\n",
      "\u001b[32m[04/13 07:47:58 d2.utils.events]: \u001b[0m eta: 0:03:33  iter: 1059  total_loss: 0.484  loss_cls: 0.092  loss_box_reg: 0.217  loss_mask: 0.119  loss_rpn_cls: 0.000  loss_rpn_loc: 0.012  time: 0.4764  data_time: 0.0019  lr: 0.000250  max_mem: 3781M\n",
      "\u001b[32m[04/13 07:48:08 d2.utils.events]: \u001b[0m eta: 0:03:23  iter: 1079  total_loss: 0.546  loss_cls: 0.149  loss_box_reg: 0.236  loss_mask: 0.141  loss_rpn_cls: 0.000  loss_rpn_loc: 0.011  time: 0.4763  data_time: 0.0018  lr: 0.000250  max_mem: 3781M\n",
      "\u001b[32m[04/13 07:48:18 d2.utils.events]: \u001b[0m eta: 0:03:14  iter: 1099  total_loss: 0.501  loss_cls: 0.106  loss_box_reg: 0.241  loss_mask: 0.125  loss_rpn_cls: 0.000  loss_rpn_loc: 0.016  time: 0.4767  data_time: 0.0018  lr: 0.000250  max_mem: 3781M\n",
      "\u001b[32m[04/13 07:48:27 d2.utils.events]: \u001b[0m eta: 0:03:04  iter: 1119  total_loss: 0.420  loss_cls: 0.086  loss_box_reg: 0.176  loss_mask: 0.115  loss_rpn_cls: 0.000  loss_rpn_loc: 0.008  time: 0.4763  data_time: 0.0017  lr: 0.000250  max_mem: 3781M\n",
      "\u001b[32m[04/13 07:48:36 d2.utils.events]: \u001b[0m eta: 0:02:54  iter: 1139  total_loss: 0.600  loss_cls: 0.101  loss_box_reg: 0.247  loss_mask: 0.142  loss_rpn_cls: 0.000  loss_rpn_loc: 0.008  time: 0.4761  data_time: 0.0019  lr: 0.000250  max_mem: 3781M\n",
      "\u001b[32m[04/13 07:48:46 d2.utils.events]: \u001b[0m eta: 0:02:45  iter: 1159  total_loss: 0.440  loss_cls: 0.071  loss_box_reg: 0.216  loss_mask: 0.126  loss_rpn_cls: 0.000  loss_rpn_loc: 0.014  time: 0.4759  data_time: 0.0020  lr: 0.000250  max_mem: 3781M\n",
      "\u001b[32m[04/13 07:48:56 d2.utils.events]: \u001b[0m eta: 0:02:35  iter: 1179  total_loss: 0.380  loss_cls: 0.066  loss_box_reg: 0.170  loss_mask: 0.110  loss_rpn_cls: 0.000  loss_rpn_loc: 0.008  time: 0.4761  data_time: 0.0018  lr: 0.000250  max_mem: 3781M\n",
      "\u001b[32m[04/13 07:49:05 d2.utils.events]: \u001b[0m eta: 0:02:25  iter: 1199  total_loss: 0.555  loss_cls: 0.154  loss_box_reg: 0.220  loss_mask: 0.130  loss_rpn_cls: 0.000  loss_rpn_loc: 0.011  time: 0.4759  data_time: 0.0016  lr: 0.000250  max_mem: 3781M\n",
      "\u001b[32m[04/13 07:49:15 d2.utils.events]: \u001b[0m eta: 0:02:16  iter: 1219  total_loss: 0.362  loss_cls: 0.080  loss_box_reg: 0.145  loss_mask: 0.109  loss_rpn_cls: 0.000  loss_rpn_loc: 0.010  time: 0.4763  data_time: 0.0018  lr: 0.000250  max_mem: 3781M\n",
      "\u001b[32m[04/13 07:49:24 d2.utils.events]: \u001b[0m eta: 0:02:06  iter: 1239  total_loss: 0.552  loss_cls: 0.105  loss_box_reg: 0.265  loss_mask: 0.122  loss_rpn_cls: 0.000  loss_rpn_loc: 0.009  time: 0.4763  data_time: 0.0019  lr: 0.000250  max_mem: 3781M\n",
      "\u001b[32m[04/13 07:49:34 d2.utils.events]: \u001b[0m eta: 0:01:56  iter: 1259  total_loss: 0.277  loss_cls: 0.071  loss_box_reg: 0.101  loss_mask: 0.092  loss_rpn_cls: 0.000  loss_rpn_loc: 0.008  time: 0.4763  data_time: 0.0019  lr: 0.000250  max_mem: 3781M\n",
      "\u001b[32m[04/13 07:49:43 d2.utils.events]: \u001b[0m eta: 0:01:46  iter: 1279  total_loss: 0.318  loss_cls: 0.067  loss_box_reg: 0.142  loss_mask: 0.088  loss_rpn_cls: 0.000  loss_rpn_loc: 0.008  time: 0.4760  data_time: 0.0018  lr: 0.000250  max_mem: 3781M\n",
      "\u001b[32m[04/13 07:49:52 d2.utils.events]: \u001b[0m eta: 0:01:37  iter: 1299  total_loss: 0.493  loss_cls: 0.083  loss_box_reg: 0.250  loss_mask: 0.124  loss_rpn_cls: 0.000  loss_rpn_loc: 0.010  time: 0.4755  data_time: 0.0017  lr: 0.000250  max_mem: 3781M\n",
      "\u001b[32m[04/13 07:50:02 d2.utils.events]: \u001b[0m eta: 0:01:27  iter: 1319  total_loss: 0.377  loss_cls: 0.071  loss_box_reg: 0.189  loss_mask: 0.110  loss_rpn_cls: 0.000  loss_rpn_loc: 0.008  time: 0.4755  data_time: 0.0018  lr: 0.000250  max_mem: 3781M\n",
      "\u001b[32m[04/13 07:50:11 d2.utils.events]: \u001b[0m eta: 0:01:17  iter: 1339  total_loss: 0.339  loss_cls: 0.051  loss_box_reg: 0.175  loss_mask: 0.090  loss_rpn_cls: 0.000  loss_rpn_loc: 0.008  time: 0.4755  data_time: 0.0019  lr: 0.000250  max_mem: 3781M\n",
      "\u001b[32m[04/13 07:50:20 d2.utils.events]: \u001b[0m eta: 0:01:08  iter: 1359  total_loss: 0.395  loss_cls: 0.057  loss_box_reg: 0.187  loss_mask: 0.113  loss_rpn_cls: 0.000  loss_rpn_loc: 0.007  time: 0.4752  data_time: 0.0019  lr: 0.000250  max_mem: 3781M\n",
      "\u001b[32m[04/13 07:50:30 d2.utils.events]: \u001b[0m eta: 0:00:58  iter: 1379  total_loss: 0.376  loss_cls: 0.055  loss_box_reg: 0.175  loss_mask: 0.104  loss_rpn_cls: 0.000  loss_rpn_loc: 0.013  time: 0.4752  data_time: 0.0016  lr: 0.000250  max_mem: 3781M\n",
      "\u001b[32m[04/13 07:50:39 d2.utils.events]: \u001b[0m eta: 0:00:48  iter: 1399  total_loss: 0.316  loss_cls: 0.065  loss_box_reg: 0.159  loss_mask: 0.104  loss_rpn_cls: 0.000  loss_rpn_loc: 0.008  time: 0.4750  data_time: 0.0015  lr: 0.000250  max_mem: 3781M\n",
      "\u001b[32m[04/13 07:50:49 d2.utils.events]: \u001b[0m eta: 0:00:39  iter: 1419  total_loss: 0.468  loss_cls: 0.095  loss_box_reg: 0.226  loss_mask: 0.127  loss_rpn_cls: 0.000  loss_rpn_loc: 0.009  time: 0.4750  data_time: 0.0017  lr: 0.000250  max_mem: 3781M\n",
      "\u001b[32m[04/13 07:50:59 d2.utils.events]: \u001b[0m eta: 0:00:29  iter: 1439  total_loss: 0.417  loss_cls: 0.081  loss_box_reg: 0.173  loss_mask: 0.117  loss_rpn_cls: 0.000  loss_rpn_loc: 0.009  time: 0.4753  data_time: 0.0016  lr: 0.000250  max_mem: 3781M\n",
      "\u001b[32m[04/13 07:51:09 d2.utils.events]: \u001b[0m eta: 0:00:19  iter: 1459  total_loss: 0.371  loss_cls: 0.058  loss_box_reg: 0.175  loss_mask: 0.087  loss_rpn_cls: 0.000  loss_rpn_loc: 0.012  time: 0.4755  data_time: 0.0017  lr: 0.000250  max_mem: 3781M\n",
      "\u001b[32m[04/13 07:51:18 d2.utils.events]: \u001b[0m eta: 0:00:10  iter: 1479  total_loss: 0.333  loss_cls: 0.061  loss_box_reg: 0.170  loss_mask: 0.100  loss_rpn_cls: 0.000  loss_rpn_loc: 0.008  time: 0.4751  data_time: 0.0018  lr: 0.000250  max_mem: 3781M\n",
      "\u001b[32m[04/13 07:51:36 d2.utils.events]: \u001b[0m eta: 0:00:00  iter: 1499  total_loss: 0.318  loss_cls: 0.051  loss_box_reg: 0.167  loss_mask: 0.091  loss_rpn_cls: 0.000  loss_rpn_loc: 0.010  time: 0.4752  data_time: 0.0019  lr: 0.000250  max_mem: 3781M\n",
      "\u001b[32m[04/13 07:51:36 d2.engine.hooks]: \u001b[0mOverall training speed: 1497 iterations in 0:11:51 (0.4756 s / it)\n",
      "\u001b[32m[04/13 07:51:36 d2.engine.hooks]: \u001b[0mTotal training time: 0:12:04 (0:00:12 on hooks)\n"
     ]
    }
   ],
   "source": [
    "# 出力先のディレクトリを作る\n",
    "os.makedirs(cfg.OUTPUT_DIR, exist_ok=True)\n",
    "\n",
    "trainer = MachikadoTrainer(cfg) \n",
    "trainer.resume_or_load(resume=False) # True で途中から学習できるらしい\n",
    "trainer.train()"
   ]
  },
  {
   "cell_type": "code",
   "execution_count": null,
   "metadata": {},
   "outputs": [],
   "source": []
  },
  {
   "cell_type": "code",
   "execution_count": null,
   "metadata": {},
   "outputs": [],
   "source": []
  }
 ],
 "metadata": {
  "kernelspec": {
   "display_name": "Python 3",
   "language": "python",
   "name": "python3"
  },
  "language_info": {
   "codemirror_mode": {
    "name": "ipython",
    "version": 3
   },
   "file_extension": ".py",
   "mimetype": "text/x-python",
   "name": "python",
   "nbconvert_exporter": "python",
   "pygments_lexer": "ipython3",
   "version": "3.7.4"
  }
 },
 "nbformat": 4,
 "nbformat_minor": 4
}
