{
 "cells": [
  {
   "cell_type": "markdown",
   "metadata": {},
   "source": [
    "# 続・detectron2 for まちカドまぞく ～訓練編～\n",
    "\n",
    "<img src=\"https://user-images.githubusercontent.com/33882378/79055210-2ff0e600-7c86-11ea-93c6-8a65112f80f0.jpg\">\n",
    "\n",
    "detectron2 の訓練をカスタマイズする方法\n",
    "\n",
    "---"
   ]
  },
  {
   "cell_type": "code",
   "execution_count": 1,
   "metadata": {},
   "outputs": [],
   "source": [
    "import os\n",
    "import numpy as np\n",
    "import json\n",
    "import matplotlib.pyplot as plt\n",
    "import cv2\n",
    "import random"
   ]
  },
  {
   "cell_type": "code",
   "execution_count": 2,
   "metadata": {},
   "outputs": [],
   "source": [
    "# VoTT のエクスポートファイルや、画像が格納されているディレクトリ\n",
    "BASE_DIRECTORY = './vott-json-export/'\n",
    "# VoTT のエクスポートファイル名\n",
    "EXPORT_FILENAME = 'Machikado-export.json'\n",
    "# 訓練データに使用する割合\n",
    "TRAIN_RATIO = 0.8\n",
    "# 乱数シード\n",
    "RANDOM_STATE = 0"
   ]
  },
  {
   "cell_type": "markdown",
   "metadata": {},
   "source": [
    "### DatasetCatalogを用意する"
   ]
  },
  {
   "cell_type": "code",
   "execution_count": 3,
   "metadata": {},
   "outputs": [
    {
     "name": "stdout",
     "output_type": "stream",
     "text": [
      "警告: name: 59.jpg - 画像サイズの不整合 image_size:(268, 201), ./vott-json-export/Machikado-export.json: (600, 600)\n"
     ]
    },
    {
     "data": {
      "text/plain": [
       "Metadata(name='test', thing_classes=['Shamiko', 'Gosenzo', 'Lilith', 'Momo', 'Mikan', 'Mob'])"
      ]
     },
     "execution_count": 3,
     "metadata": {},
     "output_type": "execute_result"
    }
   ],
   "source": [
    "from detectron2.data import DatasetCatalog, MetadataCatalog\n",
    "from Machikado_vott import get_cat_names, get_machikado_dicts\n",
    "\n",
    "# vott エクスポートファイルの読み込み\n",
    "CAT_NAME2ID, CAT_ID2NAME = get_cat_names(os.path.join(BASE_DIRECTORY, EXPORT_FILENAME))\n",
    "dataset_dicts = get_machikado_dicts(os.path.join(BASE_DIRECTORY, EXPORT_FILENAME), BASE_DIRECTORY, CAT_NAME2ID)\n",
    "\n",
    "# 訓練用、テスト用に分ける\n",
    "random.seed(RANDOM_STATE)\n",
    "random.shuffle(dataset_dicts)\n",
    "\n",
    "split_idx = int(len(dataset_dicts) * TRAIN_RATIO) + 1\n",
    "\n",
    "# 登録\n",
    "DatasetCatalog.clear()\n",
    "DatasetCatalog.register('train', lambda : dataset_dicts[:split_idx])\n",
    "DatasetCatalog.register('test', lambda : dataset_dicts[split_idx:])\n",
    "\n",
    "MetadataCatalog.get('train').set(thing_classes=list(CAT_NAME2ID.keys()))\n",
    "MetadataCatalog.get('test').set(thing_classes=list(CAT_NAME2ID.keys()))"
   ]
  },
  {
   "cell_type": "code",
   "execution_count": 4,
   "metadata": {},
   "outputs": [],
   "source": [
    "from detectron2.data import DatasetCatalog\n",
    "\n",
    "# 訓練用、テスト用に分ける\n",
    "random.seed(RANDOM_STATE)\n",
    "random.shuffle(dataset_dicts)\n",
    "split_idx = int(len(dataset_dicts) * TRAIN_RATIO) + 1\n",
    "\n",
    "# 登録\n",
    "DatasetCatalog.clear()\n",
    "DatasetCatalog.register('train', lambda : dataset_dicts[:split_idx])\n",
    "DatasetCatalog.register('test', lambda : dataset_dicts[split_idx:])"
   ]
  },
  {
   "cell_type": "markdown",
   "metadata": {},
   "source": [
    "---\n",
    "## 学習"
   ]
  },
  {
   "cell_type": "code",
   "execution_count": 5,
   "metadata": {},
   "outputs": [],
   "source": [
    "from detectron2.config import get_cfg\n",
    "from MachikadoDatasetMapper import get_custom_cfg\n",
    "\n",
    "cfg = get_cfg()\n",
    "cfg.OUTPUT_DIR = './output'\n",
    "cfg.CUDA = 'cuda:0'\n",
    "\n",
    "# cfg.merge_from_file(\"../configs/COCO-InstanceSegmentation/mask_rcnn_R_50_FPN_3x.yaml\")\n",
    "# cfg.MODEL.WEIGHTS = './coco_models/model_final_f10217.pkl'\n",
    "# cfg.SOLVER.IMS_PER_BATCH = 2\n",
    "\n",
    "# 重いけど、これ精度良いです。\n",
    "cfg.merge_from_file('../configs/COCO-InstanceSegmentation/mask_rcnn_X_101_32x8d_FPN_3x.yaml')\n",
    "cfg.MODEL.WEIGHTS = './coco_models/model_final_2d9806.pkl'\n",
    "cfg.SOLVER.IMS_PER_BATCH = 1 # GTX2070 ではこれが限界\n",
    "\n",
    "cfg.DATASETS.TRAIN = ('train',)\n",
    "cfg.DATASETS.TEST = ()   # no metrics implemented for this dataset\n",
    "cfg.DATALOADER.NUM_WORKERS = 2\n",
    "cfg.SOLVER.BASE_LR = 0.00025\n",
    "cfg.SOLVER.MAX_ITER = 1500    # 300 iterations seems good enough, but you can certainly train longer <- とあるが、まあデータセットによるよね・・・\n",
    "cfg.MODEL.ROI_HEADS.BATCH_SIZE_PER_IMAGE = 128   # faster, and good enough for this toy dataset\n",
    "cfg.MODEL.ROI_HEADS.NUM_CLASSES = len(CAT_ID2NAME) \n",
    "\n",
    "cfg.INPUT.CROP.ENABLED = True\n",
    "cfg.INPUT.CROP.SIZE = [0.8, 0.8]\n",
    "\n",
    "custom_cfg = get_custom_cfg()"
   ]
  },
  {
   "cell_type": "code",
   "execution_count": 6,
   "metadata": {},
   "outputs": [],
   "source": [
    "from MachikadoDatasetMapper import MachikadoDatasetMapper\n",
    "from detectron2.engine import DefaultTrainer\n",
    "\n",
    "from detectron2.data import (\n",
    "    build_detection_test_loader,\n",
    "    build_detection_train_loader,\n",
    ")\n",
    "\n",
    "class MachikadoTrainer(DefaultTrainer):\n",
    "    def __init__(self, cfg):\n",
    "        super().__init__(cfg)\n",
    "        \n",
    "    @classmethod\n",
    "    def build_train_loader(cls, cfg):\n",
    "        return build_detection_train_loader(cfg, MachikadoDatasetMapper(cfg, custom_cfg=custom_cfg))"
   ]
  },
  {
   "cell_type": "code",
   "execution_count": 7,
   "metadata": {},
   "outputs": [
    {
     "name": "stdout",
     "output_type": "stream",
     "text": [
      "\u001b[32m[04/13 07:15:05 d2.data.detection_utils]: \u001b[0mTransformGens used in training: [ResizeShortestEdge(short_edge_length=(640, 672, 704, 736, 768, 800), max_size=1333, sample_style='choice'), RandomFlip()]\n",
      "\u001b[32m[04/13 07:15:05 d2.data.build]: \u001b[0mRemoved 0 images with no usable annotations. 57 images left.\n",
      "\u001b[32m[04/13 07:15:05 d2.data.build]: \u001b[0mDistribution of instances among all 6 categories:\n",
      "\u001b[36m|  category  | #instances   |  category  | #instances   |  category  | #instances   |\n",
      "|:----------:|:-------------|:----------:|:-------------|:----------:|:-------------|\n",
      "|  Shamiko   | 38           |  Gosenzo   | 20           |   Lilith   | 10           |\n",
      "|    Momo    | 20           |   Mikan    | 8            |    Mob     | 8            |\n",
      "|            |              |            |              |            |              |\n",
      "|   total    | 104          |            |              |            |              |\u001b[0m\n",
      "\u001b[32m[04/13 07:15:05 d2.data.common]: \u001b[0mSerializing 57 elements to byte tensors and concatenating them all ...\n",
      "\u001b[32m[04/13 07:15:05 d2.data.common]: \u001b[0mSerialized dataset takes 0.12 MiB\n",
      "\u001b[32m[04/13 07:15:05 d2.data.build]: \u001b[0mUsing training sampler TrainingSampler\n"
     ]
    },
    {
     "name": "stderr",
     "output_type": "stream",
     "text": [
      "'roi_heads.box_predictor.cls_score.weight' has shape (81, 1024) in the checkpoint but (7, 1024) in the model! Skipped.\n",
      "'roi_heads.box_predictor.cls_score.bias' has shape (81,) in the checkpoint but (7,) in the model! Skipped.\n",
      "'roi_heads.box_predictor.bbox_pred.weight' has shape (320, 1024) in the checkpoint but (24, 1024) in the model! Skipped.\n",
      "'roi_heads.box_predictor.bbox_pred.bias' has shape (320,) in the checkpoint but (24,) in the model! Skipped.\n",
      "'roi_heads.mask_head.predictor.weight' has shape (80, 256, 1, 1) in the checkpoint but (6, 256, 1, 1) in the model! Skipped.\n",
      "'roi_heads.mask_head.predictor.bias' has shape (80,) in the checkpoint but (6,) in the model! Skipped.\n"
     ]
    },
    {
     "name": "stdout",
     "output_type": "stream",
     "text": [
      "\u001b[32m[04/13 07:15:06 d2.engine.train_loop]: \u001b[0mStarting training from iteration 0\n",
      "\u001b[32m[04/13 07:15:16 d2.utils.events]: \u001b[0m eta: 0:12:24  iter: 19  total_loss: 3.724  loss_cls: 2.180  loss_box_reg: 0.711  loss_mask: 0.692  loss_rpn_cls: 0.005  loss_rpn_loc: 0.022  time: 0.4927  data_time: 0.0054  lr: 0.000005  max_mem: 3709M\n",
      "\u001b[32m[04/13 07:15:25 d2.utils.events]: \u001b[0m eta: 0:12:03  iter: 39  total_loss: 3.209  loss_cls: 1.983  loss_box_reg: 0.439  loss_mask: 0.690  loss_rpn_cls: 0.002  loss_rpn_loc: 0.017  time: 0.4737  data_time: 0.0018  lr: 0.000010  max_mem: 3709M\n",
      "\u001b[32m[04/13 07:15:35 d2.utils.events]: \u001b[0m eta: 0:11:34  iter: 59  total_loss: 3.239  loss_cls: 1.705  loss_box_reg: 0.711  loss_mask: 0.689  loss_rpn_cls: 0.001  loss_rpn_loc: 0.015  time: 0.4744  data_time: 0.0018  lr: 0.000015  max_mem: 3709M\n",
      "\u001b[32m[04/13 07:15:44 d2.utils.events]: \u001b[0m eta: 0:11:24  iter: 79  total_loss: 2.636  loss_cls: 1.281  loss_box_reg: 0.664  loss_mask: 0.686  loss_rpn_cls: 0.004  loss_rpn_loc: 0.018  time: 0.4763  data_time: 0.0017  lr: 0.000020  max_mem: 3778M\n",
      "\u001b[32m[04/13 07:15:54 d2.utils.events]: \u001b[0m eta: 0:11:21  iter: 99  total_loss: 2.342  loss_cls: 0.885  loss_box_reg: 0.644  loss_mask: 0.680  loss_rpn_cls: 0.006  loss_rpn_loc: 0.021  time: 0.4755  data_time: 0.0019  lr: 0.000025  max_mem: 3778M\n",
      "\u001b[32m[04/13 07:16:03 d2.utils.events]: \u001b[0m eta: 0:10:58  iter: 119  total_loss: 2.188  loss_cls: 0.656  loss_box_reg: 0.655  loss_mask: 0.681  loss_rpn_cls: 0.005  loss_rpn_loc: 0.022  time: 0.4730  data_time: 0.0019  lr: 0.000030  max_mem: 3778M\n",
      "\u001b[32m[04/13 07:16:13 d2.utils.events]: \u001b[0m eta: 0:10:48  iter: 139  total_loss: 2.144  loss_cls: 0.678  loss_box_reg: 0.777  loss_mask: 0.655  loss_rpn_cls: 0.004  loss_rpn_loc: 0.021  time: 0.4726  data_time: 0.0019  lr: 0.000035  max_mem: 3778M\n",
      "\u001b[32m[04/13 07:16:22 d2.utils.events]: \u001b[0m eta: 0:10:40  iter: 159  total_loss: 1.805  loss_cls: 0.505  loss_box_reg: 0.512  loss_mask: 0.658  loss_rpn_cls: 0.008  loss_rpn_loc: 0.019  time: 0.4742  data_time: 0.0018  lr: 0.000040  max_mem: 3778M\n",
      "\u001b[32m[04/13 07:16:32 d2.utils.events]: \u001b[0m eta: 0:10:36  iter: 179  total_loss: 2.121  loss_cls: 0.599  loss_box_reg: 0.841  loss_mask: 0.651  loss_rpn_cls: 0.010  loss_rpn_loc: 0.015  time: 0.4754  data_time: 0.0018  lr: 0.000045  max_mem: 3778M\n",
      "\u001b[32m[04/13 07:16:42 d2.utils.events]: \u001b[0m eta: 0:10:27  iter: 199  total_loss: 1.479  loss_cls: 0.376  loss_box_reg: 0.486  loss_mask: 0.613  loss_rpn_cls: 0.001  loss_rpn_loc: 0.013  time: 0.4758  data_time: 0.0018  lr: 0.000050  max_mem: 3778M\n",
      "\u001b[32m[04/13 07:16:52 d2.utils.events]: \u001b[0m eta: 0:10:21  iter: 219  total_loss: 2.152  loss_cls: 0.627  loss_box_reg: 0.735  loss_mask: 0.614  loss_rpn_cls: 0.018  loss_rpn_loc: 0.023  time: 0.4772  data_time: 0.0018  lr: 0.000055  max_mem: 3778M\n",
      "\u001b[32m[04/13 07:17:01 d2.utils.events]: \u001b[0m eta: 0:10:07  iter: 239  total_loss: 1.582  loss_cls: 0.285  loss_box_reg: 0.422  loss_mask: 0.584  loss_rpn_cls: 0.001  loss_rpn_loc: 0.024  time: 0.4756  data_time: 0.0018  lr: 0.000060  max_mem: 3778M\n",
      "\u001b[32m[04/13 07:17:10 d2.utils.events]: \u001b[0m eta: 0:09:56  iter: 259  total_loss: 1.884  loss_cls: 0.484  loss_box_reg: 0.644  loss_mask: 0.548  loss_rpn_cls: 0.002  loss_rpn_loc: 0.015  time: 0.4755  data_time: 0.0020  lr: 0.000065  max_mem: 3778M\n",
      "\u001b[32m[04/13 07:17:20 d2.utils.events]: \u001b[0m eta: 0:09:45  iter: 279  total_loss: 1.755  loss_cls: 0.498  loss_box_reg: 0.662  loss_mask: 0.577  loss_rpn_cls: 0.001  loss_rpn_loc: 0.017  time: 0.4754  data_time: 0.0018  lr: 0.000070  max_mem: 3778M\n",
      "\u001b[32m[04/13 07:17:30 d2.utils.events]: \u001b[0m eta: 0:09:37  iter: 299  total_loss: 1.653  loss_cls: 0.450  loss_box_reg: 0.705  loss_mask: 0.561  loss_rpn_cls: 0.002  loss_rpn_loc: 0.022  time: 0.4766  data_time: 0.0017  lr: 0.000075  max_mem: 3778M\n",
      "\u001b[32m[04/13 07:17:39 d2.utils.events]: \u001b[0m eta: 0:09:29  iter: 319  total_loss: 1.863  loss_cls: 0.450  loss_box_reg: 0.846  loss_mask: 0.538  loss_rpn_cls: 0.002  loss_rpn_loc: 0.017  time: 0.4761  data_time: 0.0019  lr: 0.000080  max_mem: 3778M\n",
      "\u001b[32m[04/13 07:17:49 d2.utils.events]: \u001b[0m eta: 0:09:20  iter: 339  total_loss: 1.545  loss_cls: 0.389  loss_box_reg: 0.547  loss_mask: 0.516  loss_rpn_cls: 0.003  loss_rpn_loc: 0.015  time: 0.4765  data_time: 0.0019  lr: 0.000085  max_mem: 3778M\n",
      "\u001b[32m[04/13 07:17:59 d2.utils.events]: \u001b[0m eta: 0:09:13  iter: 359  total_loss: 1.353  loss_cls: 0.287  loss_box_reg: 0.470  loss_mask: 0.549  loss_rpn_cls: 0.001  loss_rpn_loc: 0.018  time: 0.4773  data_time: 0.0019  lr: 0.000090  max_mem: 3778M\n",
      "\u001b[32m[04/13 07:18:08 d2.utils.events]: \u001b[0m eta: 0:09:01  iter: 379  total_loss: 1.749  loss_cls: 0.412  loss_box_reg: 0.585  loss_mask: 0.490  loss_rpn_cls: 0.001  loss_rpn_loc: 0.027  time: 0.4769  data_time: 0.0019  lr: 0.000095  max_mem: 3778M\n",
      "\u001b[32m[04/13 07:18:18 d2.utils.events]: \u001b[0m eta: 0:08:50  iter: 399  total_loss: 1.763  loss_cls: 0.468  loss_box_reg: 0.772  loss_mask: 0.493  loss_rpn_cls: 0.005  loss_rpn_loc: 0.021  time: 0.4767  data_time: 0.0018  lr: 0.000100  max_mem: 3778M\n",
      "\u001b[32m[04/13 07:18:27 d2.utils.events]: \u001b[0m eta: 0:08:38  iter: 419  total_loss: 1.345  loss_cls: 0.299  loss_box_reg: 0.586  loss_mask: 0.479  loss_rpn_cls: 0.001  loss_rpn_loc: 0.020  time: 0.4760  data_time: 0.0018  lr: 0.000105  max_mem: 3778M\n",
      "\u001b[32m[04/13 07:18:37 d2.utils.events]: \u001b[0m eta: 0:08:28  iter: 439  total_loss: 1.693  loss_cls: 0.441  loss_box_reg: 0.739  loss_mask: 0.490  loss_rpn_cls: 0.002  loss_rpn_loc: 0.018  time: 0.4764  data_time: 0.0019  lr: 0.000110  max_mem: 3778M\n",
      "\u001b[32m[04/13 07:18:46 d2.utils.events]: \u001b[0m eta: 0:08:18  iter: 459  total_loss: 1.643  loss_cls: 0.416  loss_box_reg: 0.696  loss_mask: 0.478  loss_rpn_cls: 0.001  loss_rpn_loc: 0.021  time: 0.4760  data_time: 0.0016  lr: 0.000115  max_mem: 3778M\n",
      "\u001b[32m[04/13 07:18:56 d2.utils.events]: \u001b[0m eta: 0:08:08  iter: 479  total_loss: 1.566  loss_cls: 0.398  loss_box_reg: 0.690  loss_mask: 0.413  loss_rpn_cls: 0.004  loss_rpn_loc: 0.013  time: 0.4763  data_time: 0.0017  lr: 0.000120  max_mem: 3778M\n",
      "\u001b[32m[04/13 07:19:05 d2.utils.events]: \u001b[0m eta: 0:07:58  iter: 499  total_loss: 1.551  loss_cls: 0.423  loss_box_reg: 0.619  loss_mask: 0.502  loss_rpn_cls: 0.002  loss_rpn_loc: 0.019  time: 0.4749  data_time: 0.0016  lr: 0.000125  max_mem: 3778M\n",
      "\u001b[32m[04/13 07:19:15 d2.utils.events]: \u001b[0m eta: 0:07:49  iter: 519  total_loss: 1.292  loss_cls: 0.368  loss_box_reg: 0.529  loss_mask: 0.448  loss_rpn_cls: 0.001  loss_rpn_loc: 0.026  time: 0.4757  data_time: 0.0018  lr: 0.000130  max_mem: 3778M\n",
      "\u001b[32m[04/13 07:19:24 d2.utils.events]: \u001b[0m eta: 0:07:39  iter: 539  total_loss: 1.379  loss_cls: 0.413  loss_box_reg: 0.545  loss_mask: 0.384  loss_rpn_cls: 0.004  loss_rpn_loc: 0.023  time: 0.4755  data_time: 0.0017  lr: 0.000135  max_mem: 3778M\n",
      "\u001b[32m[04/13 07:19:34 d2.utils.events]: \u001b[0m eta: 0:07:30  iter: 559  total_loss: 1.246  loss_cls: 0.355  loss_box_reg: 0.466  loss_mask: 0.421  loss_rpn_cls: 0.001  loss_rpn_loc: 0.014  time: 0.4751  data_time: 0.0018  lr: 0.000140  max_mem: 3778M\n",
      "\u001b[32m[04/13 07:19:43 d2.utils.events]: \u001b[0m eta: 0:07:20  iter: 579  total_loss: 1.470  loss_cls: 0.310  loss_box_reg: 0.653  loss_mask: 0.500  loss_rpn_cls: 0.000  loss_rpn_loc: 0.024  time: 0.4747  data_time: 0.0017  lr: 0.000145  max_mem: 3778M\n",
      "\u001b[32m[04/13 07:19:52 d2.utils.events]: \u001b[0m eta: 0:07:11  iter: 599  total_loss: 1.329  loss_cls: 0.360  loss_box_reg: 0.477  loss_mask: 0.403  loss_rpn_cls: 0.000  loss_rpn_loc: 0.017  time: 0.4745  data_time: 0.0017  lr: 0.000150  max_mem: 3778M\n",
      "\u001b[32m[04/13 07:20:02 d2.utils.events]: \u001b[0m eta: 0:07:01  iter: 619  total_loss: 1.432  loss_cls: 0.302  loss_box_reg: 0.417  loss_mask: 0.466  loss_rpn_cls: 0.001  loss_rpn_loc: 0.015  time: 0.4740  data_time: 0.0019  lr: 0.000155  max_mem: 3778M\n",
      "\u001b[32m[04/13 07:20:11 d2.utils.events]: \u001b[0m eta: 0:06:51  iter: 639  total_loss: 1.346  loss_cls: 0.316  loss_box_reg: 0.577  loss_mask: 0.415  loss_rpn_cls: 0.001  loss_rpn_loc: 0.012  time: 0.4736  data_time: 0.0018  lr: 0.000160  max_mem: 3778M\n",
      "\u001b[32m[04/13 07:20:20 d2.utils.events]: \u001b[0m eta: 0:06:41  iter: 659  total_loss: 1.162  loss_cls: 0.257  loss_box_reg: 0.377  loss_mask: 0.357  loss_rpn_cls: 0.000  loss_rpn_loc: 0.018  time: 0.4733  data_time: 0.0020  lr: 0.000165  max_mem: 3778M\n",
      "\u001b[32m[04/13 07:20:30 d2.utils.events]: \u001b[0m eta: 0:06:31  iter: 679  total_loss: 1.281  loss_cls: 0.338  loss_box_reg: 0.475  loss_mask: 0.451  loss_rpn_cls: 0.001  loss_rpn_loc: 0.019  time: 0.4735  data_time: 0.0018  lr: 0.000170  max_mem: 3778M\n",
      "\u001b[32m[04/13 07:20:39 d2.utils.events]: \u001b[0m eta: 0:06:21  iter: 699  total_loss: 1.216  loss_cls: 0.261  loss_box_reg: 0.481  loss_mask: 0.411  loss_rpn_cls: 0.000  loss_rpn_loc: 0.019  time: 0.4729  data_time: 0.0018  lr: 0.000175  max_mem: 3778M\n",
      "\u001b[32m[04/13 07:20:48 d2.utils.events]: \u001b[0m eta: 0:06:12  iter: 719  total_loss: 1.155  loss_cls: 0.270  loss_box_reg: 0.407  loss_mask: 0.419  loss_rpn_cls: 0.001  loss_rpn_loc: 0.019  time: 0.4727  data_time: 0.0019  lr: 0.000180  max_mem: 3778M\n",
      "\u001b[32m[04/13 07:20:58 d2.utils.events]: \u001b[0m eta: 0:06:02  iter: 739  total_loss: 1.344  loss_cls: 0.312  loss_box_reg: 0.473  loss_mask: 0.441  loss_rpn_cls: 0.000  loss_rpn_loc: 0.022  time: 0.4732  data_time: 0.0017  lr: 0.000185  max_mem: 3778M\n",
      "\u001b[32m[04/13 07:21:08 d2.utils.events]: \u001b[0m eta: 0:05:53  iter: 759  total_loss: 1.310  loss_cls: 0.253  loss_box_reg: 0.514  loss_mask: 0.389  loss_rpn_cls: 0.002  loss_rpn_loc: 0.015  time: 0.4733  data_time: 0.0017  lr: 0.000190  max_mem: 3778M\n",
      "\u001b[32m[04/13 07:21:18 d2.utils.events]: \u001b[0m eta: 0:05:44  iter: 779  total_loss: 1.356  loss_cls: 0.269  loss_box_reg: 0.491  loss_mask: 0.418  loss_rpn_cls: 0.002  loss_rpn_loc: 0.017  time: 0.4738  data_time: 0.0017  lr: 0.000195  max_mem: 3778M\n",
      "\u001b[32m[04/13 07:21:28 d2.utils.events]: \u001b[0m eta: 0:05:35  iter: 799  total_loss: 1.027  loss_cls: 0.237  loss_box_reg: 0.338  loss_mask: 0.388  loss_rpn_cls: 0.001  loss_rpn_loc: 0.019  time: 0.4743  data_time: 0.0017  lr: 0.000200  max_mem: 3778M\n",
      "\u001b[32m[04/13 07:21:37 d2.utils.events]: \u001b[0m eta: 0:05:25  iter: 819  total_loss: 1.270  loss_cls: 0.255  loss_box_reg: 0.588  loss_mask: 0.404  loss_rpn_cls: 0.001  loss_rpn_loc: 0.023  time: 0.4745  data_time: 0.0019  lr: 0.000205  max_mem: 3778M\n",
      "\u001b[32m[04/13 07:21:47 d2.utils.events]: \u001b[0m eta: 0:05:16  iter: 839  total_loss: 1.002  loss_cls: 0.199  loss_box_reg: 0.353  loss_mask: 0.390  loss_rpn_cls: 0.000  loss_rpn_loc: 0.017  time: 0.4742  data_time: 0.0019  lr: 0.000210  max_mem: 3778M\n",
      "\u001b[32m[04/13 07:21:56 d2.utils.events]: \u001b[0m eta: 0:05:06  iter: 859  total_loss: 1.131  loss_cls: 0.266  loss_box_reg: 0.396  loss_mask: 0.400  loss_rpn_cls: 0.000  loss_rpn_loc: 0.015  time: 0.4743  data_time: 0.0019  lr: 0.000215  max_mem: 3778M\n",
      "\u001b[32m[04/13 07:22:06 d2.utils.events]: \u001b[0m eta: 0:04:57  iter: 879  total_loss: 0.800  loss_cls: 0.143  loss_box_reg: 0.194  loss_mask: 0.322  loss_rpn_cls: 0.000  loss_rpn_loc: 0.016  time: 0.4745  data_time: 0.0018  lr: 0.000220  max_mem: 3778M\n",
      "\u001b[32m[04/13 07:22:16 d2.utils.events]: \u001b[0m eta: 0:04:48  iter: 899  total_loss: 0.902  loss_cls: 0.194  loss_box_reg: 0.393  loss_mask: 0.374  loss_rpn_cls: 0.000  loss_rpn_loc: 0.016  time: 0.4748  data_time: 0.0019  lr: 0.000225  max_mem: 3778M\n",
      "\u001b[32m[04/13 07:22:25 d2.utils.events]: \u001b[0m eta: 0:04:38  iter: 919  total_loss: 1.207  loss_cls: 0.244  loss_box_reg: 0.479  loss_mask: 0.360  loss_rpn_cls: 0.000  loss_rpn_loc: 0.014  time: 0.4745  data_time: 0.0018  lr: 0.000230  max_mem: 3778M\n",
      "\u001b[32m[04/13 07:22:34 d2.utils.events]: \u001b[0m eta: 0:04:28  iter: 939  total_loss: 0.899  loss_cls: 0.192  loss_box_reg: 0.393  loss_mask: 0.365  loss_rpn_cls: 0.002  loss_rpn_loc: 0.011  time: 0.4742  data_time: 0.0018  lr: 0.000235  max_mem: 3778M\n",
      "\u001b[32m[04/13 07:22:44 d2.utils.events]: \u001b[0m eta: 0:04:19  iter: 959  total_loss: 1.198  loss_cls: 0.242  loss_box_reg: 0.455  loss_mask: 0.422  loss_rpn_cls: 0.001  loss_rpn_loc: 0.015  time: 0.4743  data_time: 0.0019  lr: 0.000240  max_mem: 3778M\n",
      "\u001b[32m[04/13 07:22:54 d2.utils.events]: \u001b[0m eta: 0:04:09  iter: 979  total_loss: 1.015  loss_cls: 0.197  loss_box_reg: 0.442  loss_mask: 0.416  loss_rpn_cls: 0.001  loss_rpn_loc: 0.033  time: 0.4748  data_time: 0.0019  lr: 0.000245  max_mem: 3778M\n",
      "\u001b[32m[04/13 07:23:03 d2.utils.events]: \u001b[0m eta: 0:03:59  iter: 999  total_loss: 1.088  loss_cls: 0.222  loss_box_reg: 0.434  loss_mask: 0.448  loss_rpn_cls: 0.001  loss_rpn_loc: 0.014  time: 0.4745  data_time: 0.0018  lr: 0.000250  max_mem: 3778M\n",
      "\u001b[32m[04/13 07:23:13 d2.utils.events]: \u001b[0m eta: 0:03:50  iter: 1019  total_loss: 1.012  loss_cls: 0.215  loss_box_reg: 0.323  loss_mask: 0.388  loss_rpn_cls: 0.001  loss_rpn_loc: 0.014  time: 0.4746  data_time: 0.0017  lr: 0.000250  max_mem: 3778M\n",
      "\u001b[32m[04/13 07:23:22 d2.utils.events]: \u001b[0m eta: 0:03:40  iter: 1039  total_loss: 0.886  loss_cls: 0.154  loss_box_reg: 0.358  loss_mask: 0.351  loss_rpn_cls: 0.000  loss_rpn_loc: 0.011  time: 0.4743  data_time: 0.0017  lr: 0.000250  max_mem: 3778M\n",
      "\u001b[32m[04/13 07:23:32 d2.utils.events]: \u001b[0m eta: 0:03:30  iter: 1059  total_loss: 0.868  loss_cls: 0.130  loss_box_reg: 0.371  loss_mask: 0.339  loss_rpn_cls: 0.001  loss_rpn_loc: 0.014  time: 0.4745  data_time: 0.0017  lr: 0.000250  max_mem: 3778M\n",
      "\u001b[32m[04/13 07:23:41 d2.utils.events]: \u001b[0m eta: 0:03:21  iter: 1079  total_loss: 1.257  loss_cls: 0.243  loss_box_reg: 0.549  loss_mask: 0.441  loss_rpn_cls: 0.001  loss_rpn_loc: 0.024  time: 0.4742  data_time: 0.0016  lr: 0.000250  max_mem: 3778M\n",
      "\u001b[32m[04/13 07:23:51 d2.utils.events]: \u001b[0m eta: 0:03:11  iter: 1099  total_loss: 1.114  loss_cls: 0.203  loss_box_reg: 0.489  loss_mask: 0.408  loss_rpn_cls: 0.001  loss_rpn_loc: 0.013  time: 0.4744  data_time: 0.0017  lr: 0.000250  max_mem: 3778M\n",
      "\u001b[32m[04/13 07:24:00 d2.utils.events]: \u001b[0m eta: 0:03:01  iter: 1119  total_loss: 0.828  loss_cls: 0.107  loss_box_reg: 0.332  loss_mask: 0.366  loss_rpn_cls: 0.001  loss_rpn_loc: 0.018  time: 0.4741  data_time: 0.0019  lr: 0.000250  max_mem: 3778M\n",
      "\u001b[32m[04/13 07:24:10 d2.utils.events]: \u001b[0m eta: 0:02:52  iter: 1139  total_loss: 0.860  loss_cls: 0.115  loss_box_reg: 0.394  loss_mask: 0.370  loss_rpn_cls: 0.001  loss_rpn_loc: 0.015  time: 0.4743  data_time: 0.0019  lr: 0.000250  max_mem: 3778M\n",
      "\u001b[32m[04/13 07:24:20 d2.utils.events]: \u001b[0m eta: 0:02:43  iter: 1159  total_loss: 1.355  loss_cls: 0.215  loss_box_reg: 0.615  loss_mask: 0.453  loss_rpn_cls: 0.005  loss_rpn_loc: 0.019  time: 0.4745  data_time: 0.0018  lr: 0.000250  max_mem: 3778M\n",
      "\u001b[32m[04/13 07:24:29 d2.utils.events]: \u001b[0m eta: 0:02:33  iter: 1179  total_loss: 0.780  loss_cls: 0.106  loss_box_reg: 0.255  loss_mask: 0.347  loss_rpn_cls: 0.002  loss_rpn_loc: 0.009  time: 0.4741  data_time: 0.0019  lr: 0.000250  max_mem: 3778M\n",
      "\u001b[32m[04/13 07:24:38 d2.utils.events]: \u001b[0m eta: 0:02:23  iter: 1199  total_loss: 1.177  loss_cls: 0.201  loss_box_reg: 0.470  loss_mask: 0.417  loss_rpn_cls: 0.004  loss_rpn_loc: 0.014  time: 0.4741  data_time: 0.0020  lr: 0.000250  max_mem: 3778M\n",
      "\u001b[32m[04/13 07:24:47 d2.utils.events]: \u001b[0m eta: 0:02:13  iter: 1219  total_loss: 1.072  loss_cls: 0.202  loss_box_reg: 0.458  loss_mask: 0.393  loss_rpn_cls: 0.001  loss_rpn_loc: 0.017  time: 0.4738  data_time: 0.0019  lr: 0.000250  max_mem: 3778M\n",
      "\u001b[32m[04/13 07:24:57 d2.utils.events]: \u001b[0m eta: 0:02:04  iter: 1239  total_loss: 0.890  loss_cls: 0.137  loss_box_reg: 0.302  loss_mask: 0.366  loss_rpn_cls: 0.001  loss_rpn_loc: 0.015  time: 0.4740  data_time: 0.0019  lr: 0.000250  max_mem: 3778M\n",
      "\u001b[32m[04/13 07:25:07 d2.utils.events]: \u001b[0m eta: 0:01:55  iter: 1259  total_loss: 1.058  loss_cls: 0.133  loss_box_reg: 0.433  loss_mask: 0.405  loss_rpn_cls: 0.001  loss_rpn_loc: 0.015  time: 0.4739  data_time: 0.0018  lr: 0.000250  max_mem: 3778M\n",
      "\u001b[32m[04/13 07:25:16 d2.utils.events]: \u001b[0m eta: 0:01:45  iter: 1279  total_loss: 1.170  loss_cls: 0.196  loss_box_reg: 0.463  loss_mask: 0.430  loss_rpn_cls: 0.001  loss_rpn_loc: 0.011  time: 0.4737  data_time: 0.0019  lr: 0.000250  max_mem: 3778M\n",
      "\u001b[32m[04/13 07:25:26 d2.utils.events]: \u001b[0m eta: 0:01:36  iter: 1299  total_loss: 1.062  loss_cls: 0.112  loss_box_reg: 0.429  loss_mask: 0.369  loss_rpn_cls: 0.001  loss_rpn_loc: 0.014  time: 0.4739  data_time: 0.0020  lr: 0.000250  max_mem: 3778M\n",
      "\u001b[32m[04/13 07:25:35 d2.utils.events]: \u001b[0m eta: 0:01:26  iter: 1319  total_loss: 0.506  loss_cls: 0.073  loss_box_reg: 0.178  loss_mask: 0.272  loss_rpn_cls: 0.001  loss_rpn_loc: 0.015  time: 0.4738  data_time: 0.0019  lr: 0.000250  max_mem: 3778M\n",
      "\u001b[32m[04/13 07:25:45 d2.utils.events]: \u001b[0m eta: 0:01:16  iter: 1339  total_loss: 0.899  loss_cls: 0.160  loss_box_reg: 0.398  loss_mask: 0.400  loss_rpn_cls: 0.001  loss_rpn_loc: 0.015  time: 0.4739  data_time: 0.0018  lr: 0.000250  max_mem: 3778M\n",
      "\u001b[32m[04/13 07:25:54 d2.utils.events]: \u001b[0m eta: 0:01:07  iter: 1359  total_loss: 0.908  loss_cls: 0.135  loss_box_reg: 0.360  loss_mask: 0.391  loss_rpn_cls: 0.001  loss_rpn_loc: 0.014  time: 0.4735  data_time: 0.0019  lr: 0.000250  max_mem: 3778M\n",
      "\u001b[32m[04/13 07:26:03 d2.utils.events]: \u001b[0m eta: 0:00:57  iter: 1379  total_loss: 0.918  loss_cls: 0.108  loss_box_reg: 0.430  loss_mask: 0.392  loss_rpn_cls: 0.001  loss_rpn_loc: 0.016  time: 0.4735  data_time: 0.0018  lr: 0.000250  max_mem: 3778M\n",
      "\u001b[32m[04/13 07:26:13 d2.utils.events]: \u001b[0m eta: 0:00:48  iter: 1399  total_loss: 1.067  loss_cls: 0.164  loss_box_reg: 0.450  loss_mask: 0.440  loss_rpn_cls: 0.001  loss_rpn_loc: 0.016  time: 0.4736  data_time: 0.0015  lr: 0.000250  max_mem: 3778M\n",
      "\u001b[32m[04/13 07:26:23 d2.utils.events]: \u001b[0m eta: 0:00:38  iter: 1419  total_loss: 0.921  loss_cls: 0.106  loss_box_reg: 0.360  loss_mask: 0.385  loss_rpn_cls: 0.001  loss_rpn_loc: 0.022  time: 0.4736  data_time: 0.0017  lr: 0.000250  max_mem: 3778M\n",
      "\u001b[32m[04/13 07:26:32 d2.utils.events]: \u001b[0m eta: 0:00:29  iter: 1439  total_loss: 0.979  loss_cls: 0.151  loss_box_reg: 0.293  loss_mask: 0.415  loss_rpn_cls: 0.001  loss_rpn_loc: 0.023  time: 0.4737  data_time: 0.0016  lr: 0.000250  max_mem: 3778M\n",
      "\u001b[32m[04/13 07:26:42 d2.utils.events]: \u001b[0m eta: 0:00:19  iter: 1459  total_loss: 0.726  loss_cls: 0.071  loss_box_reg: 0.273  loss_mask: 0.338  loss_rpn_cls: 0.001  loss_rpn_loc: 0.020  time: 0.4738  data_time: 0.0016  lr: 0.000250  max_mem: 3778M\n",
      "\u001b[32m[04/13 07:26:51 d2.utils.events]: \u001b[0m eta: 0:00:10  iter: 1479  total_loss: 0.895  loss_cls: 0.101  loss_box_reg: 0.422  loss_mask: 0.356  loss_rpn_cls: 0.001  loss_rpn_loc: 0.022  time: 0.4738  data_time: 0.0016  lr: 0.000250  max_mem: 3778M\n",
      "\u001b[32m[04/13 07:27:09 d2.utils.events]: \u001b[0m eta: 0:00:00  iter: 1499  total_loss: 0.976  loss_cls: 0.110  loss_box_reg: 0.377  loss_mask: 0.393  loss_rpn_cls: 0.001  loss_rpn_loc: 0.011  time: 0.4737  data_time: 0.0016  lr: 0.000250  max_mem: 3778M\n",
      "\u001b[32m[04/13 07:27:09 d2.engine.hooks]: \u001b[0mOverall training speed: 1497 iterations in 0:11:49 (0.4740 s / it)\n",
      "\u001b[32m[04/13 07:27:09 d2.engine.hooks]: \u001b[0mTotal training time: 0:12:02 (0:00:12 on hooks)\n"
     ]
    }
   ],
   "source": [
    "# 出力先のディレクトリを作る\n",
    "os.makedirs(cfg.OUTPUT_DIR, exist_ok=True)\n",
    "\n",
    "trainer = MachikadoTrainer(cfg) \n",
    "trainer.resume_or_load(resume=False) # True で途中から学習できるらしい\n",
    "trainer.train()"
   ]
  },
  {
   "cell_type": "code",
   "execution_count": null,
   "metadata": {},
   "outputs": [],
   "source": []
  },
  {
   "cell_type": "code",
   "execution_count": null,
   "metadata": {},
   "outputs": [],
   "source": []
  }
 ],
 "metadata": {
  "kernelspec": {
   "display_name": "Python 3",
   "language": "python",
   "name": "python3"
  },
  "language_info": {
   "codemirror_mode": {
    "name": "ipython",
    "version": 3
   },
   "file_extension": ".py",
   "mimetype": "text/x-python",
   "name": "python",
   "nbconvert_exporter": "python",
   "pygments_lexer": "ipython3",
   "version": "3.7.4"
  }
 },
 "nbformat": 4,
 "nbformat_minor": 4
}
